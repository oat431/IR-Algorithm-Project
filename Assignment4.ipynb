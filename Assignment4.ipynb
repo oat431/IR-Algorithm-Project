{
 "cells": [
  {
   "cell_type": "code",
   "execution_count": 2,
   "id": "d8f02396",
   "metadata": {},
   "outputs": [],
   "source": [
    "import pandas as pd\n",
    "import numpy as np\n",
    "from scipy.stats import pearsonr\n",
    "from sklearn import linear_model, tree, svm"
   ]
  },
  {
   "cell_type": "code",
   "execution_count": 17,
   "id": "65005a30",
   "metadata": {},
   "outputs": [
    {
     "name": "stdout",
     "output_type": "stream",
     "text": [
      "Collecting openpyxl\n",
      "  Using cached openpyxl-3.0.10-py2.py3-none-any.whl (242 kB)\n",
      "Collecting et-xmlfile\n",
      "  Using cached et_xmlfile-1.1.0-py3-none-any.whl (4.7 kB)\n",
      "Installing collected packages: et-xmlfile, openpyxl\n",
      "Successfully installed et-xmlfile-1.1.0 openpyxl-3.0.10\n",
      "Note: you may need to restart the kernel to use updated packages.\n"
     ]
    }
   ],
   "source": [
    "pip install openpyxl"
   ]
  },
  {
   "cell_type": "markdown",
   "id": "154917a8",
   "metadata": {},
   "source": [
    "## Load data (analogy)"
   ]
  },
  {
   "cell_type": "code",
   "execution_count": 33,
   "id": "a61400aa",
   "metadata": {},
   "outputs": [],
   "source": [
    "def load_data(path, effort_label, to_drop):\n",
    "    if path.endswith('csv'):\n",
    "        dataset = pd.read_csv(path).drop(to_drop, axis=1).replace(-1, np.nan).dropna()\n",
    "    elif path.endswith('xlsx'):\n",
    "        dataset = pd.read_excel(path).drop(to_drop, axis=1).replace(-1, np.nan).dropna()\n",
    "    else:\n",
    "        return None\n",
    "\n",
    "    train = dataset.iloc[:-1]\n",
    "    test  = dataset.iloc[-1]\n",
    "    train_X = train.drop(effort_label, axis=1)\n",
    "    test_X = test.drop(effort_label)\n",
    "    train_y = train[effort_label]\n",
    "    test_y = test[effort_label]\n",
    "\n",
    "    return (train_X, train_y, test_X, test_y)"
   ]
  },
  {
   "cell_type": "code",
   "execution_count": 4,
   "id": "cc8b856d",
   "metadata": {},
   "outputs": [],
   "source": [
    "def interval01(train_X, test_X):\n",
    "    max_X = np.max(train_X, axis=0)\n",
    "    min_X = np.min(train_X, axis=0)\n",
    "\n",
    "    train_X_adj = (train_X - min_X) / (max_X - min_X)\n",
    "    test_X_adj = (test_X - min_X) / (max_X - min_X)\n",
    "\n",
    "    return (train_X_adj, test_X_adj)"
   ]
  },
  {
   "cell_type": "code",
   "execution_count": 5,
   "id": "fc226d43",
   "metadata": {},
   "outputs": [],
   "source": [
    "def calculate_nn(train_X, test_X, categorical_label):\n",
    "\n",
    "    train_X_adj, test_X_adj = interval01(train_X, test_X)\n",
    "\n",
    "    numerical_distance = (train_X_adj.drop(categorical_label, axis=1) - test_X_adj.drop(categorical_label)) ** 2\n",
    "    categorical_distance = (1*(train_X_adj[categorical_label] == test_X_adj[categorical_label]))\n",
    "    euc_distance = np.sqrt(np.sum(pd.concat([numerical_distance, categorical_distance], axis=1), axis=1)/np.shape(train_X)[0])\n",
    "    rank = np.argsort(euc_distance).values\n",
    "    return rank"
   ]
  },
  {
   "cell_type": "code",
   "execution_count": 6,
   "id": "2169c391",
   "metadata": {},
   "outputs": [],
   "source": [
    "def uavg(rank, train_y, k):\n",
    "    estimate_effort = np.mean(train_y[rank[:k]])\n",
    "    return estimate_effort"
   ]
  },
  {
   "cell_type": "code",
   "execution_count": 7,
   "id": "2f0572bd",
   "metadata": {},
   "outputs": [],
   "source": [
    "def irwm(rank, train_y, k):\n",
    "    estimate_effort = np.sum((list(range(k,0,-1)) * train_y[rank[:k]])/np.sum(range(k+1)))\n",
    "    return estimate_effort"
   ]
  },
  {
   "cell_type": "code",
   "execution_count": 8,
   "id": "d22577cb",
   "metadata": {},
   "outputs": [],
   "source": [
    "def lsa(rank, train_y, k, train_X, test_X, size_label):\n",
    "    software_size_train = train_X[size_label]\n",
    "    software_size_test = test_X[size_label]\n",
    "    estimate_effort = np.mean(train_y[rank[:k]]/software_size_train[rank[:k]]) * software_size_test\n",
    "    return estimate_effort"
   ]
  },
  {
   "cell_type": "code",
   "execution_count": 9,
   "id": "34d2546f",
   "metadata": {},
   "outputs": [],
   "source": [
    "def rtm(rank, train_y, k, train_X, test_X, categorical_label, size_label, group_label):\n",
    "    software_size_train = train_X[size_label]\n",
    "    productivity_train = train_y / software_size_train\n",
    "\n",
    "    software_size_test = test_X[size_label]\n",
    "    group_test = test_X[group_label].iloc[0]\n",
    "\n",
    "    M = productivity_train.loc[(train_X[group_label] == group_test).values].mean()\n",
    "\n",
    "    all_analogues_productivity = productivity_train * 0\n",
    "    for i in train_X.index:\n",
    "        analogues_train = train_X.drop([i])\n",
    "        analogues_test = train_X.loc[i]\n",
    "        all_analogues_productivity.loc[i] = productivity_train.iloc[calculate_nn(analogues_train, analogues_test, categorical_label)[0]]\n",
    "\n",
    "    r, _ = pearsonr(productivity_train.loc[(train_X[group_label] == group_test).values], all_analogues_productivity.loc[(train_X[group_label] == group_test).values],)\n",
    "\n",
    "    estimate_effort = software_size_test * ( (1/k*software_size_train[rank[:k]].sum()) + (M - (1/k*software_size_train[rank[:k]].sum()) * (1-r)) )\n",
    "\n",
    "    return estimate_effort"
   ]
  },
  {
   "cell_type": "markdown",
   "id": "f2e6f039",
   "metadata": {},
   "source": [
    "## main analogy"
   ]
  },
  {
   "cell_type": "code",
   "execution_count": 36,
   "id": "517024fe",
   "metadata": {},
   "outputs": [
    {
     "name": "stdout",
     "output_type": "stream",
     "text": [
      "{'actual': 6.1, 'uavg': 7.366666666666667, 'irwm': 8.35, 'lsa': 8.144699694752541, 'rtm': 2878.1471786356806}\n",
      "{'uavg err': 1.2666666666666675, 'irwm err': 2.25, 'lsa err': 2.0446996947525413, 'rtm err': 21061.85282136432}\n"
     ]
    }
   ],
   "source": [
    "    k=3\n",
    "    path='albrecht.xlsx'\n",
    "    effort_label='Effort'\n",
    "    size_label='AdjFP'\n",
    "    categorical_label = []\n",
    "    group_label = []\n",
    "    to_drop = ['id','FPAdj','RawFP']\n",
    "\n",
    "    train_X, train_y, test_X, test_y = load_data(path, effort_label, to_drop)\n",
    "    rank = calculate_nn(train_X, test_X, categorical_label)\n",
    "\n",
    "    estimate_effort_uavg = uavg(rank, train_y, k)\n",
    "    estimate_effort_irwm = irwm(rank, train_y, k)\n",
    "    estimate_effort_lsa = lsa(rank, train_y, k, train_X, test_X, size_label)\n",
    "#     estimate_effort_rtm = rtm(rank, train_y, k, train_X, test_X, categorical_label, size_label, group_label)\n",
    "\n",
    "    print({'actual': test_y, 'uavg': estimate_effort_uavg, 'irwm': estimate_effort_irwm, 'lsa': estimate_effort_lsa, 'rtm': estimate_effort_rtm})\n",
    "\n",
    "    err_uavg = np.abs(estimate_effort_uavg-test_y)\n",
    "    err_irwm = np.abs(estimate_effort_irwm-test_y)\n",
    "    err_lsa = np.abs(estimate_effort_lsa-test_y)\n",
    "#     err_rtm = np.abs(estimate_effort_rtm-test_y)\n",
    "\n",
    "    print({'uavg err': err_uavg, 'irwm err': err_irwm, 'lsa err': err_lsa, 'rtm err': err_rtm})"
   ]
  },
  {
   "cell_type": "markdown",
   "id": "423314d0",
   "metadata": {},
   "source": [
    "## ML anology"
   ]
  },
  {
   "cell_type": "code",
   "execution_count": 28,
   "id": "9c5e140c",
   "metadata": {},
   "outputs": [
    {
     "name": "stdout",
     "output_type": "stream",
     "text": [
      "{'actual': 6.1, 'dt': array([8.]), 'ols': array([-3.87556928]), 'svr': array([9.82936682])}\n",
      "{'dt err': array([1.9]), 'ols err': array([9.97556928]), 'svr err': array([3.72936682])}\n"
     ]
    }
   ],
   "source": [
    "\n",
    "    path='albrecht.xlsx'\n",
    "    effort_label='Effort'\n",
    "    size_label='AdjFP'\n",
    "    categorical_label = []\n",
    "    to_drop = ['id','FPAdj','RawFP']\n",
    "\n",
    "    train_X, train_y, test_X, test_y = load_data(path, effort_label, to_drop)\n",
    "\n",
    "    clf = tree.DecisionTreeRegressor()\n",
    "    clf = clf.fit(train_X, train_y)\n",
    "    estimate_effort_dt = clf.predict(pd.DataFrame(test_X).T)\n",
    "\n",
    "    clf = linear_model.LinearRegression()\n",
    "    clf = clf.fit(train_X, train_y)\n",
    "    estimate_effort_ols = clf.predict(pd.DataFrame(test_X).T)\n",
    "\n",
    "    clf = svm.SVR()\n",
    "    clf = clf.fit(train_X, train_y)\n",
    "    estimate_effort_svr = clf.predict(pd.DataFrame(test_X).T)\n",
    "\n",
    "    print({'actual': test_y, 'dt': estimate_effort_dt, 'ols': estimate_effort_ols, 'svr': estimate_effort_svr})\n",
    "\n",
    "    err_dt = np.abs(estimate_effort_dt - test_y)\n",
    "    err_ols = np.abs(estimate_effort_ols - test_y)\n",
    "    err_svr = np.abs(estimate_effort_svr - test_y)\n",
    "\n",
    "    print({'dt err': err_dt, 'ols err': err_ols, 'svr err': err_svr})"
   ]
  },
  {
   "cell_type": "markdown",
   "id": "d254cdad",
   "metadata": {},
   "source": [
    "## Main Main anology"
   ]
  },
  {
   "cell_type": "code",
   "execution_count": 37,
   "id": "d50971ee",
   "metadata": {},
   "outputs": [
    {
     "name": "stdout",
     "output_type": "stream",
     "text": [
      "{'actual': 6.1, 'uavg': 7.366666666666667, 'irwm': 8.35, 'lsa': 8.144699694752541, 'rtm': 2878.1471786356806}\n"
     ]
    }
   ],
   "source": [
    "    k = 3\n",
    "    path='albrecht.xlsx'\n",
    "    effort_label='Effort'\n",
    "    size_label='AdjFP'\n",
    "    categorical_label = []\n",
    "    group_label = []\n",
    "    to_drop = ['id','FPAdj','RawFP']\n",
    "\n",
    "    train_X, train_y, test_X, test_y = load_data(path, effort_label, to_drop)\n",
    "    rank = calculate_nn(train_X, test_X, categorical_label)\n",
    "\n",
    "    estimate_effort_uavg = uavg(rank, train_y, k)\n",
    "    estimate_effort_irwm = irwm(rank, train_y, k)\n",
    "    estimate_effort_lsa = lsa(rank, train_y, k, train_X, test_X, size_label)\n",
    "\n",
    "    print({'actual': test_y, 'uavg': estimate_effort_uavg, 'irwm': estimate_effort_irwm, 'lsa': estimate_effort_lsa,\n",
    "           'rtm': estimate_effort_rtm})\n",
    "\n",
    "    err_uavg = np.abs(estimate_effort_uavg - test_y)\n",
    "    err_irwm = np.abs(estimate_effort_irwm - test_y)\n",
    "    err_lsa = np.abs(estimate_effort_lsa - test_y)\n"
   ]
  },
  {
   "cell_type": "code",
   "execution_count": null,
   "id": "917ebf72",
   "metadata": {},
   "outputs": [],
   "source": []
  }
 ],
 "metadata": {
  "kernelspec": {
   "display_name": "Python 3 (ipykernel)",
   "language": "python",
   "name": "python3"
  },
  "language_info": {
   "codemirror_mode": {
    "name": "ipython",
    "version": 3
   },
   "file_extension": ".py",
   "mimetype": "text/x-python",
   "name": "python",
   "nbconvert_exporter": "python",
   "pygments_lexer": "ipython3",
   "version": "3.9.7"
  }
 },
 "nbformat": 4,
 "nbformat_minor": 5
}
