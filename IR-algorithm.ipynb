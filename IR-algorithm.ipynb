{
 "cells": [
  {
   "cell_type": "markdown",
   "id": "be51ba6b",
   "metadata": {},
   "source": [
    "# All algorithm will be here"
   ]
  },
  {
   "cell_type": "markdown",
   "id": "6d99b988",
   "metadata": {},
   "source": [
    "# essential library"
   ]
  },
  {
   "cell_type": "code",
   "execution_count": 1,
   "id": "8246d85f",
   "metadata": {},
   "outputs": [],
   "source": [
    "import pandas as pd # do some data\n",
    "import string\n",
    "import timeit # just import for timer\n",
    "import numpy as np\n",
    "import json\n",
    "import re\n",
    "\n",
    "from sklearn.feature_extraction.text import CountVectorizer\n",
    "from sklearn.feature_extraction.text import TfidfVectorizer # tf-idf built in function\n",
    "from scipy import sparse\n",
    "\n",
    "import nltk\n",
    "from nltk import ngrams\n",
    "from nltk.tokenize import word_tokenize\n",
    "from nltk.corpus import stopwords\n",
    "from nltk.stem import PorterStemmer\n",
    "from sklearn.metrics.pairwise import cosine_similarity"
   ]
  },
  {
   "cell_type": "code",
   "execution_count": 9,
   "id": "e820c5fa",
   "metadata": {},
   "outputs": [],
   "source": [
    "data = pd.read_csv('lyrics-data.csv')\n",
    "data = data.drop_duplicates()\n",
    "data = data[data.Idiom == \"ENGLISH\"]\n",
    "vectorizer = TfidfVectorizer(ngram_range=(1,3))\n",
    "X = vectorizer.fit_transform(data[\"Lyric\"].astype('U'))"
   ]
  },
  {
   "cell_type": "code",
   "execution_count": 10,
   "id": "7ba2f1c5",
   "metadata": {},
   "outputs": [],
   "source": [
    "def get_and_clean_lyric():\n",
    "    description = data[data.Idiom == \"ENGLISH\"][\"Lyric\"]\n",
    "    cleaned_description = description.apply(lambda s: s.translate(str.maketrans('', '', string.punctuation + u'\\xa0')))\n",
    "    cleaned_description = cleaned_description.apply(lambda s: s.lower())\n",
    "    cleaned_description = cleaned_description.apply(lambda s: s.translate(str.maketrans(string.whitespace, ' '*len(string.whitespace), '')))\n",
    "    cleaned_description = cleaned_description.drop_duplicates()\n",
    "    return cleaned_description"
   ]
  },
  {
   "cell_type": "code",
   "execution_count": 11,
   "id": "bae8da72",
   "metadata": {},
   "outputs": [],
   "source": [
    "class BM25(object):\n",
    "    def __init__(self, b=0.75, k1=1.6):\n",
    "        self.vectorizer = TfidfVectorizer(norm=None, smooth_idf=False,ngram_range=(1,3))\n",
    "        self.b = b\n",
    "        self.k1 = k1\n",
    "\n",
    "    def fit(self, X):\n",
    "        self.vectorizer.fit(X)\n",
    "        y = super(TfidfVectorizer, self.vectorizer).transform(X)\n",
    "        self.avdl = y.sum(1).mean()\n",
    "\n",
    "    def transform(self, q, X):\n",
    "        b, k1, avdl = self.b, self.k1, self.avdl\n",
    "\n",
    "        X = super(TfidfVectorizer, self.vectorizer).transform(X)\n",
    "        len_X = X.sum(1).A1\n",
    "        q, = super(TfidfVectorizer, self.vectorizer).transform([q])\n",
    "        assert sparse.isspmatrix_csr(q)\n",
    "\n",
    "        X = X.tocsc()[:, q.indices]\n",
    "        denom = X + (k1 * (1 - b + b * len_X / avdl))[:, None]\n",
    "        idf = self.vectorizer._tfidf.idf_[None, q.indices] - 1.\n",
    "        numer = X.multiply(np.broadcast_to(idf, X.shape)) * (k1 + 1)                                                          \n",
    "        return (numer / denom).sum(1).A1"
   ]
  },
  {
   "cell_type": "code",
   "execution_count": 12,
   "id": "16e8e2e4",
   "metadata": {},
   "outputs": [],
   "source": [
    "bm25 = BM25()\n",
    "bm25.fit(data[\"Lyric\"].astype('U'))"
   ]
  },
  {
   "cell_type": "markdown",
   "id": "5e194ef1",
   "metadata": {},
   "source": [
    "## get all artists"
   ]
  },
  {
   "cell_type": "code",
   "execution_count": 7,
   "id": "f276597f",
   "metadata": {},
   "outputs": [],
   "source": [
    "def convert_to_list(genres) :\n",
    "    if type(genres) == float :\n",
    "        return []\n",
    "    return genres.split('; ')  \n",
    "\n",
    "class Artists :\n",
    "    def __init__(self,artists,song,popularity,link,genre,genres) :\n",
    "        self.artists = artists\n",
    "        self.song = song\n",
    "        self.popularity = popularity\n",
    "        self.link = link\n",
    "        self.genre = genre\n",
    "        self.genres = genres\n",
    "    \n",
    "    def get_artist(self) :\n",
    "        return {\n",
    "            \"artists\" : self.artists,\n",
    "            \"song\" : self.song, \n",
    "            \"popularity\" : self.popularity,\n",
    "            \"link\" : self.link,\n",
    "            \"genre\" :self.genre,\n",
    "            \"genres\" : convert_to_list(self.genres)\n",
    "        }\n",
    "    \n",
    "\n",
    "        "
   ]
  },
  {
   "cell_type": "code",
   "execution_count": 8,
   "id": "d23c21c5",
   "metadata": {},
   "outputs": [],
   "source": [
    "def get_all_artists():\n",
    "    data = pd.read_csv('artists-data.csv')\n",
    "    artists = []\n",
    "    for i in range(len(data)):\n",
    "        artist = Artists(\n",
    "            data.iloc[i].to_dict()[\"Artist\"],\n",
    "            data.iloc[i].to_dict()[\"Songs\"],\n",
    "            data.iloc[i].to_dict()[\"Popularity\"],\n",
    "            data.iloc[i].to_dict()[\"Link\"],\n",
    "            data.iloc[i].to_dict()[\"Genre\"],\n",
    "            data.iloc[i].to_dict()[\"Genres\"]\n",
    "        )\n",
    "        artists.append(json.dumps(artist.get_artist())) \n",
    "    print(artists[0])"
   ]
  },
  {
   "cell_type": "code",
   "execution_count": 8,
   "id": "532c6170",
   "metadata": {},
   "outputs": [
    {
     "name": "stdout",
     "output_type": "stream",
     "text": [
      "{\"artists\": \"10000 Maniacs\", \"song\": 110, \"popularity\": 0.3, \"link\": \"/10000-maniacs/\", \"genre\": \"Rock\", \"genres\": [\"Rock\", \"Pop\", \"Electronica\", \"Dance\", \"J-Pop/J-Rock\", \"Gospel/Religioso\", \"Infantil\", \"Emocore\"]}\n"
     ]
    }
   ],
   "source": [
    "get_all_artists()"
   ]
  },
  {
   "cell_type": "code",
   "execution_count": 9,
   "id": "e87ed9b4",
   "metadata": {},
   "outputs": [],
   "source": [
    "def get_artists_by_name(name):\n",
    "    data = pd.read_csv('artists-data.csv')\n",
    "    query = name.lower()\n",
    "    artists = []\n",
    "    for i in range(len(data)) :\n",
    "        musician = data.iloc[i].to_dict()[\"Artist\"].lower()\n",
    "        if query in musician:\n",
    "            artist = Artists(\n",
    "                data.iloc[i].to_dict()[\"Artist\"],\n",
    "                data.iloc[i].to_dict()[\"Songs\"],\n",
    "                data.iloc[i].to_dict()[\"Popularity\"],\n",
    "                data.iloc[i].to_dict()[\"Link\"],\n",
    "                data.iloc[i].to_dict()[\"Genre\"],\n",
    "                data.iloc[i].to_dict()[\"Genres\"]\n",
    "            )\n",
    "            artists.append(json.dumps(artist.get_artist()))\n",
    "    \n",
    "    if len(artists) == 0:\n",
    "        return \"not found\"\n",
    "    return artists"
   ]
  },
  {
   "cell_type": "code",
   "execution_count": 10,
   "id": "a8c6945a",
   "metadata": {},
   "outputs": [
    {
     "name": "stdout",
     "output_type": "stream",
     "text": [
      "['{\"artists\": \"Taylor Swift\", \"song\": 261, \"popularity\": 28.1, \"link\": \"/taylor-swift/\", \"genre\": \"Pop\", \"genres\": [\"Pop\", \"Rom\\\\u00e2ntico\", \"Pop/Rock\", \"Country\", \"Electro Swing\", \"Dance\", \"House\", \"Funk Carioca\", \"Black Music\", \"Funk\", \"Ax\\\\u00e9\", \"Electronica\", \"Indie\", \"R&B\", \"Sertanejo\", \"Hip Hop\", \"Pop/Punk\", \"Trilha Sonora\", \"Rap\", \"Rock Alternativo\", \"Emocore\", \"Rock\", \"Blues\", \"Chillout\", \"Piano Rock\", \"Disco\", \"Hard Rock\", \"Reggae\", \"Velha Guarda\", \"J-Pop/J-Rock\", \"Jazz\", \"Pagode\", \"Tecnopop\", \"Folk\", \"Cl\\\\u00e1ssico\", \"Forr\\\\u00f3\", \"Gospel/Religioso\"]}']\n"
     ]
    }
   ],
   "source": [
    "print(get_artists_by_name(\"taylor\"))"
   ]
  },
  {
   "cell_type": "markdown",
   "id": "9413a3e6",
   "metadata": {},
   "source": [
    "## song part"
   ]
  },
  {
   "cell_type": "code",
   "execution_count": 13,
   "id": "da0d6891",
   "metadata": {},
   "outputs": [],
   "source": [
    "class Songs :\n",
    "    def __init__(self,alink,sname,lyric) :\n",
    "        self.alink = alink\n",
    "        self.sname = sname\n",
    "        self.lyric = lyric\n",
    "        \n",
    "    def get_song(self) :\n",
    "        return {\n",
    "            \"name\" : self.sname, \n",
    "            \"lyric\" : self.lyric,\n",
    "            \"artist\" : self.alink,\n",
    "        }\n"
   ]
  },
  {
   "cell_type": "code",
   "execution_count": 14,
   "id": "d257a126",
   "metadata": {},
   "outputs": [],
   "source": [
    "class QuerySongs :\n",
    "    def __init__(self,rank,alink,sname,query_before,query_after) :\n",
    "        self.rank = rank\n",
    "        self.alink = alink\n",
    "        self.sname = sname\n",
    "        self.query_before = query_before\n",
    "        self.query_after = query_after\n",
    "        \n",
    "    def get_song(self) :\n",
    "        return {\n",
    "            \"rank\" : self.rank,\n",
    "            \"artist\" : self.alink,\n",
    "            \"song\" : self.sname, \n",
    "            \"queryBefore\" : self.query_before,\n",
    "            \"queryAfter\" : self.query_after,\n",
    "        }\n"
   ]
  },
  {
   "cell_type": "code",
   "execution_count": 12,
   "id": "8eb4b864",
   "metadata": {},
   "outputs": [],
   "source": [
    "def get_all_song():\n",
    "    data = pd.read_csv('lyrics-data.csv')\n",
    "    songs = []\n",
    "    for i in range(50):\n",
    "        song = Songs(\n",
    "            data.iloc[i].to_dict()[\"ALink\"],\n",
    "            data.iloc[i].to_dict()[\"SName\"],\n",
    "            data.iloc[i].to_dict()[\"Lyric\"],\n",
    "        )\n",
    "        songs.append(json.dumps(song.get_song())) \n",
    "    print(songs[1])"
   ]
  },
  {
   "cell_type": "code",
   "execution_count": 15,
   "id": "493c5288",
   "metadata": {},
   "outputs": [],
   "source": [
    "def get_song_by_name(name):\n",
    "    songs = data[data.SName == name]\n",
    "    for i in range(len(songs)) :\n",
    "        print(\"Song name:\",songs.iloc[i][\"SName\"])\n",
    "        print(\"By:\",songs.iloc[i][\"ALink\"])\n",
    "        print(\"Lyric:\",songs.iloc[i][\"Lyric\"])\n",
    "        print()"
   ]
  },
  {
   "cell_type": "code",
   "execution_count": 111,
   "id": "4615ec7f",
   "metadata": {},
   "outputs": [],
   "source": [
    "get_all_song()"
   ]
  },
  {
   "cell_type": "code",
   "execution_count": 16,
   "id": "33aec20b",
   "metadata": {},
   "outputs": [],
   "source": [
    "def clean_lyric(lyric):\n",
    "    ps = PorterStemmer()\n",
    "    s = word_tokenize(lyric)\n",
    "    stopwords_set = set(stopwords.words())\n",
    "    stop_dict = {s: 1 for s in stopwords_set}\n",
    "    s = [w for w in s if w not in stop_dict]\n",
    "    s = [ps.stem(w) for w in s]\n",
    "    s = ' '.join(s)\n",
    "    return s"
   ]
  },
  {
   "cell_type": "markdown",
   "id": "6ac1e9ca",
   "metadata": {},
   "source": [
    "# Search Feature"
   ]
  },
  {
   "cell_type": "markdown",
   "id": "7a94414f",
   "metadata": {},
   "source": [
    "# Search By Tf"
   ]
  },
  {
   "cell_type": "code",
   "execution_count": 15,
   "id": "76fc24ec",
   "metadata": {},
   "outputs": [],
   "source": [
    "def search_by_tf(query):\n",
    "    lyric = get_and_clean_lyric()\n",
    "    vectorizer = CountVectorizer(preprocessor=clean_lyric,ngram_range=(1,3))\n",
    "    vectorizer.fit_transform(lyric)\n",
    "    result = vectorizer.transform([query])\n",
    "    print(result)"
   ]
  },
  {
   "cell_type": "markdown",
   "id": "4f6ddfb1",
   "metadata": {},
   "source": [
    "# Search By Tf-idf"
   ]
  },
  {
   "cell_type": "code",
   "execution_count": 17,
   "id": "ecbcce0f",
   "metadata": {},
   "outputs": [],
   "source": [
    "def serach_by_tf_idf(query):\n",
    "    query_vec = vectorizer.transform([query])\n",
    "    results = cosine_similarity(X,query_vec).reshape((-1,))\n",
    "    return results.argsort()[-10:][::-1]\n",
    "#         print(data.iloc[i,0],\"--\",data.iloc[i,1])"
   ]
  },
  {
   "cell_type": "markdown",
   "id": "6e85e327",
   "metadata": {},
   "source": [
    "# Search By BM25"
   ]
  },
  {
   "cell_type": "code",
   "execution_count": 18,
   "id": "6bf7189d",
   "metadata": {},
   "outputs": [],
   "source": [
    "def search_by_bm25(query):\n",
    "    result = bm25.transform(query,data[data.Idiom == \"ENGLISH\"][\"Lyric\"].astype('U'))\n",
    "    return result.argsort()[-10:][::-1]"
   ]
  },
  {
   "cell_type": "markdown",
   "id": "33dfeb1d",
   "metadata": {},
   "source": [
    "# Search Song algorithm"
   ]
  },
  {
   "cell_type": "code",
   "execution_count": 19,
   "id": "6141c2bc",
   "metadata": {},
   "outputs": [],
   "source": [
    "def get_song_by_lyric(query,score) :\n",
    "    lyric = query.lower()\n",
    "    result = []\n",
    "    rank = 1\n",
    "    if score == 'tf' :\n",
    "        search_by_tf(query)\n",
    "        return\n",
    "    \n",
    "    if score == 'tf-idf':\n",
    "        songs = serach_by_tf_idf(lyric)\n",
    "        for i in songs: \n",
    "            song = QuerySongs(\n",
    "                rank,\n",
    "                data.iloc[i].to_dict()[\"ALink\"],\n",
    "                data.iloc[i].to_dict()[\"SName\"],\n",
    "                query,\n",
    "                clean_lyric(lyric)\n",
    "            )\n",
    "            rank+=1\n",
    "            result.append(json.dumps(song.get_song())) \n",
    "        print(result)\n",
    "        return\n",
    "    if score == 'bm25' :\n",
    "        songs = search_by_bm25(query)\n",
    "        for i in songs: \n",
    "            song = QuerySongs(\n",
    "                rank,\n",
    "                data.iloc[i].to_dict()[\"ALink\"],\n",
    "                data.iloc[i].to_dict()[\"SName\"],\n",
    "                query,\n",
    "                clean_lyric(lyric)\n",
    "            )\n",
    "            rank+=1\n",
    "            result.append(json.dumps(song.get_song())) \n",
    "        print(result)\n",
    "        return \n",
    "    print('in correct method for seaching')"
   ]
  },
  {
   "cell_type": "code",
   "execution_count": null,
   "id": "34eb3b63",
   "metadata": {},
   "outputs": [],
   "source": [
    "get_song_by_lyric(\"Hey mama\",\"tf\")"
   ]
  },
  {
   "cell_type": "code",
   "execution_count": 23,
   "id": "bc976ecb",
   "metadata": {},
   "outputs": [
    {
     "name": "stdout",
     "output_type": "stream",
     "text": [
      "['{\"rank\": 1, \"artist\": \"/hanson/\", \"song\": \"More Than Anything (Reprise)\", \"queryBefore\": \"I love you more than anything\", \"queryAfter\": \"love anyth\"}', '{\"rank\": 2, \"artist\": \"/pj-morton/\", \"song\": \"Love You More\", \"queryBefore\": \"I love you more than anything\", \"queryAfter\": \"love anyth\"}', '{\"rank\": 3, \"artist\": \"/hanson/\", \"song\": \"More Than Anything\", \"queryBefore\": \"I love you more than anything\", \"queryAfter\": \"love anyth\"}', '{\"rank\": 4, \"artist\": \"/bob-dylan/\", \"song\": \"Wedding Song\", \"queryBefore\": \"I love you more than anything\", \"queryAfter\": \"love anyth\"}', '{\"rank\": 5, \"artist\": \"/lenny-kravitz/\", \"song\": \"More Than Anything In This World\", \"queryBefore\": \"I love you more than anything\", \"queryAfter\": \"love anyth\"}', '{\"rank\": 6, \"artist\": \"/cyndi-lauper/\", \"song\": \"When You Were Mine\", \"queryBefore\": \"I love you more than anything\", \"queryAfter\": \"love anyth\"}', '{\"rank\": 7, \"artist\": \"/olly-murs/\", \"song\": \"Love You More\", \"queryBefore\": \"I love you more than anything\", \"queryAfter\": \"love anyth\"}', '{\"rank\": 8, \"artist\": \"/one-direction/\", \"song\": \"More Than This\", \"queryBefore\": \"I love you more than anything\", \"queryAfter\": \"love anyth\"}', '{\"rank\": 9, \"artist\": \"/morrissey/\", \"song\": \"Angel, Angel, Down We Go Together\", \"queryBefore\": \"I love you more than anything\", \"queryAfter\": \"love anyth\"}', '{\"rank\": 10, \"artist\": \"/tom-petty-and-the-heartbreakers/\", \"song\": \"Sins Of My Youth\", \"queryBefore\": \"I love you more than anything\", \"queryAfter\": \"love anyth\"}']\n"
     ]
    }
   ],
   "source": [
    "get_song_by_lyric(\"I love you more than anything\",\"tf-idf\")"
   ]
  },
  {
   "cell_type": "code",
   "execution_count": 24,
   "id": "804edd1e",
   "metadata": {},
   "outputs": [
    {
     "name": "stdout",
     "output_type": "stream",
     "text": [
      "['{\"rank\": 1, \"artist\": \"/hanson/\", \"song\": \"More Than Anything (Reprise)\", \"queryBefore\": \"I love you more than anything\", \"queryAfter\": \"love anyth\"}', '{\"rank\": 2, \"artist\": \"/hanson/\", \"song\": \"More Than Anything\", \"queryBefore\": \"I love you more than anything\", \"queryAfter\": \"love anyth\"}', '{\"rank\": 3, \"artist\": \"/chris-brown/\", \"song\": \"Life Itself\", \"queryBefore\": \"I love you more than anything\", \"queryAfter\": \"love anyth\"}', '{\"rank\": 4, \"artist\": \"/needtobreathe/\", \"song\": \"Be Here Long\", \"queryBefore\": \"I love you more than anything\", \"queryAfter\": \"love anyth\"}', '{\"rank\": 5, \"artist\": \"/band-of-horses/\", \"song\": \"No One\\'s Gonna Love You\", \"queryBefore\": \"I love you more than anything\", \"queryAfter\": \"love anyth\"}', '{\"rank\": 6, \"artist\": \"/ne-yo/\", \"song\": \"Genuine Only\", \"queryBefore\": \"I love you more than anything\", \"queryAfter\": \"love anyth\"}', '{\"rank\": 7, \"artist\": \"/danko-jones/\", \"song\": \"I Want You\", \"queryBefore\": \"I love you more than anything\", \"queryAfter\": \"love anyth\"}', '{\"rank\": 8, \"artist\": \"/one-direction/\", \"song\": \"More Than This\", \"queryBefore\": \"I love you more than anything\", \"queryAfter\": \"love anyth\"}', '{\"rank\": 9, \"artist\": \"/cyndi-lauper/\", \"song\": \"When You Were Mine\", \"queryBefore\": \"I love you more than anything\", \"queryAfter\": \"love anyth\"}', '{\"rank\": 10, \"artist\": \"/bob-dylan/\", \"song\": \"Wedding Song\", \"queryBefore\": \"I love you more than anything\", \"queryAfter\": \"love anyth\"}']\n"
     ]
    }
   ],
   "source": [
    "get_song_by_lyric(\"I love you more than anything\",\"bm25\")"
   ]
  },
  {
   "cell_type": "code",
   "execution_count": 22,
   "id": "0adbe430",
   "metadata": {},
   "outputs": [
    {
     "name": "stdout",
     "output_type": "stream",
     "text": [
      "Song name: Hello, Goodbye\n",
      "By: /amy-lee/\n",
      "Lyric: You say yes, I say no. You say stop and I say go, go, go, oh no. You say goodbye and I say hello. Hello hello. I don't know why you say goodbye, I say hello. Hello hello. I don't know why you say goodbye, I say hello. I say high, you say low. You say why and I say I don't know, oh no. You say goodbye and I say hello. Hello hello. I don't know why you say goodbye, I say hello. Hello hello. I don't know why you say goodbye, (goodbye, goodbye!). Oh no, you say goodbye and I say hello. You say yes (I say yes). I say no (but I may mean no). You say stop (I can stay) and I say go go go. Oh no, you say goodbye and I say hello. Hello hello. I don't know why you say goodbye, I say hello. Hello hello. I don't know why you say goodbye, I say hello. Hello hello. I don't know why you say goodbye, I say hello. Hello hello hello hello. Hello, hello. Hello, hello. Hello, hello. Hello, hello. Hello, hello. Hello, hello. Hello, hello. Hello, hello\n",
      "\n",
      "Song name: Hello, Goodbye\n",
      "By: /the-beatles/\n",
      "Lyric: You say yes, I say no.. You say stop and I say go go go, oh no.. You say goodbye and I say hello. Hello hello. I don't know why you say goodbye, I say hello. Hello hello. I don't know why you say goodbye, I say hello.. I say high, you say low.. You say why and I say I don't know, oh no.. You say goodbye and I say hello. (hello goodbye hello goodbye) hello hello. (hello goodbye) I don't know why you say goodbye,. I say hello. (hello goodbye hello goodbye) hello hello. (hello goodbye) I don't know why you say goodbye. (hello goodbye) I say hello. Why why why why why why do you. Say goodbye goodbye, oh no?. You say goodbye and I say hello. Hello hello. I don't know why you say goodbye, I say hello. Hello hello. I don't know why you say goodbye,. I say hello.. You say yes (I say \"yes\"). I say no (but I may mean no.). You say stop (I can stay). And I say go go go. (till it's time to go ). You say goodbye and I say hello. Hello hello. I don't know why you say goodbye, I say hello. Hello hello. I don't know why you say goodbye, I say hello. Hello hello. I don't know why you say goodbye, I say hello hello.. Hela heba helloa cha cha, hela...\n",
      "\n",
      "Song name: Hello, Goodbye\n",
      "By: /glee/\n",
      "Lyric: You say \"Yes\", I say \"No\". You say \"Stop\" and I say \"Go, go, go\". Oh no. You say \"Goodbye\" and I say \"Hello, hello, hello\". I don't know why you say \"Goodbye\", I say \"Hello,. hello, hello\". I don't know why you say goodbye, I say hello. I say \"High\", you say \"Low\". You say \"Why?\" And I say \"I don't know\". Oh no. You say \"Goodbye\" and I say \"Hello, hello, hello\". I don't know why you say \"Goodbye\", I say \"Hello,. hello, hello\". (Hello, goodbye, hello, goodbye. Hello, goodbye). I don't know why you say \"Goodbye\", I say \"Hello\". (Hello, goodbye, hello, goodbye.. Hello, goodbye Hello, goodbye). Why, why, why, why, why, why, do you say. \"Goodbye, goodbye, bye, bye\". Oh no. You say \"Goodbye\" and I say \"Hello, hello, hello\". I don't know why you say \"Goodbye\", I say \"Hello,. hello, hello\". I don't know why you say \"Goodbye\", I say \"Hello\". You say \"Yes\", I say \"No\". (I say \"Yes\", but I may mean \"No\"). You say \"Stop\", I say \"Go, go, go\". (I can stay still it's time to go). Oh, oh no. You say \"Goodbye\" and I say \"Hello, hello, hello\". I don't know why you say \"Goodbye\", I say \"Hello,. hello, hello\". I don't know why you say \"Goodbye\", I say \"Hello,. hello, hello\". I don't know why you say \"Goodbye\",. I say \"Hello-wow, oh. Hello\". Hela, heba, helloa. Hela, heba, helloa. Hela, heba, helloa. Hela, heba, helloa. (Hela). Hela, heba, helloa. Hela, heba, helloa. Hela, heba, helloa. Hela, heba, helloa. Hela, heba, helloa\n",
      "\n"
     ]
    }
   ],
   "source": [
    "get_song_by_name(\"Hello, Goodbye\")"
   ]
  },
  {
   "cell_type": "code",
   "execution_count": 320,
   "id": "d32a3353",
   "metadata": {},
   "outputs": [
    {
     "data": {
      "text/html": [
       "<div>\n",
       "<style scoped>\n",
       "    .dataframe tbody tr th:only-of-type {\n",
       "        vertical-align: middle;\n",
       "    }\n",
       "\n",
       "    .dataframe tbody tr th {\n",
       "        vertical-align: top;\n",
       "    }\n",
       "\n",
       "    .dataframe thead th {\n",
       "        text-align: right;\n",
       "    }\n",
       "</style>\n",
       "<table border=\"1\" class=\"dataframe\">\n",
       "  <thead>\n",
       "    <tr style=\"text-align: right;\">\n",
       "      <th></th>\n",
       "      <th>ALink</th>\n",
       "      <th>SName</th>\n",
       "      <th>SLink</th>\n",
       "      <th>Lyric</th>\n",
       "      <th>Idiom</th>\n",
       "    </tr>\n",
       "  </thead>\n",
       "  <tbody>\n",
       "    <tr>\n",
       "      <th>0</th>\n",
       "      <td>/10000-maniacs/</td>\n",
       "      <td>More Than This</td>\n",
       "      <td>/10000-maniacs/more-than-this.html</td>\n",
       "      <td>I could feel at the time. There was no way of ...</td>\n",
       "      <td>ENGLISH</td>\n",
       "    </tr>\n",
       "    <tr>\n",
       "      <th>1</th>\n",
       "      <td>/10000-maniacs/</td>\n",
       "      <td>Because The Night</td>\n",
       "      <td>/10000-maniacs/because-the-night.html</td>\n",
       "      <td>Take me now, baby, here as I am. Hold me close...</td>\n",
       "      <td>ENGLISH</td>\n",
       "    </tr>\n",
       "    <tr>\n",
       "      <th>2</th>\n",
       "      <td>/10000-maniacs/</td>\n",
       "      <td>These Are Days</td>\n",
       "      <td>/10000-maniacs/these-are-days.html</td>\n",
       "      <td>These are. These are days you'll remember. Nev...</td>\n",
       "      <td>ENGLISH</td>\n",
       "    </tr>\n",
       "    <tr>\n",
       "      <th>3</th>\n",
       "      <td>/10000-maniacs/</td>\n",
       "      <td>A Campfire Song</td>\n",
       "      <td>/10000-maniacs/a-campfire-song.html</td>\n",
       "      <td>A lie to say, \"O my mountain has coal veins an...</td>\n",
       "      <td>ENGLISH</td>\n",
       "    </tr>\n",
       "    <tr>\n",
       "      <th>4</th>\n",
       "      <td>/10000-maniacs/</td>\n",
       "      <td>Everyday Is Like Sunday</td>\n",
       "      <td>/10000-maniacs/everyday-is-like-sunday.html</td>\n",
       "      <td>Trudging slowly over wet sand. Back to the ben...</td>\n",
       "      <td>ENGLISH</td>\n",
       "    </tr>\n",
       "    <tr>\n",
       "      <th>...</th>\n",
       "      <td>...</td>\n",
       "      <td>...</td>\n",
       "      <td>...</td>\n",
       "      <td>...</td>\n",
       "      <td>...</td>\n",
       "    </tr>\n",
       "    <tr>\n",
       "      <th>128</th>\n",
       "      <td>/10000-maniacs/</td>\n",
       "      <td>When We Walked On Clouds</td>\n",
       "      <td>/10000-maniacs/when-we-walked-on-clouds.html</td>\n",
       "      <td>Everybody's wondering what. And where they all...</td>\n",
       "      <td>ENGLISH</td>\n",
       "    </tr>\n",
       "    <tr>\n",
       "      <th>129</th>\n",
       "      <td>/10000-maniacs/</td>\n",
       "      <td>Who Knows Where The Time Goes?</td>\n",
       "      <td>/10000-maniacs/who-knows-where-the-time-goes.html</td>\n",
       "      <td>Across the evening sky, all the birds are leav...</td>\n",
       "      <td>ENGLISH</td>\n",
       "    </tr>\n",
       "    <tr>\n",
       "      <th>130</th>\n",
       "      <td>/10000-maniacs/</td>\n",
       "      <td>Wildwood Flower</td>\n",
       "      <td>/10000-maniacs/wildwood-flower.html</td>\n",
       "      <td>i will twine with your mingles of raven black ...</td>\n",
       "      <td>ENGLISH</td>\n",
       "    </tr>\n",
       "    <tr>\n",
       "      <th>131</th>\n",
       "      <td>/10000-maniacs/</td>\n",
       "      <td>You Happy Puppet</td>\n",
       "      <td>/10000-maniacs/you-happy-puppet.html</td>\n",
       "      <td>[ music: Robert Buck/words: Natalie Merchant ]...</td>\n",
       "      <td>ENGLISH</td>\n",
       "    </tr>\n",
       "    <tr>\n",
       "      <th>132</th>\n",
       "      <td>/10000-maniacs/</td>\n",
       "      <td>You Won't Find Me There</td>\n",
       "      <td>/10000-maniacs/you-wont-find-me-there.html</td>\n",
       "      <td>I'd like to know what makes you stay. while yo...</td>\n",
       "      <td>ENGLISH</td>\n",
       "    </tr>\n",
       "  </tbody>\n",
       "</table>\n",
       "<p>109 rows × 5 columns</p>\n",
       "</div>"
      ],
      "text/plain": [
       "               ALink                           SName  \\\n",
       "0    /10000-maniacs/                  More Than This   \n",
       "1    /10000-maniacs/               Because The Night   \n",
       "2    /10000-maniacs/                  These Are Days   \n",
       "3    /10000-maniacs/                 A Campfire Song   \n",
       "4    /10000-maniacs/         Everyday Is Like Sunday   \n",
       "..               ...                             ...   \n",
       "128  /10000-maniacs/        When We Walked On Clouds   \n",
       "129  /10000-maniacs/  Who Knows Where The Time Goes?   \n",
       "130  /10000-maniacs/                 Wildwood Flower   \n",
       "131  /10000-maniacs/                You Happy Puppet   \n",
       "132  /10000-maniacs/         You Won't Find Me There   \n",
       "\n",
       "                                                 SLink  \\\n",
       "0                   /10000-maniacs/more-than-this.html   \n",
       "1                /10000-maniacs/because-the-night.html   \n",
       "2                   /10000-maniacs/these-are-days.html   \n",
       "3                  /10000-maniacs/a-campfire-song.html   \n",
       "4          /10000-maniacs/everyday-is-like-sunday.html   \n",
       "..                                                 ...   \n",
       "128       /10000-maniacs/when-we-walked-on-clouds.html   \n",
       "129  /10000-maniacs/who-knows-where-the-time-goes.html   \n",
       "130                /10000-maniacs/wildwood-flower.html   \n",
       "131               /10000-maniacs/you-happy-puppet.html   \n",
       "132         /10000-maniacs/you-wont-find-me-there.html   \n",
       "\n",
       "                                                 Lyric    Idiom  \n",
       "0    I could feel at the time. There was no way of ...  ENGLISH  \n",
       "1    Take me now, baby, here as I am. Hold me close...  ENGLISH  \n",
       "2    These are. These are days you'll remember. Nev...  ENGLISH  \n",
       "3    A lie to say, \"O my mountain has coal veins an...  ENGLISH  \n",
       "4    Trudging slowly over wet sand. Back to the ben...  ENGLISH  \n",
       "..                                                 ...      ...  \n",
       "128  Everybody's wondering what. And where they all...  ENGLISH  \n",
       "129  Across the evening sky, all the birds are leav...  ENGLISH  \n",
       "130  i will twine with your mingles of raven black ...  ENGLISH  \n",
       "131  [ music: Robert Buck/words: Natalie Merchant ]...  ENGLISH  \n",
       "132  I'd like to know what makes you stay. while yo...  ENGLISH  \n",
       "\n",
       "[109 rows x 5 columns]"
      ]
     },
     "execution_count": 320,
     "metadata": {},
     "output_type": "execute_result"
    }
   ],
   "source": [
    "data[data.ALink == \"/10000-maniacs/\"]\n",
    "# data[\"ALink\"]"
   ]
  },
  {
   "cell_type": "markdown",
   "id": "4d80baea",
   "metadata": {},
   "source": [
    "# Artist Feature"
   ]
  },
  {
   "cell_type": "code",
   "execution_count": 273,
   "id": "8c0072e0",
   "metadata": {},
   "outputs": [],
   "source": [
    "art = pd.read_csv('artists-data.csv')"
   ]
  },
  {
   "cell_type": "code",
   "execution_count": 336,
   "id": "f9c5b0e1",
   "metadata": {},
   "outputs": [],
   "source": [
    "artist_list = sorted([i.lower() for i in art[\"Artist\"]])\n",
    "# print(artist_list)"
   ]
  },
  {
   "cell_type": "code",
   "execution_count": 341,
   "id": "98046d39",
   "metadata": {},
   "outputs": [],
   "source": [
    "songs_list = sorted([i.lower() for i in data[\"SName\"]])"
   ]
  },
  {
   "cell_type": "code",
   "execution_count": 377,
   "id": "da938ff3",
   "metadata": {},
   "outputs": [],
   "source": [
    "def search_song(song):\n",
    "    if song in artist_list :\n",
    "        song = song.replace(\" \",\"-\")\n",
    "        song = \"/\" + song + \"/\"\n",
    "        song_list = sorted([i for i in data[data.ALink==song][\"SName\"]])\n",
    "        print(song_list)\n",
    "        \n",
    "    if song.lower() in songs_list :\n",
    "        get_song_by_name(song)"
   ]
  },
  {
   "cell_type": "code",
   "execution_count": 378,
   "id": "5cf68e9e",
   "metadata": {},
   "outputs": [
    {
     "name": "stdout",
     "output_type": "stream",
     "text": [
      "Song name: Black Country Woman\n",
      "By: /led-zeppelin/\n",
      "Lyric: Hey, hey, mama, what's the matter here (X2). You didn't have to tell me that you love me so. You didn't have to love me, mama, let me go. Hey, hey, mama, what's the matter here. You didn't have to make me a total disgrace. You didn't have to leave me with that beer in my face. Hey, hey, mama, what's the matter here. That's alright, it's awful dog-gone clear.. Hey, hey, baby, why you treat me mean (X2). You didn't have to crucify me like you did. You didn't have to tell me I was just your kid. Hey, hey, mama, why'd you treat me mean. You didn't have say you'd always be by my side. Y' didn't have to tell me you'd be my blushin' bride. Hey, hey, mama, why you treat me mean. But that's alright, I know your sisters, too. You didn't have to tell me that you love me so. You didn't have to leave me, mama, let me go. Hey, hey, mama, what is wrong with you. You didn't have to leave me like a total disgrace. You didn't have to leave me with that beer on my face. Hey, hey, mama, what is wrong with you. But that's alright, I'd be the same way, too. You didn't have to crucify me like you did. You didn't have to tell me I was just your kid. Hey, hey, mama, what's the matter here. You didn't have to tell me you would be my own. You didn't have to tell me, baby, let me go. Hey, hey, mama, what is wrong with you. That's alright, I know your sister, too.\n",
      "\n"
     ]
    }
   ],
   "source": [
    "search_song(\"Black Country Woman\")"
   ]
  },
  {
   "cell_type": "code",
   "execution_count": 361,
   "id": "ec011229",
   "metadata": {},
   "outputs": [
    {
     "data": {
      "text/html": [
       "<div>\n",
       "<style scoped>\n",
       "    .dataframe tbody tr th:only-of-type {\n",
       "        vertical-align: middle;\n",
       "    }\n",
       "\n",
       "    .dataframe tbody tr th {\n",
       "        vertical-align: top;\n",
       "    }\n",
       "\n",
       "    .dataframe thead th {\n",
       "        text-align: right;\n",
       "    }\n",
       "</style>\n",
       "<table border=\"1\" class=\"dataframe\">\n",
       "  <thead>\n",
       "    <tr style=\"text-align: right;\">\n",
       "      <th></th>\n",
       "      <th>ALink</th>\n",
       "      <th>SName</th>\n",
       "      <th>SLink</th>\n",
       "      <th>Lyric</th>\n",
       "      <th>Idiom</th>\n",
       "    </tr>\n",
       "  </thead>\n",
       "  <tbody>\n",
       "    <tr>\n",
       "      <th>31935</th>\n",
       "      <td>/led-zeppelin/</td>\n",
       "      <td>Black Country Woman</td>\n",
       "      <td>/led-zeppelin/black-country-woman.html</td>\n",
       "      <td>Hey, hey, mama, what's the matter here (X2). Y...</td>\n",
       "      <td>ENGLISH</td>\n",
       "    </tr>\n",
       "  </tbody>\n",
       "</table>\n",
       "</div>"
      ],
      "text/plain": [
       "                ALink                SName  \\\n",
       "31935  /led-zeppelin/  Black Country Woman   \n",
       "\n",
       "                                        SLink  \\\n",
       "31935  /led-zeppelin/black-country-woman.html   \n",
       "\n",
       "                                                   Lyric    Idiom  \n",
       "31935  Hey, hey, mama, what's the matter here (X2). Y...  ENGLISH  "
      ]
     },
     "execution_count": 361,
     "metadata": {},
     "output_type": "execute_result"
    }
   ],
   "source": [
    "data[data.SName == \"Black Country Woman\"]"
   ]
  },
  {
   "cell_type": "markdown",
   "id": "08b2a739",
   "metadata": {},
   "source": [
    "# spell checking feature"
   ]
  },
  {
   "cell_type": "code",
   "execution_count": 2,
   "id": "935ca526",
   "metadata": {},
   "outputs": [],
   "source": [
    "from spellchecker import SpellChecker\n",
    "import os\n",
    "from pathlib import Path"
   ]
  },
  {
   "cell_type": "code",
   "execution_count": 6,
   "id": "8b5ebbd5",
   "metadata": {},
   "outputs": [],
   "source": [
    "context = Path(\"eng-simple_wikipedia_2021_300K-sentences.txt\").read_text(\"utf-8\")\n",
    "context = re.sub('[^A-Za-z]',\" \",context)\n",
    "context = \" \".join(context.split())\n",
    "context = context.lower()\n",
    "\n",
    "list_of_word = context.split(\" \")"
   ]
  },
  {
   "cell_type": "code",
   "execution_count": 7,
   "id": "b97fc16a",
   "metadata": {},
   "outputs": [
    {
     "name": "stdout",
     "output_type": "stream",
     "text": [
      "timewe\n",
      "['timehe', 'timewe', 'hieeee']\n",
      "everthing\n",
      "['everythin', 'everthink', 'everthing']\n",
      "infomation\n",
      "['infomation']\n",
      "forgot\n",
      "['forgo', 'forgot', 'forger']\n"
     ]
    }
   ],
   "source": [
    "spell = SpellChecker()\n",
    "\n",
    "spell.word_frequency.load_words(list_of_word)\n",
    "\n",
    "word = \"infomatiion I forgor everthin at the edn of timeeee\"\n",
    "\n",
    "misspelled = spell.unknown(word.split(\" \"))\n",
    "\n",
    "if len(misspelled) != 0 :\n",
    "    for word in misspelled:\n",
    "        print(spell.correction(word))\n",
    "        candidate_list = [i for i in spell.candidates(word)]\n",
    "        print(candidate_list)\n",
    "#         print(spell.candidates(word))\n",
    "else:\n",
    "    print(\"no mispelling\")"
   ]
  },
  {
   "cell_type": "code",
   "execution_count": null,
   "id": "4a951b0a",
   "metadata": {},
   "outputs": [],
   "source": []
  }
 ],
 "metadata": {
  "kernelspec": {
   "display_name": "Python 3 (ipykernel)",
   "language": "python",
   "name": "python3"
  },
  "language_info": {
   "codemirror_mode": {
    "name": "ipython",
    "version": 3
   },
   "file_extension": ".py",
   "mimetype": "text/x-python",
   "name": "python",
   "nbconvert_exporter": "python",
   "pygments_lexer": "ipython3",
   "version": "3.9.7"
  }
 },
 "nbformat": 4,
 "nbformat_minor": 5
}
