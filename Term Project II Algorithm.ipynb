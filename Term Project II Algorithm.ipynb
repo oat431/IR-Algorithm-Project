{
 "cells": [
  {
   "cell_type": "markdown",
   "id": "f96c89fa",
   "metadata": {},
   "source": [
    "# Term Project II\n",
    "\n",
    "The main task is to build a personal food recipe recommendation web-application. The followings are its main features\n",
    "\n",
    "- The user can search for recipe by name.\n",
    "- The user can search for recipe by ingredients.\n",
    "- The user receive the suggestion recipes she/he maybe interested in."
   ]
  },
  {
   "cell_type": "code",
   "execution_count": 25,
   "id": "b26e41ee",
   "metadata": {},
   "outputs": [],
   "source": [
    "import pandas as pd\n",
    "\n",
    "from sklearn import preprocessing\n",
    "from sklearn import neighbors\n",
    "from sklearn import tree\n",
    "from sklearn import naive_bayes\n",
    "from sklearn import model_selection\n",
    "from sklearn import metrics\n",
    "from sklearn.feature_extraction.text import TfidfVectorizer\n",
    "\n",
    "from scipy import sparse\n",
    "\n",
    "import numpy as np\n",
    "from numpy import hstack\n",
    "\n",
    "import multiprocessing as mp\n",
    "\n",
    "import string\n",
    "\n",
    "import json\n",
    "import re\n",
    "\n",
    "import nltk\n",
    "from nltk import ngrams\n",
    "from nltk.tokenize import word_tokenize\n",
    "from nltk.corpus import stopwords\n",
    "from nltk.stem import PorterStemmer\n",
    "from sklearn.metrics.pairwise import cosine_similarity\n",
    "\n",
    "from spellchecker import SpellChecker\n",
    "import os\n",
    "from pathlib import Path"
   ]
  },
  {
   "cell_type": "markdown",
   "id": "f6a8c1e9",
   "metadata": {},
   "source": [
    "## Sample data"
   ]
  },
  {
   "cell_type": "code",
   "execution_count": 26,
   "id": "d2eb16ee",
   "metadata": {},
   "outputs": [
    {
     "data": {
      "text/html": [
       "<div>\n",
       "<style scoped>\n",
       "    .dataframe tbody tr th:only-of-type {\n",
       "        vertical-align: middle;\n",
       "    }\n",
       "\n",
       "    .dataframe tbody tr th {\n",
       "        vertical-align: top;\n",
       "    }\n",
       "\n",
       "    .dataframe thead th {\n",
       "        text-align: right;\n",
       "    }\n",
       "</style>\n",
       "<table border=\"1\" class=\"dataframe\">\n",
       "  <thead>\n",
       "    <tr style=\"text-align: right;\">\n",
       "      <th></th>\n",
       "      <th>Title</th>\n",
       "      <th>Instructions</th>\n",
       "      <th>Image_Name</th>\n",
       "      <th>Cleaned_Ingredients</th>\n",
       "    </tr>\n",
       "  </thead>\n",
       "  <tbody>\n",
       "    <tr>\n",
       "      <th>0</th>\n",
       "      <td>Miso-Butter Roast Chicken With Acorn Squash Pa...</td>\n",
       "      <td>Pat chicken dry with paper towels, season all ...</td>\n",
       "      <td>miso-butter-roast-chicken-acorn-squash-panzanella</td>\n",
       "      <td>['1 (3½–4-lb.) whole chicken', '2¾ tsp. kosher...</td>\n",
       "    </tr>\n",
       "    <tr>\n",
       "      <th>1</th>\n",
       "      <td>Crispy Salt and Pepper Potatoes</td>\n",
       "      <td>Preheat oven to 400°F and line a rimmed baking...</td>\n",
       "      <td>crispy-salt-and-pepper-potatoes-dan-kluger</td>\n",
       "      <td>['2 large egg whites', '1 pound new potatoes (...</td>\n",
       "    </tr>\n",
       "    <tr>\n",
       "      <th>2</th>\n",
       "      <td>Thanksgiving Mac and Cheese</td>\n",
       "      <td>Place a rack in middle of oven; preheat to 400...</td>\n",
       "      <td>thanksgiving-mac-and-cheese-erick-williams</td>\n",
       "      <td>['1 cup evaporated milk', '1 cup whole milk', ...</td>\n",
       "    </tr>\n",
       "    <tr>\n",
       "      <th>3</th>\n",
       "      <td>Italian Sausage and Bread Stuffing</td>\n",
       "      <td>Preheat oven to 350°F with rack in middle. Gen...</td>\n",
       "      <td>italian-sausage-and-bread-stuffing-240559</td>\n",
       "      <td>['1 (¾- to 1-pound) round Italian loaf, cut in...</td>\n",
       "    </tr>\n",
       "    <tr>\n",
       "      <th>4</th>\n",
       "      <td>Newton's Law</td>\n",
       "      <td>Stir together brown sugar and hot water in a c...</td>\n",
       "      <td>newtons-law-apple-bourbon-cocktail</td>\n",
       "      <td>['1 teaspoon dark brown sugar', '1 teaspoon ho...</td>\n",
       "    </tr>\n",
       "  </tbody>\n",
       "</table>\n",
       "</div>"
      ],
      "text/plain": [
       "                                               Title  \\\n",
       "0  Miso-Butter Roast Chicken With Acorn Squash Pa...   \n",
       "1                    Crispy Salt and Pepper Potatoes   \n",
       "2                        Thanksgiving Mac and Cheese   \n",
       "3                 Italian Sausage and Bread Stuffing   \n",
       "4                                       Newton's Law   \n",
       "\n",
       "                                        Instructions  \\\n",
       "0  Pat chicken dry with paper towels, season all ...   \n",
       "1  Preheat oven to 400°F and line a rimmed baking...   \n",
       "2  Place a rack in middle of oven; preheat to 400...   \n",
       "3  Preheat oven to 350°F with rack in middle. Gen...   \n",
       "4  Stir together brown sugar and hot water in a c...   \n",
       "\n",
       "                                          Image_Name  \\\n",
       "0  miso-butter-roast-chicken-acorn-squash-panzanella   \n",
       "1         crispy-salt-and-pepper-potatoes-dan-kluger   \n",
       "2         thanksgiving-mac-and-cheese-erick-williams   \n",
       "3          italian-sausage-and-bread-stuffing-240559   \n",
       "4                 newtons-law-apple-bourbon-cocktail   \n",
       "\n",
       "                                 Cleaned_Ingredients  \n",
       "0  ['1 (3½–4-lb.) whole chicken', '2¾ tsp. kosher...  \n",
       "1  ['2 large egg whites', '1 pound new potatoes (...  \n",
       "2  ['1 cup evaporated milk', '1 cup whole milk', ...  \n",
       "3  ['1 (¾- to 1-pound) round Italian loaf, cut in...  \n",
       "4  ['1 teaspoon dark brown sugar', '1 teaspoon ho...  "
      ]
     },
     "execution_count": 26,
     "metadata": {},
     "output_type": "execute_result"
    }
   ],
   "source": [
    "food = pd.read_csv('../resource/food.csv')\n",
    "food.drop('Unnamed: 0',axis='columns',inplace=True)\n",
    "food.drop('Ingredients',axis='columns',inplace=True)\n",
    "food.head()"
   ]
  },
  {
   "cell_type": "code",
   "execution_count": 9,
   "id": "7e05f15c",
   "metadata": {},
   "outputs": [
    {
     "name": "stdout",
     "output_type": "stream",
     "text": [
      "Miso-Butter Roast Chicken With Acorn Squash Panzanella\n"
     ]
    }
   ],
   "source": [
    "title = food.iloc[0]['Title']\n",
    "print(title)"
   ]
  },
  {
   "cell_type": "code",
   "execution_count": 19,
   "id": "5d938a1c",
   "metadata": {},
   "outputs": [
    {
     "name": "stdout",
     "output_type": "stream",
     "text": [
      "'1 (3½–4-lb.) whole chicken'\n",
      " '2¾ tsp. kosher salt\n",
      " divided\n",
      " plus more'\n",
      " '2 small acorn squash (about 3 lb. total)'\n",
      " '2 Tbsp. finely chopped sage'\n",
      " '1 Tbsp. finely chopped rosemary'\n",
      " '6 Tbsp. unsalted butter\n",
      " melted\n",
      " plus 3 Tbsp. room temperature'\n",
      " '¼ tsp. ground allspice'\n",
      " 'Pinch of crushed red pepper flakes'\n",
      " 'Freshly ground black pepper'\n",
      " '⅓ loaf good-quality sturdy white bread\n",
      " torn into 1\" pieces (about 2½ cups)'\n",
      " '2 medium apples (such as Gala or Pink Lady; about 14 oz. total)\n",
      " cored\n",
      " cut into 1\" pieces'\n",
      " '2 Tbsp. extra-virgin olive oil'\n",
      " '½ small red onion\n",
      " thinly sliced'\n",
      " '3 Tbsp. apple cider vinegar'\n",
      " '1 Tbsp. white miso'\n",
      " '¼ cup all-purpose flour'\n",
      " '2 Tbsp. unsalted butter\n",
      " room temperature'\n",
      " '¼ cup dry white wine'\n",
      " '2 cups unsalted chicken broth'\n",
      " '2 tsp. white miso'\n",
      " 'Kosher salt'\n",
      " 'freshly ground pepper'\n"
     ]
    }
   ],
   "source": [
    "check = food.iloc[0][\"Cleaned_Ingredients\"].split(',')\n",
    "check[0] = check[0].replace('[','')\n",
    "check[-1] = check[-1].replace(']','')\n",
    "for i in check :\n",
    "    print(i)"
   ]
  },
  {
   "cell_type": "code",
   "execution_count": 3,
   "id": "2b438368",
   "metadata": {},
   "outputs": [
    {
     "name": "stdout",
     "output_type": "stream",
     "text": [
      "Pat chicken dry with paper towels, season all over with 2 tsp\n",
      " salt, and tie legs together with kitchen twine\n",
      " Let sit at room temperature 1 hour\n",
      "\n",
      "Meanwhile, halve squash and scoop out seeds\n",
      " Run a vegetable peeler along ridges of squash halves to remove skin\n",
      " Cut each half into ½\"-thick wedges; arrange on a rimmed baking sheet\n",
      "\n",
      "Combine sage, rosemary, and 6 Tbsp\n",
      " melted butter in a large bowl; pour half of mixture over squash on baking sheet\n",
      " Sprinkle squash with allspice, red pepper flakes, and ½ tsp\n",
      " salt and season with black pepper; toss to coat\n",
      "\n",
      "Add bread, apples, oil, and ¼ tsp\n",
      " salt to remaining herb butter in bowl; season with black pepper and toss to combine\n",
      " Set aside\n",
      "\n",
      "Place onion and vinegar in a small bowl; season with salt and toss to coat\n",
      " Let sit, tossing occasionally, until ready to serve\n",
      "\n",
      "Place a rack in middle and lower third of oven; preheat to 425°F\n",
      " Mix miso and 3 Tbsp\n",
      " room-temperature butter in a small bowl until smooth\n",
      " Pat chicken dry with paper towels, then rub or brush all over with miso butter\n",
      " Place chicken in a large cast-iron skillet and roast on middle rack until an instant-read thermometer inserted into the thickest part of breast registers 155°F, 50–60 minutes\n",
      " (Temperature will climb to 165°F while chicken rests\n",
      ") Let chicken rest in skillet at least 5 minutes, then transfer to a plate; reserve skillet\n",
      "\n",
      "Meanwhile, roast squash on lower rack until mostly tender, about 25 minutes\n",
      " Remove from oven and scatter reserved bread mixture over, spreading into as even a layer as you can manage\n",
      " Return to oven and roast until bread is golden brown and crisp and apples are tender, about 15 minutes\n",
      " Remove from oven, drain pickled onions, and toss to combine\n",
      " Transfer to a serving dish\n",
      "\n",
      "Using your fingers, mash flour and butter in a small bowl to combine\n",
      "\n",
      "Set reserved skillet with chicken drippings over medium heat\n",
      " You should have about ¼ cup, but a little over or under is all good\n",
      " (If you have significantly more, drain off and set excess aside\n",
      ") Add wine and cook, stirring often and scraping up any browned bits with a wooden spoon, until bits are loosened and wine is reduced by about half (you should be able to smell the wine), about 2 minutes\n",
      " Add butter mixture; cook, stirring often, until a smooth paste forms, about 2 minutes\n",
      " Add broth and any reserved drippings and cook, stirring constantly, until combined and thickened, 6–8 minutes\n",
      " Remove from heat and stir in miso\n",
      " Taste and season with salt and black pepper\n",
      "\n",
      "Serve chicken with gravy and squash panzanella alongside\n",
      "\n"
     ]
    }
   ],
   "source": [
    "instru = ingre = food.iloc[0]['Instructions'].split('.')\n",
    "for i in instru :\n",
    "    print(i)"
   ]
  },
  {
   "cell_type": "code",
   "execution_count": 21,
   "id": "ea5e74d2",
   "metadata": {},
   "outputs": [
    {
     "name": "stdout",
     "output_type": "stream",
     "text": [
      "miso-butter-roast-chicken-acorn-squash-panzanella\n"
     ]
    }
   ],
   "source": [
    "image_name = food.iloc[0]['Image_Name']\n",
    "print(image_name)"
   ]
  },
  {
   "cell_type": "markdown",
   "id": "c4f75efb",
   "metadata": {},
   "source": [
    "![somehting](../Food_Images/Food_images/miso-butter-roast-chicken-acorn-squash-panzanella.JPG)"
   ]
  },
  {
   "cell_type": "markdown",
   "id": "d113a18b",
   "metadata": {},
   "source": [
    "# Spell Checker Feature"
   ]
  },
  {
   "cell_type": "code",
   "execution_count": 30,
   "id": "c46e3910",
   "metadata": {},
   "outputs": [],
   "source": [
    "context = Path(\"eng-simple_wikipedia_2021_300K-sentences.txt\").read_text(\"utf-8\")\n",
    "context = re.sub('[^A-Za-z]',\" \",context)\n",
    "context = \" \".join(context.split())\n",
    "context = context.lower()\n",
    "\n",
    "list_of_word = context.split(\" \")"
   ]
  },
  {
   "cell_type": "code",
   "execution_count": 31,
   "id": "8fc3e50a",
   "metadata": {},
   "outputs": [
    {
     "name": "stdout",
     "output_type": "stream",
     "text": [
      "outer\n",
      "['buler', 'buster', 'outer', 'bunter', 'puter', 'biter', 'bater', 'buyer', 'muter', 'butler', 'bute', 'beter', 'cuter', 'guter', 'buner', 'butter', 'butser']\n",
      "chicken\n",
      "['chicken']\n",
      "roads\n",
      "['roars', 'roams', 'coats', 'roads', 'routs', 'rots', 'goats', 'moats', 'roat', 'oats', 'groats', 'roast', 'doats', 'rats', 'roots', 'boats', 'roasts', 'croats', 'rotas']\n",
      "squad\n",
      "['squad', 'shuah', 'squash', 'squaw', 'squat', 'squab']\n",
      "manzanilla\n",
      "['manzanilla']\n",
      "con\n",
      "['econ', 'alon', 'acton', 'ason', 'bacon', 'axon', 'icon', 'amon', 'macon', 'afon', 'acdn', 'acou', 'lacon', 'aco', 'acorn', 'aon', 'aeon', 'con', 'akon', 'acun', 'apon', 'anon', 'avon', 'aron']\n"
     ]
    }
   ],
   "source": [
    "spell = SpellChecker()\n",
    "\n",
    "spell.word_frequency.load_words(list_of_word)\n",
    "\n",
    "word = \"Miso Buter Roats Chickken Wiht Acon Squah Panzanella\"\n",
    "\n",
    "misspelled = spell.unknown(word.split(\" \"))\n",
    "\n",
    "if len(misspelled) != 0 :\n",
    "    for word in misspelled:\n",
    "        print(spell.correction(word))\n",
    "        candidate_list = [i for i in spell.candidates(word)]\n",
    "        print(candidate_list)\n",
    "#         print(spell.candidates(word))\n",
    "else:\n",
    "    print(\"no mispelling\")"
   ]
  },
  {
   "cell_type": "markdown",
   "id": "7f19bac8",
   "metadata": {},
   "source": [
    "# Search Feature"
   ]
  },
  {
   "cell_type": "markdown",
   "id": "3437098f",
   "metadata": {},
   "source": [
    "# Prepre Search Feature\n",
    "\n",
    "- tf-idf\n",
    "- bm25\n",
    "- elastic search"
   ]
  },
  {
   "cell_type": "code",
   "execution_count": 109,
   "id": "2a5a6a86",
   "metadata": {},
   "outputs": [],
   "source": [
    "vectorizer = TfidfVectorizer(ngram_range=(1,3))\n",
    "X = vectorizer.fit_transform(food[\"Title\"].astype('U'))"
   ]
  },
  {
   "cell_type": "markdown",
   "id": "393d4e51",
   "metadata": {},
   "source": [
    "## Prepare TF-IDF"
   ]
  },
  {
   "cell_type": "code",
   "execution_count": 72,
   "id": "c2a5f778",
   "metadata": {},
   "outputs": [],
   "source": [
    "def serach_by_tf_idf(query=\"sweet\"):\n",
    "    query_vec = vectorizer.transform([query])\n",
    "    results = cosine_similarity(X,query_vec).reshape((-1,))\n",
    "    return results.argsort()[-50:][::-1]"
   ]
  },
  {
   "cell_type": "code",
   "execution_count": 73,
   "id": "67b45a71",
   "metadata": {},
   "outputs": [
    {
     "data": {
      "text/plain": [
       "array([ 7713,  7987,  8899, 11648, 13142,  6348,  4235,  5104, 13204,\n",
       "        9538,  7517,  7483,  2457,  6622,  1475,  7392,  5737, 10817,\n",
       "        7377, 10589, 11472,  2537,  5608,  2641, 10552,  5932,  6037,\n",
       "       12551, 13022,  5347,  9220, 10898,  6288, 12619,  9284,  1169,\n",
       "       11365,   804,  3760, 12229,  3675, 10916,  3685,  8377,  2577,\n",
       "        7857, 12903,  4773, 11470,  3586])"
      ]
     },
     "execution_count": 73,
     "metadata": {},
     "output_type": "execute_result"
    }
   ],
   "source": [
    "serach_by_tf_idf()"
   ]
  },
  {
   "cell_type": "markdown",
   "id": "8c22a697",
   "metadata": {},
   "source": [
    "## Prepare BM25"
   ]
  },
  {
   "cell_type": "code",
   "execution_count": 26,
   "id": "952924fd",
   "metadata": {},
   "outputs": [],
   "source": [
    "class BM25(object):\n",
    "    def __init__(self, b=0.75, k1=1.6):\n",
    "        self.vectorizer = TfidfVectorizer(norm=None, smooth_idf=False,ngram_range=(1,3))\n",
    "        self.b = b\n",
    "        self.k1 = k1\n",
    "\n",
    "    def fit(self, X):\n",
    "        self.vectorizer.fit(X)\n",
    "        y = super(TfidfVectorizer, self.vectorizer).transform(X)\n",
    "        self.avdl = y.sum(1).mean()\n",
    "\n",
    "    def transform(self, q, X):\n",
    "        b, k1, avdl = self.b, self.k1, self.avdl\n",
    "\n",
    "        X = super(TfidfVectorizer, self.vectorizer).transform(X)\n",
    "        len_X = X.sum(1).A1\n",
    "        q, = super(TfidfVectorizer, self.vectorizer).transform([q])\n",
    "        assert sparse.isspmatrix_csr(q)\n",
    "\n",
    "        X = X.tocsc()[:, q.indices]\n",
    "        denom = X + (k1 * (1 - b + b * len_X / avdl))[:, None]\n",
    "        idf = self.vectorizer._tfidf.idf_[None, q.indices] - 1.\n",
    "        numer = X.multiply(np.broadcast_to(idf, X.shape)) * (k1 + 1)                                                          \n",
    "        return (numer / denom).sum(1).A1"
   ]
  },
  {
   "cell_type": "code",
   "execution_count": 27,
   "id": "432cf0d4",
   "metadata": {},
   "outputs": [],
   "source": [
    "bm25 = BM25()\n",
    "bm25.fit(food[\"Title\"].astype('U'))"
   ]
  },
  {
   "cell_type": "code",
   "execution_count": 65,
   "id": "a284594b",
   "metadata": {},
   "outputs": [],
   "source": [
    "def search_by_bm25(query):\n",
    "    result = bm25.transform(query,food[\"Title\"].astype('U'))\n",
    "    return result.argsort()[-50:][::-1]"
   ]
  },
  {
   "cell_type": "markdown",
   "id": "fcb5f507",
   "metadata": {},
   "source": [
    "## Search by Food Title ( by name) Feature"
   ]
  },
  {
   "cell_type": "code",
   "execution_count": 56,
   "id": "28554663",
   "metadata": {},
   "outputs": [
    {
     "name": "stdout",
     "output_type": "stream",
     "text": [
      "Sweet Tea\n",
      "English Cookies\n",
      "English Pancakes\n",
      "Sweet Peach Tea\n",
      "Mint Tea\n",
      "Ginger Tea\n",
      "Beef Tea\n",
      "Tea Cakes\n",
      "Tipsy Tea with Homemade Sweet Tea\n",
      "English Chili Sauce\n",
      "English Pea Hummus\n",
      "Cleansing Tea\n",
      "English Peas with Mint\n",
      "English Jam Bag Pudding\n",
      "Superb English Plum Pudding\n",
      "Green Tea Cheesecake\n",
      "Pasta Carbonara with English Peas\n",
      "Green Tea Margarita\n",
      "Green-Tea Truffles\n",
      "Apple Tea Cakes\n",
      "Moroccan Mint Tea\n",
      "Grilled Tea-Brined Turkey with Tea-and-Lemon Gravy\n",
      "Moroccan Tea Biscuits\n",
      "Sweet Tea with Vodka and Lemonade\n",
      "Hibiscus Tea Sorbet\n",
      "Pimm's Iced Tea\n",
      "Sorrel (Hibiscus) Tea\n",
      "Tea-Totaler’s Toddy\n",
      "Sweet Walnuts\n",
      "Tea-and-Honey Crisps\n",
      "Thai-Style Iced Tea\n",
      "Lavender Honey Tea Bread\n",
      "Cold-Brew Iced Tea\n",
      "Bourbon Fruit Tea Punch\n",
      "Swirled Sesame Tea Cake\n",
      "Sweet Crêpes\n",
      "Golden Milk Turmeric Tea\n",
      "Kumquat-Cardamom Tea Bread\n",
      "Sweet Palmiers\n",
      "Sweet Blini\n",
      "Sweet Pretzels\n",
      "Ultimate Hydrating Iced Tea\n",
      "Sweet Amigos\n",
      "Classic Bubble Tea Recipe\n",
      "Butterscotch Puddings with Whipped Cream and Crushed English Toffee\n",
      "Gluten-Free Chocolate Tea Cake\n",
      "Yuba Pappardelle with English Peas, Fava Leaves, and Basil\n",
      "Earl Grey Tea Ice Cream\n",
      "Black Sesame-Pear Tea Cake\n",
      "Sweet Potato Turnovers with Sweet Kraut\n"
     ]
    }
   ],
   "source": [
    "for i in serach_by_tf_idf(\"sweet english tea\") :\n",
    "    print(food.iloc[i]['Title'])"
   ]
  },
  {
   "cell_type": "code",
   "execution_count": 58,
   "id": "82d52412",
   "metadata": {},
   "outputs": [
    {
     "name": "stdout",
     "output_type": "stream",
     "text": [
      "Fish Taco Platter\n",
      "Guacamole Taquero: Taco-Shop Guacamole\n",
      "Guajillo-Braised Beef Short Rib Taco\n",
      "Butternut Squash, Kale, and Crunchy Pepitas Taco\n",
      "Mushroom, Rajas, and Corn Taco with Queso Fresco\n",
      "Fresh Taco Salad with Creamy Avocado-Lime Dressing\n",
      "Breakfast Taco Hobo Packs with Black Beans, Zucchini, and Corn\n",
      "Instant Pot Red Bean and Quinoa Soup with Taco Fixins\n",
      "Turkey Leg Confit Taco with Pasilla Purée and Pickled Peach Salsa\n",
      "Charred Octopus Taco with Harissa, Chorizo Crushed Potatoes, and Pickled Ramps\n",
      "Apricot-Pistachio Muffins Baked on the Grill\n",
      "Tarragon-Cilantro Salsa Verde\n",
      "Mexican Poblano, Spinach, and Black Bean \"Lasagne\" with Goat Cheese\n",
      "Shellfish Mixed Grill\n",
      "Grilled Zucchini Bread With Mascarpone and Berries\n",
      "Linguine with Grilled Tuna, Capers and Parsley\n",
      "Sambal-Orange Vinaigrette\n",
      "Pasta with Grilled Tomato and Scallion Sauce\n",
      "Grilled Leg of Lamb with Herb Salt\n",
      "Red, White, and Blueberry Pie\n",
      "Tomato, Onion, and Roasted Lemon Salad\n",
      "Pasta with Grilled Sausage, Peppers and Eggplant\n",
      "Rice Salad with Fava Beans and Pistachios\n",
      "Vietnamese Pork Chops with Pickled Watermelon\n",
      "Sweet Bell Pepper and Onion Salad\n",
      "Garlicky Runner Beans\n",
      "Corn and Zucchini Salad with Feta\n",
      "Anchovy Mayonnaise\n",
      "Parsley, Red Onion, and Pomegranate Salad\n",
      "Chorizo-Lemon Butter\n",
      "Grilled Vanilla French Toast\n",
      "Grilled Peaches with Black Pepper and Basil-Lime Syrup\n",
      "Strawberries and Vodka\n",
      "Spiced Lamb Burger\n",
      "Grilled Bread Salad with Sweet Peppers and Onions\n",
      "Tomatillo Salsa Verde\n",
      "Rosemary-Balsamic Onions\n",
      "Grilled Panzanella\n",
      "Watermelon, Lime, and Tequila\n",
      "Sriracha-Lada\n",
      "Pineapple and Gin\n",
      "Vitamin C Brew\n",
      "Israeli Couscous and Tomato Salad\n",
      "Berries and Rum\n",
      "Chopstick Ready Rice\n",
      "Corn-Jalapeño Fritters\n",
      "Raspberry Snakebite\n",
      "Peach, Ginger, and Bourbon\n",
      "Purslane and Avocado Tacos with Pico de Gallo\n",
      "Spinach and Sorrel Spanakopita\n"
     ]
    }
   ],
   "source": [
    "for i in search_by_bm25(\"taco kabub\") :\n",
    "    print(food.iloc[i]['Title'])"
   ]
  },
  {
   "cell_type": "markdown",
   "id": "7014943c",
   "metadata": {},
   "source": [
    "## Search By Ingredient Feature"
   ]
  },
  {
   "cell_type": "markdown",
   "id": "11204322",
   "metadata": {},
   "source": [
    "### Check answer"
   ]
  },
  {
   "cell_type": "code",
   "execution_count": 94,
   "id": "52737087",
   "metadata": {},
   "outputs": [
    {
     "name": "stdout",
     "output_type": "stream",
     "text": [
      "3883    ['1 3–4 pound country style pork ribs, also kn...\n",
      "Name: Cleaned_Ingredients, dtype: object\n"
     ]
    }
   ],
   "source": [
    "ingre = food[food.Title == \"Crock Pot Ribs\"][\"Cleaned_Ingredients\"]\n",
    "print(ingre)"
   ]
  },
  {
   "cell_type": "code",
   "execution_count": 98,
   "id": "daacc3eb",
   "metadata": {},
   "outputs": [
    {
     "name": "stdout",
     "output_type": "stream",
     "text": [
      "'1 3–4 pound country style pork ribs\n",
      " also known as baby back ribs (about 2 racks)'\n",
      " '1 teaspoon salt'\n",
      " '1 cup bbq sauce plus additional for serving'\n"
     ]
    }
   ],
   "source": [
    "check = food.iloc[3883][\"Cleaned_Ingredients\"].split(',')\n",
    "check[0] = check[0].replace('[','')\n",
    "check[-1] = check[-1].replace(']','')\n",
    "for i in check :\n",
    "    print(i)"
   ]
  },
  {
   "cell_type": "code",
   "execution_count": 66,
   "id": "5b7357f1",
   "metadata": {},
   "outputs": [],
   "source": [
    "bm25_ingr = BM25()\n",
    "bm25_ingr.fit(food[\"Cleaned_Ingredients\"].astype('U'))"
   ]
  },
  {
   "cell_type": "code",
   "execution_count": 97,
   "id": "0c0ec13d",
   "metadata": {},
   "outputs": [],
   "source": [
    "vectorizer = TfidfVectorizer(ngram_range=(1,3))\n",
    "X_ingr = vectorizer.fit_transform(food[\"Cleaned_Ingredients\"].astype('U'))"
   ]
  },
  {
   "cell_type": "code",
   "execution_count": 98,
   "id": "6af3b744",
   "metadata": {},
   "outputs": [],
   "source": [
    "def serach_ingre_tf_idf(query):\n",
    "    query_vec = vectorizer.transform([query])\n",
    "    results = cosine_similarity(X_ingr,query_vec).reshape((-1,))\n",
    "    return results.argsort()[-50:][::-1]"
   ]
  },
  {
   "cell_type": "code",
   "execution_count": 69,
   "id": "cc3b0f0f",
   "metadata": {},
   "outputs": [],
   "source": [
    "def search_ingre_bm25(query):\n",
    "    result = bm25.transform(query,food[\"Cleaned_Ingredients\"].astype('U'))\n",
    "    return result.argsort()[-50:][::-1]"
   ]
  },
  {
   "cell_type": "code",
   "execution_count": 73,
   "id": "c972642a",
   "metadata": {},
   "outputs": [
    {
     "name": "stdout",
     "output_type": "stream",
     "text": [
      "Cassoulet in the Style of Toulouse (Cassoulet de Toulouse)\n",
      "James Beard's Roasted Spareribs\n",
      "Porchetta\n",
      "Carnitas: Braised and Fried Pork\n",
      "Slow-Cooked Carnitas Tacos\n",
      "Double-Pork Carnitas\n",
      "Pork Shoulder With Pineapple and Sesame Broccoli\n",
      "Pork Conserva with Green Tomato Agrodolce\n",
      "Smoked Pork in Pastry\n",
      "Grilled Pork Shoulder With Butter Vinegar Sauce\n",
      "Grilled Pork Tenderloin with Fresh Fig Skewers\n",
      "Homemade Bratwurst Bites with Beer and Horseradish Mustard\n",
      "Grilled Pork Chops with Garlic Lime Sauce\n",
      "Brown Sugar BBQ Pork Butt\n",
      "Porchetta With Roasted Potatoes\n",
      "Pecan-Crusted Pork Tenderloin Pinwheels with Carolina Mustard Sauce\n",
      "Country Terrine\n",
      "Roast Pork Loin With Rosemary and Garlic\n",
      "Tacos of Carnitas Roasted with Orange, Milk, and Pepper\n",
      "Crown Roast of Pork with Onion and Bread-Crumb Stuffing\n",
      "Vietnamese Caramelized Grilled Pork\n",
      "Milk Braised Pork Shoulder with Semolina Gnocchi\n",
      "Rosemary Pork Chops\n",
      "Chicharrón Casera\n",
      "Smoked Scotch Eggs\n",
      "Five Spice Pork Rillettes\n",
      "Pork Shoulder Steaks with Grilled Mustard Greens\n",
      "Chipotle-Grilled Pork Shoulder Steaks with Corn Salsa\n",
      "Grilled Pork Tenderloin with Molasses and Mustard\n",
      "\"Nextover\" Chile-Orange Pork Stir-Fry\n",
      "Carolina-Style Pork BBQ Sandwiches\n",
      "Roast Pork Sandwiches with Sweet Peppers and Arugula\n",
      "My Boudin\n",
      "Tourtière du Shack\n",
      "Pork Loin Spiedino with Pine Nut, Garlic, and Currant Soffritto\n",
      "Grilled Pork Tenderloin with Mustard-Dill Sauce\n",
      "Bacon-Molasses Breakfast Sausage\n",
      "Slow-Roasted Pork Shoulder with Mustard and Sage\n",
      "Pork Chops au Poivre\n",
      "Dan Barber's Pork Belly\n",
      "Pineapple Pork Chops\n",
      "Big-Batch Freezer Pork Tenderloin Strips\n",
      "Pork Tenderloin with Date and Cilantro Relish\n",
      "Pork Chops with Cranberry, Port, and Rosemary Sauce\n",
      "Memphis-Style Ribs\n",
      "Smothered Pork Chops with Mushrooms\n",
      "Maple Andouille Breakfast Sausage\n",
      "Mustard Fennel Pork Loin with Cumberland Pan Sauce\n",
      "Your New Favorite Pork Chops\n",
      "Crock Pot Ribs\n"
     ]
    }
   ],
   "source": [
    "for i in serach_ingre_tf_idf(\"pork\") :\n",
    "    print(food.iloc[i]['Title'])"
   ]
  },
  {
   "cell_type": "code",
   "execution_count": 71,
   "id": "a7d4a57d",
   "metadata": {},
   "outputs": [
    {
     "name": "stdout",
     "output_type": "stream",
     "text": [
      "James Beard's Roasted Spareribs\n",
      "Chicharrón Casera\n",
      "Dan Barber's Pork Belly\n",
      "Porchetta\n",
      "Grilled Pork Tenderloin with Molasses and Mustard\n",
      "Carnitas: Braised and Fried Pork\n",
      "Pecan-Crusted Pork Tenderloin Pinwheels with Carolina Mustard Sauce\n",
      "Bacon-Molasses Breakfast Sausage\n",
      "Tacos of Carnitas Roasted with Orange, Milk, and Pepper\n",
      "Grilled Pork Shoulder With Butter Vinegar Sauce\n",
      "Pork Shoulder With Pineapple and Sesame Broccoli\n",
      "Caramelized Pork Rinds\n",
      "Sausage Rolls\n",
      "Pineapple Pork Chops\n",
      "Tortillas de Harina (Flour Tortillas)\n",
      "Pork Conserva with Green Tomato Agrodolce\n",
      "Brown Sugar BBQ Pork Butt\n",
      "Smoked Scotch Eggs\n",
      "Sautéed Pork Tenderloin with Prunes\n",
      "Grilled Pork Tenderloin with Fresh Fig Skewers\n",
      "Vietnamese Caramelized Grilled Pork\n",
      "Rosemary Pork Chops\n",
      "Bacon-Wrapped Pig Wings\n",
      "Cassoulet in the Style of Toulouse (Cassoulet de Toulouse)\n",
      "Porchetta With Roasted Potatoes\n",
      "Slow-Cooked Carnitas Tacos\n",
      "Beer-Braised Carnitas\n",
      "Weeknight Porchetta\n",
      "Crock Pot Ribs\n",
      "Crock Pot Pulled Pork Tacos\n",
      "Pork Tenderloin with Apricot Mustard\n",
      "Sam Choy's Oven-Roasted Kalua Pig\n",
      "Pork Tenderloin with Tomato-Peach Compote\n",
      "Sweetie Pie's Tender Oven-Baked St. Louis-Style BBQ Ribs\n",
      "Pork Chops au Poivre\n",
      "Your New Favorite Pork Chops\n",
      "Memphis-Style Barbecued Pork Ribs\n",
      "Beer Bratwurst\n",
      "Five Spice Pork Rillettes\n",
      "Double-Pork Carnitas\n",
      "Homemade Bratwurst Bites with Beer and Horseradish Mustard\n",
      "Pork Chops with Cranberry, Port, and Rosemary Sauce\n",
      "Big-Batch Freezer Pork Tenderloin Strips\n",
      "Balsamic-Glazed Pork Chops\n",
      "Pork Tenderloin with Date and Cilantro Relish\n",
      "Fennel-Rubbed Pork Roast\n",
      "Garlic-Roasted Pork Shoulder\n",
      "North Carolina Pulled-Pork Barbecue\n",
      "Grilled Pork Tenderloin with Mustard-Dill Sauce\n",
      "Smoked Pork in Pastry\n"
     ]
    }
   ],
   "source": [
    "for i in search_ingre_bm25(\"pork\") :\n",
    "    print(food.iloc[i]['Title'])"
   ]
  },
  {
   "cell_type": "code",
   "execution_count": 43,
   "id": "80ecfa23",
   "metadata": {},
   "outputs": [],
   "source": [
    "# Return data"
   ]
  },
  {
   "cell_type": "code",
   "execution_count": 13,
   "id": "21d91b28",
   "metadata": {},
   "outputs": [],
   "source": [
    "food_ingredients = food "
   ]
  },
  {
   "cell_type": "code",
   "execution_count": 14,
   "id": "f4fdffbe",
   "metadata": {},
   "outputs": [],
   "source": [
    "    food_ingredients = food_ingredients.rename(columns={'Unnamed: 0' : 'id'})\n",
    "#     food_ingredients.drop('Ingredients',axis='columns',inplace=True)\n",
    "    food_ingredients[\"Cleaned_Ingredients\"] = food_ingredients[\"Cleaned_Ingredients\"] .map(lambda x: str(x).lstrip('[').rstrip(']'))"
   ]
  },
  {
   "cell_type": "code",
   "execution_count": 15,
   "id": "361589ca",
   "metadata": {},
   "outputs": [
    {
     "data": {
      "text/html": [
       "<div>\n",
       "<style scoped>\n",
       "    .dataframe tbody tr th:only-of-type {\n",
       "        vertical-align: middle;\n",
       "    }\n",
       "\n",
       "    .dataframe tbody tr th {\n",
       "        vertical-align: top;\n",
       "    }\n",
       "\n",
       "    .dataframe thead th {\n",
       "        text-align: right;\n",
       "    }\n",
       "</style>\n",
       "<table border=\"1\" class=\"dataframe\">\n",
       "  <thead>\n",
       "    <tr style=\"text-align: right;\">\n",
       "      <th></th>\n",
       "      <th>Title</th>\n",
       "      <th>Instructions</th>\n",
       "      <th>Image_Name</th>\n",
       "      <th>Cleaned_Ingredients</th>\n",
       "    </tr>\n",
       "  </thead>\n",
       "  <tbody>\n",
       "    <tr>\n",
       "      <th>0</th>\n",
       "      <td>Miso-Butter Roast Chicken With Acorn Squash Pa...</td>\n",
       "      <td>Pat chicken dry with paper towels, season all ...</td>\n",
       "      <td>miso-butter-roast-chicken-acorn-squash-panzanella</td>\n",
       "      <td>'1 (3½–4-lb.) whole chicken', '2¾ tsp. kosher ...</td>\n",
       "    </tr>\n",
       "    <tr>\n",
       "      <th>1</th>\n",
       "      <td>Crispy Salt and Pepper Potatoes</td>\n",
       "      <td>Preheat oven to 400°F and line a rimmed baking...</td>\n",
       "      <td>crispy-salt-and-pepper-potatoes-dan-kluger</td>\n",
       "      <td>'2 large egg whites', '1 pound new potatoes (a...</td>\n",
       "    </tr>\n",
       "    <tr>\n",
       "      <th>2</th>\n",
       "      <td>Thanksgiving Mac and Cheese</td>\n",
       "      <td>Place a rack in middle of oven; preheat to 400...</td>\n",
       "      <td>thanksgiving-mac-and-cheese-erick-williams</td>\n",
       "      <td>'1 cup evaporated milk', '1 cup whole milk', '...</td>\n",
       "    </tr>\n",
       "    <tr>\n",
       "      <th>3</th>\n",
       "      <td>Italian Sausage and Bread Stuffing</td>\n",
       "      <td>Preheat oven to 350°F with rack in middle. Gen...</td>\n",
       "      <td>italian-sausage-and-bread-stuffing-240559</td>\n",
       "      <td>'1 (¾- to 1-pound) round Italian loaf, cut int...</td>\n",
       "    </tr>\n",
       "    <tr>\n",
       "      <th>4</th>\n",
       "      <td>Newton's Law</td>\n",
       "      <td>Stir together brown sugar and hot water in a c...</td>\n",
       "      <td>newtons-law-apple-bourbon-cocktail</td>\n",
       "      <td>'1 teaspoon dark brown sugar', '1 teaspoon hot...</td>\n",
       "    </tr>\n",
       "    <tr>\n",
       "      <th>...</th>\n",
       "      <td>...</td>\n",
       "      <td>...</td>\n",
       "      <td>...</td>\n",
       "      <td>...</td>\n",
       "    </tr>\n",
       "    <tr>\n",
       "      <th>13496</th>\n",
       "      <td>Brownie Pudding Cake</td>\n",
       "      <td>Preheat the oven to 350°F. Into a bowl sift to...</td>\n",
       "      <td>brownie-pudding-cake-14408</td>\n",
       "      <td>'1 cup all-purpose flour', '2/3 cup unsweetene...</td>\n",
       "    </tr>\n",
       "    <tr>\n",
       "      <th>13497</th>\n",
       "      <td>Israeli Couscous with Roasted Butternut Squash...</td>\n",
       "      <td>Preheat oven to 475°F.\\nHalve lemons and scoop...</td>\n",
       "      <td>israeli-couscous-with-roasted-butternut-squash...</td>\n",
       "      <td>'1 preserved lemon', '1 1/2 pound butternut sq...</td>\n",
       "    </tr>\n",
       "    <tr>\n",
       "      <th>13498</th>\n",
       "      <td>Rice with Soy-Glazed Bonito Flakes and Sesame ...</td>\n",
       "      <td>If using katsuo bushi flakes from package, moi...</td>\n",
       "      <td>rice-with-soy-glazed-bonito-flakes-and-sesame-...</td>\n",
       "      <td>'Leftover katsuo bushi (dried bonito flakes) f...</td>\n",
       "    </tr>\n",
       "    <tr>\n",
       "      <th>13499</th>\n",
       "      <td>Spanakopita</td>\n",
       "      <td>Melt 1 tablespoon butter in a 12-inch heavy sk...</td>\n",
       "      <td>spanakopita-107344</td>\n",
       "      <td>'1 stick (1/2 cup) plus 1 tablespoon unsalted ...</td>\n",
       "    </tr>\n",
       "    <tr>\n",
       "      <th>13500</th>\n",
       "      <td>Mexican Poblano, Spinach, and Black Bean \"Lasa...</td>\n",
       "      <td>Lay 4 chiles on their sides on racks of gas bu...</td>\n",
       "      <td>mexican-poblano-spinach-and-black-bean-lasagne...</td>\n",
       "      <td>'12 medium to large fresh poblano chiles (2 1/...</td>\n",
       "    </tr>\n",
       "  </tbody>\n",
       "</table>\n",
       "<p>13501 rows × 4 columns</p>\n",
       "</div>"
      ],
      "text/plain": [
       "                                                   Title  \\\n",
       "0      Miso-Butter Roast Chicken With Acorn Squash Pa...   \n",
       "1                        Crispy Salt and Pepper Potatoes   \n",
       "2                            Thanksgiving Mac and Cheese   \n",
       "3                     Italian Sausage and Bread Stuffing   \n",
       "4                                           Newton's Law   \n",
       "...                                                  ...   \n",
       "13496                               Brownie Pudding Cake   \n",
       "13497  Israeli Couscous with Roasted Butternut Squash...   \n",
       "13498  Rice with Soy-Glazed Bonito Flakes and Sesame ...   \n",
       "13499                                        Spanakopita   \n",
       "13500  Mexican Poblano, Spinach, and Black Bean \"Lasa...   \n",
       "\n",
       "                                            Instructions  \\\n",
       "0      Pat chicken dry with paper towels, season all ...   \n",
       "1      Preheat oven to 400°F and line a rimmed baking...   \n",
       "2      Place a rack in middle of oven; preheat to 400...   \n",
       "3      Preheat oven to 350°F with rack in middle. Gen...   \n",
       "4      Stir together brown sugar and hot water in a c...   \n",
       "...                                                  ...   \n",
       "13496  Preheat the oven to 350°F. Into a bowl sift to...   \n",
       "13497  Preheat oven to 475°F.\\nHalve lemons and scoop...   \n",
       "13498  If using katsuo bushi flakes from package, moi...   \n",
       "13499  Melt 1 tablespoon butter in a 12-inch heavy sk...   \n",
       "13500  Lay 4 chiles on their sides on racks of gas bu...   \n",
       "\n",
       "                                              Image_Name  \\\n",
       "0      miso-butter-roast-chicken-acorn-squash-panzanella   \n",
       "1             crispy-salt-and-pepper-potatoes-dan-kluger   \n",
       "2             thanksgiving-mac-and-cheese-erick-williams   \n",
       "3              italian-sausage-and-bread-stuffing-240559   \n",
       "4                     newtons-law-apple-bourbon-cocktail   \n",
       "...                                                  ...   \n",
       "13496                         brownie-pudding-cake-14408   \n",
       "13497  israeli-couscous-with-roasted-butternut-squash...   \n",
       "13498  rice-with-soy-glazed-bonito-flakes-and-sesame-...   \n",
       "13499                                 spanakopita-107344   \n",
       "13500  mexican-poblano-spinach-and-black-bean-lasagne...   \n",
       "\n",
       "                                     Cleaned_Ingredients  \n",
       "0      '1 (3½–4-lb.) whole chicken', '2¾ tsp. kosher ...  \n",
       "1      '2 large egg whites', '1 pound new potatoes (a...  \n",
       "2      '1 cup evaporated milk', '1 cup whole milk', '...  \n",
       "3      '1 (¾- to 1-pound) round Italian loaf, cut int...  \n",
       "4      '1 teaspoon dark brown sugar', '1 teaspoon hot...  \n",
       "...                                                  ...  \n",
       "13496  '1 cup all-purpose flour', '2/3 cup unsweetene...  \n",
       "13497  '1 preserved lemon', '1 1/2 pound butternut sq...  \n",
       "13498  'Leftover katsuo bushi (dried bonito flakes) f...  \n",
       "13499  '1 stick (1/2 cup) plus 1 tablespoon unsalted ...  \n",
       "13500  '12 medium to large fresh poblano chiles (2 1/...  \n",
       "\n",
       "[13501 rows x 4 columns]"
      ]
     },
     "execution_count": 15,
     "metadata": {},
     "output_type": "execute_result"
    }
   ],
   "source": [
    "food_ingredients"
   ]
  },
  {
   "cell_type": "code",
   "execution_count": 16,
   "id": "e2a8f49f",
   "metadata": {},
   "outputs": [
    {
     "data": {
      "text/plain": [
       "['{\"id\": 0, \"Title\": \"Miso-Butter Roast Chicken With Acorn Squash Panzanella\", \"Instructions\": [\"Pat chicken dry with paper towels, season all over with 2 tsp\", \" salt, and tie legs together with kitchen twine\", \" Let sit at room temperature 1 hour\", \"\\\\nMeanwhile, halve squash and scoop out seeds\", \" Run a vegetable peeler along ridges of squash halves to remove skin\", \" Cut each half into \\\\u00bd\\\\\"-thick wedges; arrange on a rimmed baking sheet\", \"\\\\nCombine sage, rosemary, and 6 Tbsp\", \" melted butter in a large bowl; pour half of mixture over squash on baking sheet\", \" Sprinkle squash with allspice, red pepper flakes, and \\\\u00bd tsp\", \" salt and season with black pepper; toss to coat\", \"\\\\nAdd bread, apples, oil, and \\\\u00bc tsp\", \" salt to remaining herb butter in bowl; season with black pepper and toss to combine\", \" Set aside\", \"\\\\nPlace onion and vinegar in a small bowl; season with salt and toss to coat\", \" Let sit, tossing occasionally, until ready to serve\", \"\\\\nPlace a rack in middle and lower third of oven; preheat to 425\\\\u00b0F\", \" Mix miso and 3 Tbsp\", \" room-temperature butter in a small bowl until smooth\", \" Pat chicken dry with paper towels, then rub or brush all over with miso butter\", \" Place chicken in a large cast-iron skillet and roast on middle rack until an instant-read thermometer inserted into the thickest part of breast registers 155\\\\u00b0F, 50\\\\u201360 minutes\", \" (Temperature will climb to 165\\\\u00b0F while chicken rests\", \") Let chicken rest in skillet at least 5 minutes, then transfer to a plate; reserve skillet\", \"\\\\nMeanwhile, roast squash on lower rack until mostly tender, about 25 minutes\", \" Remove from oven and scatter reserved bread mixture over, spreading into as even a layer as you can manage\", \" Return to oven and roast until bread is golden brown and crisp and apples are tender, about 15 minutes\", \" Remove from oven, drain pickled onions, and toss to combine\", \" Transfer to a serving dish\", \"\\\\nUsing your fingers, mash flour and butter in a small bowl to combine\", \"\\\\nSet reserved skillet with chicken drippings over medium heat\", \" You should have about \\\\u00bc cup, but a little over or under is all good\", \" (If you have significantly more, drain off and set excess aside\", \") Add wine and cook, stirring often and scraping up any browned bits with a wooden spoon, until bits are loosened and wine is reduced by about half (you should be able to smell the wine), about 2 minutes\", \" Add butter mixture; cook, stirring often, until a smooth paste forms, about 2 minutes\", \" Add broth and any reserved drippings and cook, stirring constantly, until combined and thickened, 6\\\\u20138 minutes\", \" Remove from heat and stir in miso\", \" Taste and season with salt and black pepper\", \"\\\\nServe chicken with gravy and squash panzanella alongside\", \"\"], \"Image_Name\": \"miso-butter-roast-chicken-acorn-squash-panzanella\", \"Ingredients\": [\"\\'1 (3\\\\u00bd\\\\u20134-lb.) whole chicken\\'\", \" \\'2\\\\u00be tsp. kosher salt\", \" divided\", \" plus more\\'\", \" \\'2 small acorn squash (about 3 lb. total)\\'\", \" \\'2 Tbsp. finely chopped sage\\'\", \" \\'1 Tbsp. finely chopped rosemary\\'\", \" \\'6 Tbsp. unsalted butter\", \" melted\", \" plus 3 Tbsp. room temperature\\'\", \" \\'\\\\u00bc tsp. ground allspice\\'\", \" \\'Pinch of crushed red pepper flakes\\'\", \" \\'Freshly ground black pepper\\'\", \" \\'\\\\u2153 loaf good-quality sturdy white bread\", \" torn into 1\\\\\" pieces (about 2\\\\u00bd cups)\\'\", \" \\'2 medium apples (such as Gala or Pink Lady; about 14 oz. total)\", \" cored\", \" cut into 1\\\\\" pieces\\'\", \" \\'2 Tbsp. extra-virgin olive oil\\'\", \" \\'\\\\u00bd small red onion\", \" thinly sliced\\'\", \" \\'3 Tbsp. apple cider vinegar\\'\", \" \\'1 Tbsp. white miso\\'\", \" \\'\\\\u00bc cup all-purpose flour\\'\", \" \\'2 Tbsp. unsalted butter\", \" room temperature\\'\", \" \\'\\\\u00bc cup dry white wine\\'\", \" \\'2 cups unsalted chicken broth\\'\", \" \\'2 tsp. white miso\\'\", \" \\'Kosher salt\\'\", \" \\'freshly ground pepper\\'\"]}',\n",
       " '{\"id\": 1, \"Title\": \"Crispy Salt and Pepper Potatoes\", \"Instructions\": [\"Preheat oven to 400\\\\u00b0F and line a rimmed baking sheet with parchment\", \" In a large bowl, whisk the egg whites until foamy (there shouldn\\\\u2019t be any liquid whites in the bowl)\", \" Add the potatoes and toss until they\\\\u2019re well coated with the egg whites, then transfer to a strainer or colander and let the excess whites drain\", \" Season the potatoes with the salt, pepper, and herbs\", \" Scatter the potatoes on the baking sheet (make sure they\\\\u2019re not touching) and roast until the potatoes are very crispy and tender when poked with a knife, 15 to 20 minutes (depending on the size of the potatoes)\", \"\\\\nTransfer to a bowl and serve\", \"\"], \"Image_Name\": \"crispy-salt-and-pepper-potatoes-dan-kluger\", \"Ingredients\": [\"\\'2 large egg whites\\'\", \" \\'1 pound new potatoes (about 1 inch in diameter)\\'\", \" \\'2 teaspoons kosher salt\\'\", \" \\'\\\\u00be teaspoon finely ground black pepper\\'\", \" \\'1 teaspoon finely chopped rosemary\\'\", \" \\'1 teaspoon finely chopped thyme\\'\", \" \\'1 teaspoon finely chopped parsley\\'\"]}',\n",
       " '{\"id\": 2, \"Title\": \"Thanksgiving Mac and Cheese\", \"Instructions\": [\"Place a rack in middle of oven; preheat to 400\\\\u00b0\", \" Bring evaporated milk and whole milk to a bare simmer in a large saucepan over medium heat\", \" Whisk in garlic powder, onion powder, paprika, pepper, and 1 tsp\", \" salt\", \" Working in batches, whisk in three fourths of the cheddar, then all of the cream cheese\", \"\\\\nMeanwhile, bring a large pot of generously salted water to a boil (it should have a little less salt than seawater)\", \" Cook macaroni, stirring occasionally, until very al dente, about 4 minutes\", \" Drain in a colander\", \"\\\\nAdd macaroni to cheese sauce in pan and mix until well coated\", \" Evenly spread out half of macaroni mixture in a 13x9\\\\\" baking dish\", \" Sprinkle half of remaining cheddar evenly over\", \" Layer remaining macaroni mixture on top and sprinkle with remaining cheddar\", \" Bake until all of the cheese is melted, about 10 minutes\", \" Let cool slightly before serving\", \"\"], \"Image_Name\": \"thanksgiving-mac-and-cheese-erick-williams\", \"Ingredients\": [\"\\'1 cup evaporated milk\\'\", \" \\'1 cup whole milk\\'\", \" \\'1 tsp. garlic powder\\'\", \" \\'1 tsp. onion powder\\'\", \" \\'1 tsp. smoked paprika\\'\", \" \\'\\\\u00bd tsp. freshly ground black pepper\\'\", \" \\'1 tsp. kosher salt\", \" plus more\\'\", \" \\'2 lb. extra-sharp cheddar\", \" coarsely grated\\'\", \" \\'4 oz. full-fat cream cheese\\'\", \" \\'1 lb. elbow macaroni\\'\"]}',\n",
       " '{\"id\": 3, \"Title\": \"Italian Sausage and Bread Stuffing\", \"Instructions\": [\"Preheat oven to 350\\\\u00b0F with rack in middle\", \" Generously butter baking dish\", \"\\\\nPut bread in 2 shallow baking pans and bake, switching position of pans halfway through baking, until just dried out, about 10 minutes\", \"\\\\nHeat 1 tablespoon oil in a 12-inch heavy skillet over medium-high heat until it shimmers, then cook half of sausage, stirring and breaking it into small pieces, until golden brown, about 6 minutes\", \" Transfer with a slotted spoon to a large bowl\", \" Brown remaining sausage in remaining tablespoon oil, transferring to bowl\", \"\\\\nPour off fat from skillet and wipe clean\", \" Heat butter over medium heat until foam subsides, then cook onions, celery, garlic, and \\\\u00bd teaspoon each of salt and pepper, stirring occasionally, until golden, 12 to 15 minutes\", \" Add vegetables and bread to sausage\", \"\\\\nWhisk together eggs, \\\\u00bd cup cream, turkey stock, cheese, and parsley, then stir into stuffing and cool completely, about 30 minutes\", \" Reserve 5 cups stuffing to stuff turkey and spoon remainder into baking dish, then drizzle with remaining \\\\u00bc cup cream\", \" Cover stuffing and chill\", \"\\\\nAbout 1 hour before stuffed turkey is finished roasting, bring dish of stuffing to room temperature\", \" When turkey is done, increase oven temperature to 425\\\\u00b0F and bake stuffing, covered tightly with foil, until hot throughout, about 20 minutes\", \" Remove foil and bake until top is golden and crisp, about 15 minutes more\", \"\\\\nCooks\\' Note: Bread can be toasted 3 days ahead and kept (once cool) in a sealed bag at room temperature\", \" Stuffing can be prepared (but not baked) 4 hours before roasting turkey\", \" If baking stuffing at the same time as potatoes, put stuffing in upper third of oven and potatoes in bottom third (allow extra time)\", \"\"], \"Image_Name\": \"italian-sausage-and-bread-stuffing-240559\", \"Ingredients\": [\"\\'1 (\\\\u00be- to 1-pound) round Italian loaf\", \" cut into 1-inch cubes (8 cups)\\'\", \" \\'2 tablespoons olive oil\", \" divided\\'\", \" \\'2 pounds sweet Italian sausage\", \" casings removed\", \" divided\\'\", \" \\'1 stick unsalted butter\", \" cut into pieces\\'\", \" \\'3 medium onions\", \" chopped\\'\", \" \\'4 large celery ribs\", \" chopped\\'\", \" \\'5 garlic cloves\", \" minced\\'\", \" \\'4 large eggs\", \" lightly beaten\\'\", \" \\'\\\\u00be cup heavy cream\", \" divided\\'\", \" \\'\\\\u00bd cup turkey giblet stock or reduced-sodium chicken broth\\'\", \" \\'1 cup grated Parmigiano-Reggiano (2 ounces)\\'\", \" \\'\\\\u00bd cup coarsely chopped flat-leaf parsley\\'\", \" \\'4-qt shallow ceramic or glass baking dish\\'\"]}',\n",
       " '{\"id\": 4, \"Title\": \"Newton\\'s Law\", \"Instructions\": [\"Stir together brown sugar and hot water in a cocktail shaker to dissolve\", \" Let cool, then add bourbon, lemon juice, and apple butter and fill with ice\", \" Shake until well chilled, about 15 seconds\", \" Strain into an ice-filled rocks glass\", \" Garnish with orange twist and cinnamon\", \"\"], \"Image_Name\": \"newtons-law-apple-bourbon-cocktail\", \"Ingredients\": [\"\\'1 teaspoon dark brown sugar\\'\", \" \\'1 teaspoon hot water\\'\", \" \\'1 \\\\u00bd oz. bourbon\\'\", \" \\'\\\\u00bd oz. fresh lemon juice\\'\", \" \\'2 teaspoons apple butter (storebought or homemade)\\'\", \" \\'Garnish: orange twist and freshly grated or ground cinnamon\\'\"]}']"
      ]
     },
     "execution_count": 16,
     "metadata": {},
     "output_type": "execute_result"
    }
   ],
   "source": [
    "return_data = []\n",
    "for i in range(len(food_ingredients)):\n",
    "    data = {\n",
    "        'id':i,\n",
    "        'Title':food_ingredients.iloc[i].to_dict()[\"Title\"],\n",
    "        'Instructions':[x for x in str(food_ingredients.iloc[i].to_dict()[\"Instructions\"]).split('.')],\n",
    "        'Image_Name':food_ingredients.iloc[i].to_dict()[\"Image_Name\"],\n",
    "        'Ingredients':[x for x in food_ingredients.iloc[i].to_dict()[\"Cleaned_Ingredients\"].split(',')],\n",
    "\n",
    "    }\n",
    "    return_data.append(json.dumps(data)) \n",
    "return_data[:5]"
   ]
  },
  {
   "cell_type": "code",
   "execution_count": 62,
   "id": "dfbd1341",
   "metadata": {},
   "outputs": [
    {
     "data": {
      "text/plain": [
       "'{\"id\": 0, \"Title\": \"Miso-Butter Roast Chicken With Acorn Squash Panzanella\", \"Instructions\": [\"Pat chicken dry with paper towels, season all over with 2 tsp\", \" salt, and tie legs together with kitchen twine\", \" Let sit at room temperature 1 hour\", \"\\\\nMeanwhile, halve squash and scoop out seeds\", \" Run a vegetable peeler along ridges of squash halves to remove skin\", \" Cut each half into \\\\u00bd\\\\\"-thick wedges; arrange on a rimmed baking sheet\", \"\\\\nCombine sage, rosemary, and 6 Tbsp\", \" melted butter in a large bowl; pour half of mixture over squash on baking sheet\", \" Sprinkle squash with allspice, red pepper flakes, and \\\\u00bd tsp\", \" salt and season with black pepper; toss to coat\", \"\\\\nAdd bread, apples, oil, and \\\\u00bc tsp\", \" salt to remaining herb butter in bowl; season with black pepper and toss to combine\", \" Set aside\", \"\\\\nPlace onion and vinegar in a small bowl; season with salt and toss to coat\", \" Let sit, tossing occasionally, until ready to serve\", \"\\\\nPlace a rack in middle and lower third of oven; preheat to 425\\\\u00b0F\", \" Mix miso and 3 Tbsp\", \" room-temperature butter in a small bowl until smooth\", \" Pat chicken dry with paper towels, then rub or brush all over with miso butter\", \" Place chicken in a large cast-iron skillet and roast on middle rack until an instant-read thermometer inserted into the thickest part of breast registers 155\\\\u00b0F, 50\\\\u201360 minutes\", \" (Temperature will climb to 165\\\\u00b0F while chicken rests\", \") Let chicken rest in skillet at least 5 minutes, then transfer to a plate; reserve skillet\", \"\\\\nMeanwhile, roast squash on lower rack until mostly tender, about 25 minutes\", \" Remove from oven and scatter reserved bread mixture over, spreading into as even a layer as you can manage\", \" Return to oven and roast until bread is golden brown and crisp and apples are tender, about 15 minutes\", \" Remove from oven, drain pickled onions, and toss to combine\", \" Transfer to a serving dish\", \"\\\\nUsing your fingers, mash flour and butter in a small bowl to combine\", \"\\\\nSet reserved skillet with chicken drippings over medium heat\", \" You should have about \\\\u00bc cup, but a little over or under is all good\", \" (If you have significantly more, drain off and set excess aside\", \") Add wine and cook, stirring often and scraping up any browned bits with a wooden spoon, until bits are loosened and wine is reduced by about half (you should be able to smell the wine), about 2 minutes\", \" Add butter mixture; cook, stirring often, until a smooth paste forms, about 2 minutes\", \" Add broth and any reserved drippings and cook, stirring constantly, until combined and thickened, 6\\\\u20138 minutes\", \" Remove from heat and stir in miso\", \" Taste and season with salt and black pepper\", \"\\\\nServe chicken with gravy and squash panzanella alongside\", \"\"], \"Image_Name\": \"miso-butter-roast-chicken-acorn-squash-panzanella\", \"Ingredients\": [\"\\'1 (3\\\\u00bd\\\\u20134-lb.) whole chicken\\'\", \" \\'2\\\\u00be tsp. kosher salt\", \" divided\", \" plus more\\'\", \" \\'2 small acorn squash (about 3 lb. total)\\'\", \" \\'2 Tbsp. finely chopped sage\\'\", \" \\'1 Tbsp. finely chopped rosemary\\'\", \" \\'6 Tbsp. unsalted butter\", \" melted\", \" plus 3 Tbsp. room temperature\\'\", \" \\'\\\\u00bc tsp. ground allspice\\'\", \" \\'Pinch of crushed red pepper flakes\\'\", \" \\'Freshly ground black pepper\\'\", \" \\'\\\\u2153 loaf good-quality sturdy white bread\", \" torn into 1\\\\\" pieces (about 2\\\\u00bd cups)\\'\", \" \\'2 medium apples (such as Gala or Pink Lady; about 14 oz. total)\", \" cored\", \" cut into 1\\\\\" pieces\\'\", \" \\'2 Tbsp. extra-virgin olive oil\\'\", \" \\'\\\\u00bd small red onion\", \" thinly sliced\\'\", \" \\'3 Tbsp. apple cider vinegar\\'\", \" \\'1 Tbsp. white miso\\'\", \" \\'\\\\u00bc cup all-purpose flour\\'\", \" \\'2 Tbsp. unsalted butter\", \" room temperature\\'\", \" \\'\\\\u00bc cup dry white wine\\'\", \" \\'2 cups unsalted chicken broth\\'\", \" \\'2 tsp. white miso\\'\", \" \\'Kosher salt\\'\", \" \\'freshly ground pepper\\'\"]}'"
      ]
     },
     "execution_count": 62,
     "metadata": {},
     "output_type": "execute_result"
    }
   ],
   "source": [
    "return_data[0]"
   ]
  },
  {
   "cell_type": "markdown",
   "id": "d9612795",
   "metadata": {},
   "source": [
    "# Try search by tf idf and spell checking \n"
   ]
  },
  {
   "cell_type": "code",
   "execution_count": 128,
   "id": "7790ab39",
   "metadata": {},
   "outputs": [],
   "source": [
    "import ast"
   ]
  },
  {
   "cell_type": "code",
   "execution_count": 160,
   "id": "39a7751e",
   "metadata": {},
   "outputs": [],
   "source": [
    "def search_by_name_tfidf(query=\"Misoo butterr chickken\"):\n",
    "    misspelled = spell.unknown(query.split(\" \"))\n",
    "    if len(misspelled)==0:\n",
    "        searched_data = serach_by_tf_idf(query)[:10]\n",
    "        for i in searched_data:\n",
    "            print(ast.literal_eval(return_data[i])[\"Title\"])\n",
    "    else:\n",
    "        print(\"did you mean\",end=\" \")\n",
    "        for word in misspelled:\n",
    "            print(spell.correction(word),end=\" \")\n",
    "       "
   ]
  },
  {
   "cell_type": "code",
   "execution_count": 161,
   "id": "8cee8579",
   "metadata": {},
   "outputs": [
    {
     "name": "stdout",
     "output_type": "stream",
     "text": [
      "did you mean butter chicken miso "
     ]
    }
   ],
   "source": [
    "search_by_name_tfidf()"
   ]
  },
  {
   "cell_type": "markdown",
   "id": "5041b7e9",
   "metadata": {},
   "source": [
    "# search by ingredient with tfidf with spell checking"
   ]
  },
  {
   "cell_type": "code",
   "execution_count": 99,
   "id": "eb6697ee",
   "metadata": {},
   "outputs": [],
   "source": [
    "def search_by_ingre_tfidf(query=\"chicken\"):\n",
    "    misspelled = spell.unknown(query.split(\" \"))\n",
    "    if len(misspelled)==0:\n",
    "#         vectorizer = TfidfVectorizer(ngram_range=(1,3))\n",
    "#         X_ingr = vectorizer.fit_transform(food[\"Cleaned_Ingredients\"].astype('U'))\n",
    "        searched_data = serach_ingre_tf_idf(query)[:10]\n",
    "        for i in searched_data:\n",
    "            print(return_data[i])\n",
    "    else:\n",
    "        print(\"did you mean\",end=\" \")\n",
    "        for word in misspelled:\n",
    "            print(spell.correction(word),end=\" \")"
   ]
  },
  {
   "cell_type": "code",
   "execution_count": 100,
   "id": "f73e789f",
   "metadata": {},
   "outputs": [
    {
     "name": "stdout",
     "output_type": "stream",
     "text": [
      "{\"id\": 2599, \"Title\": \"Fully Salted Roast Chicken\", \"Instructions\": [\"Pat dry chicken with paper towels\", \" Holding a 5-finger pinch of salt and positioning your hand at least 10\\\" above chicken, evenly rain salt down over chicken\", \" Repeat with several more pinches of salt until both inside and outside of chicken are covered with salt (be generous and make sure to get inside all the nooks and crannies)\", \" Place chicken on a wire rack set inside a rimmed baking sheet and chill uncovered at least 8 hours and up to 1 day\", \"\\nLet sit at room temperature 1 hour\", \"\\nPreheat oven to 425\\u00b0F\", \" Roast chicken until an instant-read thermometer inserted into the thickest part of chicken thigh registers 165\\u00b0F, 40\\u201355 minutes\", \" Transfer chicken to a cutting board and let rest 15 minutes before carving\", \"\"], \"Image_Name\": \"fully-salted-roast-chicken\", \"Ingredients\": [\"'1 (3 1/2\\u20134-lb.) chicken'\", \" 'Kosher salt'\"]}\n",
      "{\"id\": 1398, \"Title\": \"Lentil and Chicken Soup with Sweet Potatoes and Escarole\", \"Instructions\": [\"Place chicken carcass, potatoes, lentils, and 1 tsp\", \" salt in a large pot\", \" Cover with 8 cups water\", \" Bring to a boil over high heat, skimming off any foam, then reduce heat to medium-low and simmer until potatoes are fork tender and lentils are cooked through, 10\\u201312 minutes\", \" Discard chicken carcass\", \"\\nMeanwhile, heat oil in a large heavy skillet over medium-high\", \" Add celery and garlic and cook, stirring often, until celery and garlic are lightly golden brown and tender, about 12 minutes\", \"\\nStir celery, garlic, shredded chicken, and escarole into soup and cook, stirring occasionally, until escarole is wilted, about 5 minutes\", \" Remove from heat\", \" Stir in dill and lemon juice; season soup with salt\", \"\"], \"Image_Name\": \"lentil-and-chicken-soup-with-sweet-potatoes-and-escarole\", \"Ingredients\": [\"'1 cooked chicken carcass (from 1 store-bought rotisserie chicken or homemade roast chicken)'\", \" '1 lb. sweet potatoes (about 2 medium)\", \" peeled\", \" cut into 1\\\" pieces'\", \" '3/4 cup French lentils (about 5 oz.)\", \" rinsed'\", \" '1 tsp. kosher salt\", \" plus more'\", \" '2 Tbsp. extra-virgin olive oil'\", \" '10 celery stalks\", \" sliced on the bias into 1/4\\\" slices'\", \" '6 garlic cloves\", \" thinly sliced'\", \" '1 1/2 cups shredded cooked chicken (from 1/2 of a store-bought rotisserie chicken or homemade roast chicken)'\", \" '1/2 head escarole\", \" cut into bite-size pieces'\", \" '1/2 cup finely chopped dill'\", \" '2 Tbsp. fresh lemon juice'\"]}\n",
      "{\"id\": 5783, \"Title\": \"Southern-Style Fried Chicken\", \"Instructions\": [\"Rinse chicken and pat dry with paper towels\", \" Place shortening in a large cast-iron skillet and heat to 350\\u00b0F\", \" Melted shortening should be 1/2 inch deep\", \"\\nIn a shallow bowl, whip together buttermilk and eggs\", \" In another shallow bowl, combine flour, salt, and pepper\", \" Dip chicken pieces in egg mixture, then dredge in seasoned flour\", \" Carefully place about half of the chicken pieces in hot shortening\", \" (The temperature of the shortening will drop when you add the chicken; try to maintain a temperature of 325\\u00b0F\", \") Fry chicken until golden brown on all sides or until each piece reaches an internal temperature of 160\\u00b0F, turning the chicken several times to prevent burned spots\", \" This will take about 10 minutes for skinless breasts and 20 minutes for pieces with skin and bones\", \" Drain cooked chicken on a rack, then keep warm in a 200\\u00b0F oven while frying remaining chicken\", \" Serve with chicken velout\\u00e9\", \"\"], \"Image_Name\": \"southern-style-fried-chicken-51142800\", \"Ingredients\": [\"'4 skinless chicken breast halves (8 ounces each)\", \" or 1 whole chicken (3 to 3 1/2 pounds)\", \" cut into serving pieces'\", \" 'Shortening for frying'\", \" '1/2 cup buttermilk'\", \" '2 large eggs\", \" beaten'\", \" '1 1/2 cups flour'\", \" '1 1/2 teaspoons salt'\", \" '1 teaspoon black pepper'\", \" 'Chicken Velout\\u00e9'\"]}\n",
      "{\"id\": 1691, \"Title\": \"Cast-Iron Roast Chicken\", \"Instructions\": [\"Pat chicken dry with paper towels and season generously with salt, inside and out\", \" (We use 1 tsp\", \" Diamond Crystal or 1/2 tsp\", \" Morton kosher salt per lb\", \") Tie legs together with kitchen twine\", \" Let sit 1 hour to allow salt to penetrate, or chill, uncovered, up to 1 day ahead\", \"\\nPlace a rack in upper third of oven and set a 12\\\" cast-iron skillet or 3-qt\", \" enameled cast-iron baking dish on rack\", \" Preheat oven to 425\\u00b0F\", \" Once oven reaches temperature, pat chicken dry with paper towels and lightly coat with half of the oil\", \" Drizzle remaining oil into hot skillet (this helps keep the chicken from sticking and tearing the skin)\", \" Place chicken in skillet and roast until an instant-read thermometer inserted into the thickest part of breasts registers 155\\u00b0F, 50\\u201360 minutes (temperature will climb to 165\\u00b0F as chicken rests)\", \" Let chicken rest in skillet at least 20 minutes and up to 45 minutes\", \"Transfer chicken to a cutting board and carve legs off, followed by breasts\", \"\"], \"Image_Name\": \"cast-iron-roast-chicken\", \"Ingredients\": [\"'1 (3 1/2\\u20134-pound) whole chicken'\", \" 'Kosher salt'\", \" '1 tablespoon olive oil'\"]}\n",
      "{\"id\": 8074, \"Title\": \"Dr. Lee's Red Wine Chicken Stew\", \"Instructions\": [\"In a Dutch oven at medium heat, combine olive oil and garlic and saut\\u00e9 briefly\", \" Then add tomatoes and cook for five minutes\", \" Add chicken breasts, onion, mushrooms, wine, chicken stock, and thyme\", \" Lower heat and cook for 40 to 50 minutes until chicken breasts are done\", \"\"], \"Image_Name\": \"dr-lees-red-wine-chicken-stew-357010\", \"Ingredients\": [\"'1 tbsp olive oil'\", \" '2 cloves of garlic\", \" mashed'\", \" '1/2 cup chopped tomatoes'\", \" '2 boneless chicken breasts'\", \" '1 cup sliced onion'\", \" '1 cup sliced mushrooms'\", \" '1 cup full-bodied red wine'\", \" '1 cup chicken stock (1 cup water plus 1/2 chicken or vegetable bouillon cube)'\", \" '1/4 tsp thyme'\"]}\n",
      "{\"id\": 11076, \"Title\": \"Chicken Paprikash with Sour Cream\", \"Instructions\": [\"In slow cooker, stir together onions, 1/2 teaspoon salt, and paprika\", \" Spread mixture evenly over bottom of insert\", \"\\nRub garlic halves over chicken, then sprinkle chicken with pepper and remaining 1/2 teaspoon salt\", \" In medium saucepan over moderately high heat, heat butter and oil until hot but not smoking\", \" Add chicken pieces and brown, turning occasionally, until golden, about 6 minutes\", \" Transfer to slow cooker (do not clean pan), layering chicken on top of onion mixture\", \"\\nIn same saucepan over high heat, bring stock to simmer, scraping up browned bits from bottom of pan\", \" Pour over chicken in slow cooker, cover, and cook on low until chicken is tender but not falling off bone, 5 to 6 hours\", \"\\nStir sour cream into sauce\", \" Garnish with dill and serve\", \"\"], \"Image_Name\": \"chicken-paprikash-with-sour-cream-237284\", \"Ingredients\": [\"'2 medium onions\", \" thinly sliced'\", \" '1 teaspoon kosher salt'\", \" '1 tablespoon sweet paprika'\", \" '1 teaspoon hot paprika'\", \" '1 garlic clove\", \" peeled and halved'\", \" '3 pounds chicken legs'\", \" '1/2 teaspoon freshly ground black pepper'\", \" '1 1/2 teaspoons olive oil'\", \" '1 1/2 teaspoons unsalted butter'\", \" '1/2 cup chicken stock or low-sodium chicken broth'\", \" '1/4 cup sour cream'\", \" 'Fresh dill\", \" chopped\", \" for garnish'\", \" 'Slow cooker'\"]}\n",
      "{\"id\": 2946, \"Title\": \"Easy Green Curry with Chicken, Bell Pepper, and Sugar Snap Peas\", \"Instructions\": [\"Heat oil in a medium pot over medium\", \" Cook curry paste, ginger, and lime zest, stirring, until heated through, about 1 minute\", \" Add onion and salt and cook, stirring, until onion is soft, about 3 minutes\", \" Add bell pepper and stir to combine\", \" Add chicken stock and bring to a boil, then reduce heat to low and simmer until pepper is crisp-tender, about 3 minutes\", \" Add chicken, snap peas, and coconut milk and cook over medium, being careful not to boil, until warmed through, about 5 minutes\", \" Stir in basil and lime juice\", \" Serve with rice or rice noodles and lime wedges alongside\", \"\"], \"Image_Name\": \"easy-green-curry-with-chicken-bell-pepper-and-sugar-snap-peas\", \"Ingredients\": [\"'1 tablespoon virgin coconut or canola oil'\", \" '1/4 cup green curry paste'\", \" '1 1/2 teaspoons freshly grated ginger'\", \" '1/2 teaspoon finely grated lime zest'\", \" '1 medium onion\", \" sliced into 1/4-inch strips'\", \" '1 teaspoon kosher salt'\", \" '1 red bell pepper\", \" sliced into 1/4-inch strips'\", \" '1 cup homemade chicken stock or low-sodium chicken broth'\", \" '4 cups 1/2-inch cubed cooked chicken (from 1 [2 1/2-pound] rotisserie chicken)'\", \" '1/2 pound sugar snap peas\", \" trimmed (about 2 1/2 cups)'\", \" '1 (14-ounce) can coconut milk'\", \" '1/4 cup basil leaves'\", \" '1 tablespoon fresh lime juice'\", \" 'Cooked rice or rice noodles and lime wedges (for serving)'\"]}\n",
      "{\"id\": 8516, \"Title\": \"Garlic Chicken\", \"Instructions\": [\"Rub the chicken with paprika, salt, and pepper and set aside at room temperature for at least 1 hour or preferably in the refrigerator at least 8 hours or overnight\", \"\\nPreheat the oven to 400\\u00b0F\", \"\\nIn a large saut\\u00e9 pan, heat the oil over medium heat\", \" Add the crushed garlic and cook, stirring, until softened but not colored, 2 minutes\", \" Add the chicken pieces and fry, turning as needed, until golden on both sides, 5 to 8 minutes\", \" You want them nicely colored on the outside but not cooked through\", \" Using a slotted spoon, transfer to paper towels to drain briefly, and then arrange the pieces in a cazuela or baking dish large enough to hold them in a single layer\", \"\\nRemove the crushed garlic from the oil and discard\", \" Return the pan to low heat\", \" Add the minced garlic and cook briefly\", \" Add the thyme, bay leaves, sherry, and broth, raise the heat to high, and bring to a boil\", \" Remove from the heat and pour over the chicken\", \"\\nBake the chicken until cooked through, 25 to 30 minutes\", \" Remove from the oven and discard the bay leaves and thyme\", \" If the pan juices are thin, transfer to a small saucepan and cook over medium high heat until reduced, and then return to the cazuela\", \" Sprinkle with the parsley and serve at once\", \"\\nYou also can complete the cooking on the stove top\", \" Saut\\u00e9 the minced garlic as directed, return the chicken to the pan, add the sherry and broth, and simmer, uncovered, until most of the liquid has evaporated and the chicken is tender, 15 to 20 minutes\"], \"Image_Name\": \"garlic-chicken-354571\", \"Ingredients\": [\"'4 boneless\", \" skinless chicken thighs\", \" cut into 1 1/2-inch pieces\", \" or 12 chicken wings\", \" tips removed'\", \" 'Sweet paprika'\", \" 'Salt and freshly ground black pepper'\", \" '1/3 cup olive oil'\", \" '6 cloves garlic\", \" crushed\", \" plus 2 cloves\", \" minced'\", \" '3 fresh thyme sprigs'\", \" '2 bay leaves'\", \" '1/2 cup fino or manzanilla sherry'\", \" '1/2 cup chicken broth'\", \" 'Chopped fresh flat-leaf parsley for garnish'\"]}\n",
      "{\"id\": 7446, \"Title\": \"Veal Chops with Sherry Gastrique and Roasted Peperonata\", \"Instructions\": [\"Boil all ingredients in large saucepan until reduced to generous 2/3 cup, about 30 minutes\", \" DO AHEAD: can be made 3 days ahead\", \" Cool, cover, and chill\", \"\\nPreheat oven to 425\\u00b0F\", \" Sprinkle veal on each side with coarse salt, pepper, 1/8 teaspoon allspice, 1/2 teaspoon thyme; dust generously with flour\", \" Heat 1 tablespoon chicken fat in heavy large nonstick skillet over medium-high heat\", \" Add 3 chops\", \" Sear until brown, 3 to 4 minutes per side\", \" Transfer to rimmed baking sheet\", \" Repeat with remaining veal chops\", \"\\nPlace chops in oven and roast until cooked to desired doneness, about 5 minutes for medium-rare (135\\u00b0F)\", \" Transfer chops to plates\", \" Reserve baking sheet\", \"\\nMeanwhile, stir broth and cornstarch in small bowl to dissolve\", \" Pour off all but 1 tablespoon drippings from skillet\", \" Add broth mixture, gastrique, and any juices from baking sheet to skillet\", \" Bring to boil, scraping up browned bits\", \" Boil until sauce thickens to desired consistency\", \"\\nSpoon gastrique over each chop\", \" Serve with peperonata and remaining gastrique\", \"\\nThis dish needs a red wine with good acidity\", \" The HAGAFEN 2008 NAPA VALLEY PINOT NOIR is top tier, and it's kosher\", \" (California, $32)\", \"\"], \"Image_Name\": \"veal-chops-with-sherry-gastrique-and-roasted-peperonata-362589\", \"Ingredients\": [\"'2 cups cream sherry'\", \" '1 1/2 cups low-salt chicken broth'\", \" '2/3 cup sherry wine vinegar'\", \" '1/4 cup (packed) dark brown sugar'\", \" '6 1-to 1 1/4-inch-thick veal rib chops coarse kosher salt'\", \" '1 1/2 teaspoons ground allspice'\", \" '2 tablespoons chopped fresh thyme'\", \" 'All purpose flour'\", \" '2 tablespoons chicken fat or olive oil\", \" divided'\", \" '1/3 cup low-salt chicken broth'\", \" '1 1/2 teaspoons cornstarch'\", \" 'Roasted Peperonata'\"]}\n",
      "{\"id\": 9867, \"Title\": \"Farfalle with Chicken, Tomatoes, Caramelized Onions, and Goat Cheese\", \"Instructions\": [\"Heat oil in heavy large skillet over mediumhigh heat\", \" Add onions; sprinkle with salt and cook until beginning to brown, stirring often, about 8 minutes\", \" Reduce heat to medium-low\", \" Stir in vinegar and sugar; cook until onions are browned, stirring often, about 15 minutes\", \" Transfer caramelized onions to bowl; reserve skillet\", \"\\nMeanwhile, cook pasta in large pot of boiling salted water until tender but still firm to bite, stirring occasionally\", \" Drain\", \"\\nAdd wine to reserved skillet\", \" Boil until reduced to 1/2 cup, 3 minutes\", \" Add pasta, onions, broth, and next 4 ingredients\", \" Season with salt and pepper\", \" Stir over medium heat to warm through, about 3 minutes\", \"\\nDivide spinach among plates\", \" Spoon pasta over spinach\", \" Top with crumbled goat cheese\", \"\"], \"Image_Name\": \"farfalle-with-chicken-tomatoes-caramelized-onions-and-goat-cheese-242501\", \"Ingredients\": [\"'2 tablespoons olive oil'\", \" '2 large red onions\", \" thinly sliced'\", \" '2 tablespoons Sherry wine vinegar'\", \" '1 teaspoon sugar'\", \" '8 ounces farfalle'\", \" '1 cup dry white wine'\", \" '1 cup low-salt chicken broth'\", \" '6 heirloom tomatoes\", \" cored\", \" chopped (about 5 cups)'\", \" '2 cups shredded cooked chicken (from 1/2 rotisserie chicken)'\", \" '1/2 cup thinly sliced basil leaves'\", \" '2 tablespoons chopped fresh marjoram'\", \" '3 cups baby spinach'\", \" '3 ounces soft fresh goat cheese'\", \" 'crumbled'\"]}\n"
     ]
    }
   ],
   "source": [
    "search_by_ingre_tfidf()"
   ]
  },
  {
   "cell_type": "markdown",
   "id": "4930748f",
   "metadata": {},
   "source": [
    "# SEARCH by Elasticsearch"
   ]
  },
  {
   "cell_type": "code",
   "execution_count": 167,
   "id": "53000011",
   "metadata": {},
   "outputs": [],
   "source": [
    "from elasticsearch import Elasticsearch\n"
   ]
  },
  {
   "cell_type": "code",
   "execution_count": 168,
   "id": "f9a3713c",
   "metadata": {},
   "outputs": [
    {
     "ename": "TypeError",
     "evalue": "__init__() got an unexpected keyword argument 'HOST'",
     "output_type": "error",
     "traceback": [
      "\u001b[0;31m---------------------------------------------------------------------------\u001b[0m",
      "\u001b[0;31mTypeError\u001b[0m                                 Traceback (most recent call last)",
      "\u001b[0;32m<ipython-input-168-525b927a96ec>\u001b[0m in \u001b[0;36m<module>\u001b[0;34m\u001b[0m\n\u001b[0;32m----> 1\u001b[0;31m \u001b[0mes\u001b[0m \u001b[0;34m=\u001b[0m \u001b[0mElasticsearch\u001b[0m\u001b[0;34m(\u001b[0m\u001b[0mHOST\u001b[0m\u001b[0;34m=\u001b[0m\u001b[0;34m\"http://localhost\"\u001b[0m\u001b[0;34m,\u001b[0m \u001b[0mPORT\u001b[0m\u001b[0;34m=\u001b[0m\u001b[0;36m9200\u001b[0m\u001b[0;34m)\u001b[0m\u001b[0;34m\u001b[0m\u001b[0;34m\u001b[0m\u001b[0m\n\u001b[0m\u001b[1;32m      2\u001b[0m \u001b[0mes\u001b[0m \u001b[0;34m=\u001b[0m \u001b[0mElasticsearch\u001b[0m\u001b[0;34m(\u001b[0m\u001b[0;34m)\u001b[0m\u001b[0;34m\u001b[0m\u001b[0;34m\u001b[0m\u001b[0m\n",
      "\u001b[0;31mTypeError\u001b[0m: __init__() got an unexpected keyword argument 'HOST'"
     ]
    }
   ],
   "source": [
    "es = Elasticsearch(HOST=\"http://localhost\", PORT=9200)\n",
    "es = Elasticsearch()"
   ]
  },
  {
   "cell_type": "markdown",
   "id": "6bd6de93",
   "metadata": {},
   "source": [
    "# The Suggestion System using machine learning"
   ]
  },
  {
   "cell_type": "code",
   "execution_count": null,
   "id": "6b39b794",
   "metadata": {},
   "outputs": [],
   "source": []
  }
 ],
 "metadata": {
  "kernelspec": {
   "display_name": "Python 3",
   "language": "python",
   "name": "python3"
  },
  "language_info": {
   "codemirror_mode": {
    "name": "ipython",
    "version": 3
   },
   "file_extension": ".py",
   "mimetype": "text/x-python",
   "name": "python",
   "nbconvert_exporter": "python",
   "pygments_lexer": "ipython3",
   "version": "3.8.8"
  }
 },
 "nbformat": 4,
 "nbformat_minor": 5
}
