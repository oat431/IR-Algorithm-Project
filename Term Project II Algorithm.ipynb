{
 "cells": [
  {
   "cell_type": "markdown",
   "id": "2fd9d631",
   "metadata": {},
   "source": [
    "# Term Project II\n",
    "\n",
    "The main task is to build a personal food recipe recommendation web-application. The followings are its main features\n",
    "\n",
    "- The user can search for recipe by name.\n",
    "- The user can search for recipe by ingredients.\n",
    "- The use can mark and unmark a particular recipe as her/his favourite recipe.\n",
    "- The user receive the suggestion recipes she/he maybe interested in."
   ]
  },
  {
   "cell_type": "code",
   "execution_count": 43,
   "id": "11c0db3b",
   "metadata": {},
   "outputs": [],
   "source": [
    "import pandas as pd\n",
    "\n",
    "from sklearn import preprocessing\n",
    "from sklearn import neighbors\n",
    "from sklearn import tree\n",
    "from sklearn import naive_bayes\n",
    "from sklearn import model_selection\n",
    "from sklearn import metrics\n",
    "from sklearn.feature_extraction.text import TfidfVectorizer\n",
    "from sklearn.feature_extraction.text import CountVectorizer\n",
    "\n",
    "from scipy import sparse\n",
    "\n",
    "import numpy as np\n",
    "from numpy import hstack\n",
    "\n",
    "import multiprocessing as mp\n",
    "\n",
    "import string\n",
    "\n",
    "import json\n",
    "import re\n",
    "\n",
    "import nltk\n",
    "from nltk import ngrams\n",
    "from nltk.tokenize import word_tokenize\n",
    "from nltk.corpus import stopwords\n",
    "from nltk.stem import PorterStemmer\n",
    "from sklearn.metrics.pairwise import cosine_similarity\n",
    "\n",
    "from spellchecker import SpellChecker\n",
    "import os\n",
    "from pathlib import Path"
   ]
  },
  {
   "cell_type": "markdown",
   "id": "c01e6e61",
   "metadata": {},
   "source": [
    "## Sample data"
   ]
  },
  {
   "cell_type": "code",
   "execution_count": 34,
   "id": "677b6454",
   "metadata": {},
   "outputs": [
    {
     "data": {
      "text/html": [
       "<div>\n",
       "<style scoped>\n",
       "    .dataframe tbody tr th:only-of-type {\n",
       "        vertical-align: middle;\n",
       "    }\n",
       "\n",
       "    .dataframe tbody tr th {\n",
       "        vertical-align: top;\n",
       "    }\n",
       "\n",
       "    .dataframe thead th {\n",
       "        text-align: right;\n",
       "    }\n",
       "</style>\n",
       "<table border=\"1\" class=\"dataframe\">\n",
       "  <thead>\n",
       "    <tr style=\"text-align: right;\">\n",
       "      <th></th>\n",
       "      <th>Title</th>\n",
       "      <th>Instructions</th>\n",
       "      <th>Image_Name</th>\n",
       "      <th>Cleaned_Ingredients</th>\n",
       "    </tr>\n",
       "  </thead>\n",
       "  <tbody>\n",
       "    <tr>\n",
       "      <th>0</th>\n",
       "      <td>Miso-Butter Roast Chicken With Acorn Squash Pa...</td>\n",
       "      <td>Pat chicken dry with paper towels, season all ...</td>\n",
       "      <td>miso-butter-roast-chicken-acorn-squash-panzanella</td>\n",
       "      <td>['1 (3½–4-lb.) whole chicken', '2¾ tsp. kosher...</td>\n",
       "    </tr>\n",
       "    <tr>\n",
       "      <th>1</th>\n",
       "      <td>Crispy Salt and Pepper Potatoes</td>\n",
       "      <td>Preheat oven to 400°F and line a rimmed baking...</td>\n",
       "      <td>crispy-salt-and-pepper-potatoes-dan-kluger</td>\n",
       "      <td>['2 large egg whites', '1 pound new potatoes (...</td>\n",
       "    </tr>\n",
       "    <tr>\n",
       "      <th>2</th>\n",
       "      <td>Thanksgiving Mac and Cheese</td>\n",
       "      <td>Place a rack in middle of oven; preheat to 400...</td>\n",
       "      <td>thanksgiving-mac-and-cheese-erick-williams</td>\n",
       "      <td>['1 cup evaporated milk', '1 cup whole milk', ...</td>\n",
       "    </tr>\n",
       "    <tr>\n",
       "      <th>3</th>\n",
       "      <td>Italian Sausage and Bread Stuffing</td>\n",
       "      <td>Preheat oven to 350°F with rack in middle. Gen...</td>\n",
       "      <td>italian-sausage-and-bread-stuffing-240559</td>\n",
       "      <td>['1 (¾- to 1-pound) round Italian loaf, cut in...</td>\n",
       "    </tr>\n",
       "    <tr>\n",
       "      <th>4</th>\n",
       "      <td>Newton's Law</td>\n",
       "      <td>Stir together brown sugar and hot water in a c...</td>\n",
       "      <td>newtons-law-apple-bourbon-cocktail</td>\n",
       "      <td>['1 teaspoon dark brown sugar', '1 teaspoon ho...</td>\n",
       "    </tr>\n",
       "  </tbody>\n",
       "</table>\n",
       "</div>"
      ],
      "text/plain": [
       "                                               Title  \\\n",
       "0  Miso-Butter Roast Chicken With Acorn Squash Pa...   \n",
       "1                    Crispy Salt and Pepper Potatoes   \n",
       "2                        Thanksgiving Mac and Cheese   \n",
       "3                 Italian Sausage and Bread Stuffing   \n",
       "4                                       Newton's Law   \n",
       "\n",
       "                                        Instructions  \\\n",
       "0  Pat chicken dry with paper towels, season all ...   \n",
       "1  Preheat oven to 400°F and line a rimmed baking...   \n",
       "2  Place a rack in middle of oven; preheat to 400...   \n",
       "3  Preheat oven to 350°F with rack in middle. Gen...   \n",
       "4  Stir together brown sugar and hot water in a c...   \n",
       "\n",
       "                                          Image_Name  \\\n",
       "0  miso-butter-roast-chicken-acorn-squash-panzanella   \n",
       "1         crispy-salt-and-pepper-potatoes-dan-kluger   \n",
       "2         thanksgiving-mac-and-cheese-erick-williams   \n",
       "3          italian-sausage-and-bread-stuffing-240559   \n",
       "4                 newtons-law-apple-bourbon-cocktail   \n",
       "\n",
       "                                 Cleaned_Ingredients  \n",
       "0  ['1 (3½–4-lb.) whole chicken', '2¾ tsp. kosher...  \n",
       "1  ['2 large egg whites', '1 pound new potatoes (...  \n",
       "2  ['1 cup evaporated milk', '1 cup whole milk', ...  \n",
       "3  ['1 (¾- to 1-pound) round Italian loaf, cut in...  \n",
       "4  ['1 teaspoon dark brown sugar', '1 teaspoon ho...  "
      ]
     },
     "execution_count": 34,
     "metadata": {},
     "output_type": "execute_result"
    }
   ],
   "source": [
    "food = pd.read_csv('food_ingredients.csv')\n",
    "food.drop('Unnamed: 0',axis='columns',inplace=True)\n",
    "food.drop('Ingredients',axis='columns',inplace=True)\n",
    "food.head()"
   ]
  },
  {
   "cell_type": "code",
   "execution_count": 41,
   "id": "33d6b8c1",
   "metadata": {},
   "outputs": [
    {
     "name": "stdout",
     "output_type": "stream",
     "text": [
      "Miso-Butter Roast Chicken With Acorn Squash Panzanella\n"
     ]
    }
   ],
   "source": [
    "title = food.iloc[0]['Title']\n",
    "print(title)"
   ]
  },
  {
   "cell_type": "code",
   "execution_count": 40,
   "id": "0ae98b88",
   "metadata": {},
   "outputs": [
    {
     "name": "stdout",
     "output_type": "stream",
     "text": [
      "'1 (3½–4-lb.) whole chicken'\n",
      " '2¾ tsp. kosher salt\n",
      " divided\n",
      " plus more'\n",
      " '2 small acorn squash (about 3 lb. total)'\n",
      " '2 Tbsp. finely chopped sage'\n",
      " '1 Tbsp. finely chopped rosemary'\n",
      " '6 Tbsp. unsalted butter\n",
      " melted\n",
      " plus 3 Tbsp. room temperature'\n",
      " '¼ tsp. ground allspice'\n",
      " 'Pinch of crushed red pepper flakes'\n",
      " 'Freshly ground black pepper'\n",
      " '⅓ loaf good-quality sturdy white bread\n",
      " torn into 1\" pieces (about 2½ cups)'\n",
      " '2 medium apples (such as Gala or Pink Lady; about 14 oz. total)\n",
      " cored\n",
      " cut into 1\" pieces'\n",
      " '2 Tbsp. extra-virgin olive oil'\n",
      " '½ small red onion\n",
      " thinly sliced'\n",
      " '3 Tbsp. apple cider vinegar'\n",
      " '1 Tbsp. white miso'\n",
      " '¼ cup all-purpose flour'\n",
      " '2 Tbsp. unsalted butter\n",
      " room temperature'\n",
      " '¼ cup dry white wine'\n",
      " '2 cups unsalted chicken broth'\n",
      " '2 tsp. white miso'\n",
      " 'Kosher salt'\n",
      " 'freshly ground pepper'\n"
     ]
    }
   ],
   "source": [
    "ingre = food.iloc[0]['Cleaned_Ingredients'].split(',')\n",
    "ingre[0] = ingre[0].replace('[','')\n",
    "ingre[-1] = ingre[-1].replace(']','')\n",
    "for i in ingre :\n",
    "    print(i)"
   ]
  },
  {
   "cell_type": "code",
   "execution_count": 36,
   "id": "f7dcdaee",
   "metadata": {},
   "outputs": [
    {
     "name": "stdout",
     "output_type": "stream",
     "text": [
      "Pat chicken dry with paper towels, season all over with 2 tsp\n",
      " salt, and tie legs together with kitchen twine\n",
      " Let sit at room temperature 1 hour\n",
      "\n",
      "Meanwhile, halve squash and scoop out seeds\n",
      " Run a vegetable peeler along ridges of squash halves to remove skin\n",
      " Cut each half into ½\"-thick wedges; arrange on a rimmed baking sheet\n",
      "\n",
      "Combine sage, rosemary, and 6 Tbsp\n",
      " melted butter in a large bowl; pour half of mixture over squash on baking sheet\n",
      " Sprinkle squash with allspice, red pepper flakes, and ½ tsp\n",
      " salt and season with black pepper; toss to coat\n",
      "\n",
      "Add bread, apples, oil, and ¼ tsp\n",
      " salt to remaining herb butter in bowl; season with black pepper and toss to combine\n",
      " Set aside\n",
      "\n",
      "Place onion and vinegar in a small bowl; season with salt and toss to coat\n",
      " Let sit, tossing occasionally, until ready to serve\n",
      "\n",
      "Place a rack in middle and lower third of oven; preheat to 425°F\n",
      " Mix miso and 3 Tbsp\n",
      " room-temperature butter in a small bowl until smooth\n",
      " Pat chicken dry with paper towels, then rub or brush all over with miso butter\n",
      " Place chicken in a large cast-iron skillet and roast on middle rack until an instant-read thermometer inserted into the thickest part of breast registers 155°F, 50–60 minutes\n",
      " (Temperature will climb to 165°F while chicken rests\n",
      ") Let chicken rest in skillet at least 5 minutes, then transfer to a plate; reserve skillet\n",
      "\n",
      "Meanwhile, roast squash on lower rack until mostly tender, about 25 minutes\n",
      " Remove from oven and scatter reserved bread mixture over, spreading into as even a layer as you can manage\n",
      " Return to oven and roast until bread is golden brown and crisp and apples are tender, about 15 minutes\n",
      " Remove from oven, drain pickled onions, and toss to combine\n",
      " Transfer to a serving dish\n",
      "\n",
      "Using your fingers, mash flour and butter in a small bowl to combine\n",
      "\n",
      "Set reserved skillet with chicken drippings over medium heat\n",
      " You should have about ¼ cup, but a little over or under is all good\n",
      " (If you have significantly more, drain off and set excess aside\n",
      ") Add wine and cook, stirring often and scraping up any browned bits with a wooden spoon, until bits are loosened and wine is reduced by about half (you should be able to smell the wine), about 2 minutes\n",
      " Add butter mixture; cook, stirring often, until a smooth paste forms, about 2 minutes\n",
      " Add broth and any reserved drippings and cook, stirring constantly, until combined and thickened, 6–8 minutes\n",
      " Remove from heat and stir in miso\n",
      " Taste and season with salt and black pepper\n",
      "\n",
      "Serve chicken with gravy and squash panzanella alongside\n",
      "\n"
     ]
    }
   ],
   "source": [
    "instru = ingre = food.iloc[0]['Instructions'].split('.')\n",
    "for i in instru :\n",
    "    print(i)"
   ]
  },
  {
   "cell_type": "code",
   "execution_count": 42,
   "id": "7296ab89",
   "metadata": {},
   "outputs": [
    {
     "name": "stdout",
     "output_type": "stream",
     "text": [
      "miso-butter-roast-chicken-acorn-squash-panzanella\n"
     ]
    }
   ],
   "source": [
    "image_name = food.iloc[0]['Image_Name']\n",
    "print(image_name)"
   ]
  },
  {
   "cell_type": "markdown",
   "id": "6205618f",
   "metadata": {},
   "source": [
    "![somehting](./food_image/miso-butter-roast-chicken-acorn-squash-panzanella.JPG)"
   ]
  },
  {
   "cell_type": "markdown",
   "id": "6420ba17",
   "metadata": {},
   "source": [
    "# Spell Checker Feature"
   ]
  },
  {
   "cell_type": "code",
   "execution_count": 44,
   "id": "49a2bb46",
   "metadata": {},
   "outputs": [],
   "source": [
    "context = Path(\"eng-simple_wikipedia_2021_300K-sentences.txt\").read_text(\"utf-8\")\n",
    "context = re.sub('[^A-Za-z]',\" \",context)\n",
    "context = \" \".join(context.split())\n",
    "context = context.lower()\n",
    "\n",
    "list_of_word = context.split(\" \")"
   ]
  },
  {
   "cell_type": "code",
   "execution_count": 47,
   "id": "198b139c",
   "metadata": {},
   "outputs": [
    {
     "name": "stdout",
     "output_type": "stream",
     "text": [
      "chicken\n",
      "['chicken']\n",
      "squad\n",
      "['squad', 'squab', 'shuah', 'squaw', 'squat', 'squash']\n",
      "outer\n",
      "['bute', 'buner', 'bunter', 'cuter', 'buler', 'buster', 'muter', 'guter', 'butter', 'butser', 'bater', 'butler', 'biter', 'buyer', 'puter', 'beter', 'outer']\n",
      "roads\n",
      "['rots', 'oats', 'roads', 'doats', 'coats', 'moats', 'rotas', 'roast', 'roasts', 'groats', 'boats', 'goats', 'roams', 'croats', 'routs', 'rats', 'roots', 'roat', 'roars']\n",
      "manzanilla\n",
      "['manzanilla']\n",
      "con\n",
      "['ason', 'con', 'akon', 'acun', 'lacon', 'aco', 'anon', 'bacon', 'amon', 'acdn', 'aron', 'acorn', 'macon', 'econ', 'icon', 'alon', 'aeon', 'axon', 'acou', 'avon', 'acton', 'aon', 'afon', 'apon']\n"
     ]
    }
   ],
   "source": [
    "spell = SpellChecker()\n",
    "\n",
    "spell.word_frequency.load_words(list_of_word)\n",
    "\n",
    "word = \"Miso Buter Roats Chickken Wiht Acon Squah Panzanella\"\n",
    "\n",
    "misspelled = spell.unknown(word.split(\" \"))\n",
    "\n",
    "if len(misspelled) != 0 :\n",
    "    for word in misspelled:\n",
    "        print(spell.correction(word))\n",
    "        candidate_list = [i for i in spell.candidates(word)]\n",
    "        print(candidate_list)\n",
    "#         print(spell.candidates(word))\n",
    "else:\n",
    "    print(\"no mispelling\")"
   ]
  },
  {
   "cell_type": "code",
   "execution_count": null,
   "id": "6f428c87",
   "metadata": {},
   "outputs": [],
   "source": []
  }
 ],
 "metadata": {
  "kernelspec": {
   "display_name": "Python 3 (ipykernel)",
   "language": "python",
   "name": "python3"
  },
  "language_info": {
   "codemirror_mode": {
    "name": "ipython",
    "version": 3
   },
   "file_extension": ".py",
   "mimetype": "text/x-python",
   "name": "python",
   "nbconvert_exporter": "python",
   "pygments_lexer": "ipython3",
   "version": "3.9.7"
  }
 },
 "nbformat": 4,
 "nbformat_minor": 5
}
