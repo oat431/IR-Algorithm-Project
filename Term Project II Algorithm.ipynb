{
 "cells": [
  {
   "cell_type": "markdown",
   "id": "f96c89fa",
   "metadata": {},
   "source": [
    "# Term Project II\n",
    "\n",
    "The main task is to build a personal food recipe recommendation web-application. The followings are its main features\n",
    "\n",
    "- The user can search for recipe by name.\n",
    "- The user can search for recipe by ingredients.\n",
    "- The user receive the suggestion recipes she/he maybe interested in."
   ]
  },
  {
   "cell_type": "code",
   "execution_count": 15,
   "id": "b26e41ee",
   "metadata": {},
   "outputs": [],
   "source": [
    "import pandas as pd\n",
    "\n",
    "from sklearn import preprocessing\n",
    "from sklearn import neighbors\n",
    "from sklearn import tree\n",
    "from sklearn import naive_bayes\n",
    "from sklearn import model_selection\n",
    "from sklearn import metrics\n",
    "from sklearn.feature_extraction.text import TfidfVectorizer\n",
    "\n",
    "from scipy import sparse\n",
    "\n",
    "import numpy as np\n",
    "from numpy import hstack\n",
    "\n",
    "import multiprocessing as mp\n",
    "\n",
    "import string\n",
    "\n",
    "import json\n",
    "import re\n",
    "\n",
    "import nltk\n",
    "from nltk import ngrams\n",
    "from nltk.tokenize import word_tokenize\n",
    "from nltk.corpus import stopwords\n",
    "from nltk.stem import PorterStemmer\n",
    "from sklearn.metrics.pairwise import cosine_similarity\n",
    "\n",
    "from spellchecker import SpellChecker\n",
    "import os\n",
    "from pathlib import Path"
   ]
  },
  {
   "cell_type": "markdown",
   "id": "f6a8c1e9",
   "metadata": {},
   "source": [
    "## Sample data"
   ]
  },
  {
   "cell_type": "code",
   "execution_count": 8,
   "id": "d2eb16ee",
   "metadata": {},
   "outputs": [
    {
     "data": {
      "text/html": [
       "<div>\n",
       "<style scoped>\n",
       "    .dataframe tbody tr th:only-of-type {\n",
       "        vertical-align: middle;\n",
       "    }\n",
       "\n",
       "    .dataframe tbody tr th {\n",
       "        vertical-align: top;\n",
       "    }\n",
       "\n",
       "    .dataframe thead th {\n",
       "        text-align: right;\n",
       "    }\n",
       "</style>\n",
       "<table border=\"1\" class=\"dataframe\">\n",
       "  <thead>\n",
       "    <tr style=\"text-align: right;\">\n",
       "      <th></th>\n",
       "      <th>Title</th>\n",
       "      <th>Instructions</th>\n",
       "      <th>Image_Name</th>\n",
       "      <th>Cleaned_Ingredients</th>\n",
       "    </tr>\n",
       "  </thead>\n",
       "  <tbody>\n",
       "    <tr>\n",
       "      <th>0</th>\n",
       "      <td>Miso-Butter Roast Chicken With Acorn Squash Pa...</td>\n",
       "      <td>Pat chicken dry with paper towels, season all ...</td>\n",
       "      <td>miso-butter-roast-chicken-acorn-squash-panzanella</td>\n",
       "      <td>['1 (3½–4-lb.) whole chicken', '2¾ tsp. kosher...</td>\n",
       "    </tr>\n",
       "    <tr>\n",
       "      <th>1</th>\n",
       "      <td>Crispy Salt and Pepper Potatoes</td>\n",
       "      <td>Preheat oven to 400°F and line a rimmed baking...</td>\n",
       "      <td>crispy-salt-and-pepper-potatoes-dan-kluger</td>\n",
       "      <td>['2 large egg whites', '1 pound new potatoes (...</td>\n",
       "    </tr>\n",
       "    <tr>\n",
       "      <th>2</th>\n",
       "      <td>Thanksgiving Mac and Cheese</td>\n",
       "      <td>Place a rack in middle of oven; preheat to 400...</td>\n",
       "      <td>thanksgiving-mac-and-cheese-erick-williams</td>\n",
       "      <td>['1 cup evaporated milk', '1 cup whole milk', ...</td>\n",
       "    </tr>\n",
       "    <tr>\n",
       "      <th>3</th>\n",
       "      <td>Italian Sausage and Bread Stuffing</td>\n",
       "      <td>Preheat oven to 350°F with rack in middle. Gen...</td>\n",
       "      <td>italian-sausage-and-bread-stuffing-240559</td>\n",
       "      <td>['1 (¾- to 1-pound) round Italian loaf, cut in...</td>\n",
       "    </tr>\n",
       "    <tr>\n",
       "      <th>4</th>\n",
       "      <td>Newton's Law</td>\n",
       "      <td>Stir together brown sugar and hot water in a c...</td>\n",
       "      <td>newtons-law-apple-bourbon-cocktail</td>\n",
       "      <td>['1 teaspoon dark brown sugar', '1 teaspoon ho...</td>\n",
       "    </tr>\n",
       "  </tbody>\n",
       "</table>\n",
       "</div>"
      ],
      "text/plain": [
       "                                               Title  \\\n",
       "0  Miso-Butter Roast Chicken With Acorn Squash Pa...   \n",
       "1                    Crispy Salt and Pepper Potatoes   \n",
       "2                        Thanksgiving Mac and Cheese   \n",
       "3                 Italian Sausage and Bread Stuffing   \n",
       "4                                       Newton's Law   \n",
       "\n",
       "                                        Instructions  \\\n",
       "0  Pat chicken dry with paper towels, season all ...   \n",
       "1  Preheat oven to 400°F and line a rimmed baking...   \n",
       "2  Place a rack in middle of oven; preheat to 400...   \n",
       "3  Preheat oven to 350°F with rack in middle. Gen...   \n",
       "4  Stir together brown sugar and hot water in a c...   \n",
       "\n",
       "                                          Image_Name  \\\n",
       "0  miso-butter-roast-chicken-acorn-squash-panzanella   \n",
       "1         crispy-salt-and-pepper-potatoes-dan-kluger   \n",
       "2         thanksgiving-mac-and-cheese-erick-williams   \n",
       "3          italian-sausage-and-bread-stuffing-240559   \n",
       "4                 newtons-law-apple-bourbon-cocktail   \n",
       "\n",
       "                                 Cleaned_Ingredients  \n",
       "0  ['1 (3½–4-lb.) whole chicken', '2¾ tsp. kosher...  \n",
       "1  ['2 large egg whites', '1 pound new potatoes (...  \n",
       "2  ['1 cup evaporated milk', '1 cup whole milk', ...  \n",
       "3  ['1 (¾- to 1-pound) round Italian loaf, cut in...  \n",
       "4  ['1 teaspoon dark brown sugar', '1 teaspoon ho...  "
      ]
     },
     "execution_count": 8,
     "metadata": {},
     "output_type": "execute_result"
    }
   ],
   "source": [
    "food = pd.read_csv('food_ingredients.csv')\n",
    "food.drop('Unnamed: 0',axis='columns',inplace=True)\n",
    "food.drop('Ingredients',axis='columns',inplace=True)\n",
    "food.head()"
   ]
  },
  {
   "cell_type": "code",
   "execution_count": 9,
   "id": "7e05f15c",
   "metadata": {},
   "outputs": [
    {
     "name": "stdout",
     "output_type": "stream",
     "text": [
      "Miso-Butter Roast Chicken With Acorn Squash Panzanella\n"
     ]
    }
   ],
   "source": [
    "title = food.iloc[0]['Title']\n",
    "print(title)"
   ]
  },
  {
   "cell_type": "code",
   "execution_count": 96,
   "id": "5d938a1c",
   "metadata": {},
   "outputs": [
    {
     "name": "stdout",
     "output_type": "stream",
     "text": [
      "'1 (3½–4-lb.) whole chicken'\n",
      " '2¾ tsp. kosher salt\n",
      " divided\n",
      " plus more'\n",
      " '2 small acorn squash (about 3 lb. total)'\n",
      " '2 Tbsp. finely chopped sage'\n",
      " '1 Tbsp. finely chopped rosemary'\n",
      " '6 Tbsp. unsalted butter\n",
      " melted\n",
      " plus 3 Tbsp. room temperature'\n",
      " '¼ tsp. ground allspice'\n",
      " 'Pinch of crushed red pepper flakes'\n",
      " 'Freshly ground black pepper'\n",
      " '⅓ loaf good-quality sturdy white bread\n",
      " torn into 1\" pieces (about 2½ cups)'\n",
      " '2 medium apples (such as Gala or Pink Lady; about 14 oz. total)\n",
      " cored\n",
      " cut into 1\" pieces'\n",
      " '2 Tbsp. extra-virgin olive oil'\n",
      " '½ small red onion\n",
      " thinly sliced'\n",
      " '3 Tbsp. apple cider vinegar'\n",
      " '1 Tbsp. white miso'\n",
      " '¼ cup all-purpose flour'\n",
      " '2 Tbsp. unsalted butter\n",
      " room temperature'\n",
      " '¼ cup dry white wine'\n",
      " '2 cups unsalted chicken broth'\n",
      " '2 tsp. white miso'\n",
      " 'Kosher salt'\n",
      " 'freshly ground pepper'\n"
     ]
    }
   ],
   "source": [
    "check = food.iloc[0][\"Cleaned_Ingredients\"].split(',')\n",
    "check[0] = check[0].replace('[','')\n",
    "check[-1] = check[-1].replace(']','')\n",
    "for i in check :\n",
    "    print(i)"
   ]
  },
  {
   "cell_type": "code",
   "execution_count": 11,
   "id": "2b438368",
   "metadata": {},
   "outputs": [
    {
     "name": "stdout",
     "output_type": "stream",
     "text": [
      "Pat chicken dry with paper towels, season all over with 2 tsp\n",
      " salt, and tie legs together with kitchen twine\n",
      " Let sit at room temperature 1 hour\n",
      "\n",
      "Meanwhile, halve squash and scoop out seeds\n",
      " Run a vegetable peeler along ridges of squash halves to remove skin\n",
      " Cut each half into ½\"-thick wedges; arrange on a rimmed baking sheet\n",
      "\n",
      "Combine sage, rosemary, and 6 Tbsp\n",
      " melted butter in a large bowl; pour half of mixture over squash on baking sheet\n",
      " Sprinkle squash with allspice, red pepper flakes, and ½ tsp\n",
      " salt and season with black pepper; toss to coat\n",
      "\n",
      "Add bread, apples, oil, and ¼ tsp\n",
      " salt to remaining herb butter in bowl; season with black pepper and toss to combine\n",
      " Set aside\n",
      "\n",
      "Place onion and vinegar in a small bowl; season with salt and toss to coat\n",
      " Let sit, tossing occasionally, until ready to serve\n",
      "\n",
      "Place a rack in middle and lower third of oven; preheat to 425°F\n",
      " Mix miso and 3 Tbsp\n",
      " room-temperature butter in a small bowl until smooth\n",
      " Pat chicken dry with paper towels, then rub or brush all over with miso butter\n",
      " Place chicken in a large cast-iron skillet and roast on middle rack until an instant-read thermometer inserted into the thickest part of breast registers 155°F, 50–60 minutes\n",
      " (Temperature will climb to 165°F while chicken rests\n",
      ") Let chicken rest in skillet at least 5 minutes, then transfer to a plate; reserve skillet\n",
      "\n",
      "Meanwhile, roast squash on lower rack until mostly tender, about 25 minutes\n",
      " Remove from oven and scatter reserved bread mixture over, spreading into as even a layer as you can manage\n",
      " Return to oven and roast until bread is golden brown and crisp and apples are tender, about 15 minutes\n",
      " Remove from oven, drain pickled onions, and toss to combine\n",
      " Transfer to a serving dish\n",
      "\n",
      "Using your fingers, mash flour and butter in a small bowl to combine\n",
      "\n",
      "Set reserved skillet with chicken drippings over medium heat\n",
      " You should have about ¼ cup, but a little over or under is all good\n",
      " (If you have significantly more, drain off and set excess aside\n",
      ") Add wine and cook, stirring often and scraping up any browned bits with a wooden spoon, until bits are loosened and wine is reduced by about half (you should be able to smell the wine), about 2 minutes\n",
      " Add butter mixture; cook, stirring often, until a smooth paste forms, about 2 minutes\n",
      " Add broth and any reserved drippings and cook, stirring constantly, until combined and thickened, 6–8 minutes\n",
      " Remove from heat and stir in miso\n",
      " Taste and season with salt and black pepper\n",
      "\n",
      "Serve chicken with gravy and squash panzanella alongside\n",
      "\n"
     ]
    }
   ],
   "source": [
    "instru = ingre = food.iloc[0]['Instructions'].split('.')\n",
    "for i in instru :\n",
    "    print(i)"
   ]
  },
  {
   "cell_type": "code",
   "execution_count": 12,
   "id": "ea5e74d2",
   "metadata": {},
   "outputs": [
    {
     "name": "stdout",
     "output_type": "stream",
     "text": [
      "miso-butter-roast-chicken-acorn-squash-panzanella\n"
     ]
    }
   ],
   "source": [
    "image_name = food.iloc[0]['Image_Name']\n",
    "print(image_name)"
   ]
  },
  {
   "cell_type": "markdown",
   "id": "c4f75efb",
   "metadata": {},
   "source": [
    "![somehting](./food_image/miso-butter-roast-chicken-acorn-squash-panzanella.JPG)"
   ]
  },
  {
   "cell_type": "markdown",
   "id": "d113a18b",
   "metadata": {},
   "source": [
    "# Spell Checker Feature"
   ]
  },
  {
   "cell_type": "code",
   "execution_count": 13,
   "id": "c46e3910",
   "metadata": {},
   "outputs": [],
   "source": [
    "context = Path(\"eng-simple_wikipedia_2021_300K-sentences.txt\").read_text(\"utf-8\")\n",
    "context = re.sub('[^A-Za-z]',\" \",context)\n",
    "context = \" \".join(context.split())\n",
    "context = context.lower()\n",
    "\n",
    "list_of_word = context.split(\" \")"
   ]
  },
  {
   "cell_type": "code",
   "execution_count": 14,
   "id": "8fc3e50a",
   "metadata": {},
   "outputs": [
    {
     "name": "stdout",
     "output_type": "stream",
     "text": [
      "con\n",
      "['aron', 'anon', 'acorn', 'ason', 'axon', 'alon', 'acou', 'bacon', 'econ', 'acdn', 'con', 'icon', 'amon', 'aon', 'aco', 'avon', 'lacon', 'apon', 'acton', 'acun', 'aeon', 'afon', 'akon', 'macon']\n",
      "roads\n",
      "['oats', 'goats', 'boats', 'rots', 'roads', 'roams', 'croats', 'moats', 'roat', 'doats', 'coats', 'roast', 'roots', 'roars', 'groats', 'rotas', 'roasts', 'rats', 'routs']\n",
      "chicken\n",
      "['chicken']\n",
      "outer\n",
      "['bute', 'buler', 'cuter', 'bunter', 'beter', 'buyer', 'butler', 'puter', 'biter', 'buner', 'butter', 'buster', 'bater', 'muter', 'outer', 'guter', 'butser']\n",
      "manzanilla\n",
      "['manzanilla']\n",
      "squad\n",
      "['squad', 'squaw', 'squab', 'squat', 'squash', 'shuah']\n"
     ]
    }
   ],
   "source": [
    "spell = SpellChecker()\n",
    "\n",
    "spell.word_frequency.load_words(list_of_word)\n",
    "\n",
    "word = \"Miso Buter Roats Chickken Wiht Acon Squah Panzanella\"\n",
    "\n",
    "misspelled = spell.unknown(word.split(\" \"))\n",
    "\n",
    "if len(misspelled) != 0 :\n",
    "    for word in misspelled:\n",
    "        print(spell.correction(word))\n",
    "        candidate_list = [i for i in spell.candidates(word)]\n",
    "        print(candidate_list)\n",
    "#         print(spell.candidates(word))\n",
    "else:\n",
    "    print(\"no mispelling\")"
   ]
  },
  {
   "cell_type": "markdown",
   "id": "7f19bac8",
   "metadata": {},
   "source": [
    "# Search Feature"
   ]
  },
  {
   "cell_type": "markdown",
   "id": "3437098f",
   "metadata": {},
   "source": [
    "# Prepre Search Feature\n",
    "\n",
    "- tf-idf\n",
    "- bm25\n",
    "- elastic search"
   ]
  },
  {
   "cell_type": "code",
   "execution_count": 17,
   "id": "2a5a6a86",
   "metadata": {},
   "outputs": [],
   "source": [
    "vectorizer = TfidfVectorizer(ngram_range=(1,3))\n",
    "X = vectorizer.fit_transform(food[\"Title\"].astype('U'))"
   ]
  },
  {
   "cell_type": "markdown",
   "id": "393d4e51",
   "metadata": {},
   "source": [
    "## Prepare TF-IDF"
   ]
  },
  {
   "cell_type": "code",
   "execution_count": 47,
   "id": "c2a5f778",
   "metadata": {},
   "outputs": [],
   "source": [
    "def serach_by_tf_idf(query):\n",
    "    query_vec = vectorizer.transform([query])\n",
    "    results = cosine_similarity(X,query_vec).reshape((-1,))\n",
    "    return results.argsort()[-50:][::-1]"
   ]
  },
  {
   "cell_type": "markdown",
   "id": "8c22a697",
   "metadata": {},
   "source": [
    "## Prepare BM25"
   ]
  },
  {
   "cell_type": "code",
   "execution_count": 26,
   "id": "952924fd",
   "metadata": {},
   "outputs": [],
   "source": [
    "class BM25(object):\n",
    "    def __init__(self, b=0.75, k1=1.6):\n",
    "        self.vectorizer = TfidfVectorizer(norm=None, smooth_idf=False,ngram_range=(1,3))\n",
    "        self.b = b\n",
    "        self.k1 = k1\n",
    "\n",
    "    def fit(self, X):\n",
    "        self.vectorizer.fit(X)\n",
    "        y = super(TfidfVectorizer, self.vectorizer).transform(X)\n",
    "        self.avdl = y.sum(1).mean()\n",
    "\n",
    "    def transform(self, q, X):\n",
    "        b, k1, avdl = self.b, self.k1, self.avdl\n",
    "\n",
    "        X = super(TfidfVectorizer, self.vectorizer).transform(X)\n",
    "        len_X = X.sum(1).A1\n",
    "        q, = super(TfidfVectorizer, self.vectorizer).transform([q])\n",
    "        assert sparse.isspmatrix_csr(q)\n",
    "\n",
    "        X = X.tocsc()[:, q.indices]\n",
    "        denom = X + (k1 * (1 - b + b * len_X / avdl))[:, None]\n",
    "        idf = self.vectorizer._tfidf.idf_[None, q.indices] - 1.\n",
    "        numer = X.multiply(np.broadcast_to(idf, X.shape)) * (k1 + 1)                                                          \n",
    "        return (numer / denom).sum(1).A1"
   ]
  },
  {
   "cell_type": "code",
   "execution_count": 27,
   "id": "432cf0d4",
   "metadata": {},
   "outputs": [],
   "source": [
    "bm25 = BM25()\n",
    "bm25.fit(food[\"Title\"].astype('U'))"
   ]
  },
  {
   "cell_type": "code",
   "execution_count": 65,
   "id": "a284594b",
   "metadata": {},
   "outputs": [],
   "source": [
    "def search_by_bm25(query):\n",
    "    result = bm25.transform(query,food[\"Title\"].astype('U'))\n",
    "    return result.argsort()[-50:][::-1]"
   ]
  },
  {
   "cell_type": "markdown",
   "id": "fcb5f507",
   "metadata": {},
   "source": [
    "## Search by Food Title ( by name) Feature"
   ]
  },
  {
   "cell_type": "code",
   "execution_count": 56,
   "id": "28554663",
   "metadata": {},
   "outputs": [
    {
     "name": "stdout",
     "output_type": "stream",
     "text": [
      "Sweet Tea\n",
      "English Cookies\n",
      "English Pancakes\n",
      "Sweet Peach Tea\n",
      "Mint Tea\n",
      "Ginger Tea\n",
      "Beef Tea\n",
      "Tea Cakes\n",
      "Tipsy Tea with Homemade Sweet Tea\n",
      "English Chili Sauce\n",
      "English Pea Hummus\n",
      "Cleansing Tea\n",
      "English Peas with Mint\n",
      "English Jam Bag Pudding\n",
      "Superb English Plum Pudding\n",
      "Green Tea Cheesecake\n",
      "Pasta Carbonara with English Peas\n",
      "Green Tea Margarita\n",
      "Green-Tea Truffles\n",
      "Apple Tea Cakes\n",
      "Moroccan Mint Tea\n",
      "Grilled Tea-Brined Turkey with Tea-and-Lemon Gravy\n",
      "Moroccan Tea Biscuits\n",
      "Sweet Tea with Vodka and Lemonade\n",
      "Hibiscus Tea Sorbet\n",
      "Pimm's Iced Tea\n",
      "Sorrel (Hibiscus) Tea\n",
      "Tea-Totaler’s Toddy\n",
      "Sweet Walnuts\n",
      "Tea-and-Honey Crisps\n",
      "Thai-Style Iced Tea\n",
      "Lavender Honey Tea Bread\n",
      "Cold-Brew Iced Tea\n",
      "Bourbon Fruit Tea Punch\n",
      "Swirled Sesame Tea Cake\n",
      "Sweet Crêpes\n",
      "Golden Milk Turmeric Tea\n",
      "Kumquat-Cardamom Tea Bread\n",
      "Sweet Palmiers\n",
      "Sweet Blini\n",
      "Sweet Pretzels\n",
      "Ultimate Hydrating Iced Tea\n",
      "Sweet Amigos\n",
      "Classic Bubble Tea Recipe\n",
      "Butterscotch Puddings with Whipped Cream and Crushed English Toffee\n",
      "Gluten-Free Chocolate Tea Cake\n",
      "Yuba Pappardelle with English Peas, Fava Leaves, and Basil\n",
      "Earl Grey Tea Ice Cream\n",
      "Black Sesame-Pear Tea Cake\n",
      "Sweet Potato Turnovers with Sweet Kraut\n"
     ]
    }
   ],
   "source": [
    "for i in serach_by_tf_idf(\"sweet english tea\") :\n",
    "    print(food.iloc[i]['Title'])"
   ]
  },
  {
   "cell_type": "code",
   "execution_count": 58,
   "id": "82d52412",
   "metadata": {},
   "outputs": [
    {
     "name": "stdout",
     "output_type": "stream",
     "text": [
      "Fish Taco Platter\n",
      "Guacamole Taquero: Taco-Shop Guacamole\n",
      "Guajillo-Braised Beef Short Rib Taco\n",
      "Butternut Squash, Kale, and Crunchy Pepitas Taco\n",
      "Mushroom, Rajas, and Corn Taco with Queso Fresco\n",
      "Fresh Taco Salad with Creamy Avocado-Lime Dressing\n",
      "Breakfast Taco Hobo Packs with Black Beans, Zucchini, and Corn\n",
      "Instant Pot Red Bean and Quinoa Soup with Taco Fixins\n",
      "Turkey Leg Confit Taco with Pasilla Purée and Pickled Peach Salsa\n",
      "Charred Octopus Taco with Harissa, Chorizo Crushed Potatoes, and Pickled Ramps\n",
      "Apricot-Pistachio Muffins Baked on the Grill\n",
      "Tarragon-Cilantro Salsa Verde\n",
      "Mexican Poblano, Spinach, and Black Bean \"Lasagne\" with Goat Cheese\n",
      "Shellfish Mixed Grill\n",
      "Grilled Zucchini Bread With Mascarpone and Berries\n",
      "Linguine with Grilled Tuna, Capers and Parsley\n",
      "Sambal-Orange Vinaigrette\n",
      "Pasta with Grilled Tomato and Scallion Sauce\n",
      "Grilled Leg of Lamb with Herb Salt\n",
      "Red, White, and Blueberry Pie\n",
      "Tomato, Onion, and Roasted Lemon Salad\n",
      "Pasta with Grilled Sausage, Peppers and Eggplant\n",
      "Rice Salad with Fava Beans and Pistachios\n",
      "Vietnamese Pork Chops with Pickled Watermelon\n",
      "Sweet Bell Pepper and Onion Salad\n",
      "Garlicky Runner Beans\n",
      "Corn and Zucchini Salad with Feta\n",
      "Anchovy Mayonnaise\n",
      "Parsley, Red Onion, and Pomegranate Salad\n",
      "Chorizo-Lemon Butter\n",
      "Grilled Vanilla French Toast\n",
      "Grilled Peaches with Black Pepper and Basil-Lime Syrup\n",
      "Strawberries and Vodka\n",
      "Spiced Lamb Burger\n",
      "Grilled Bread Salad with Sweet Peppers and Onions\n",
      "Tomatillo Salsa Verde\n",
      "Rosemary-Balsamic Onions\n",
      "Grilled Panzanella\n",
      "Watermelon, Lime, and Tequila\n",
      "Sriracha-Lada\n",
      "Pineapple and Gin\n",
      "Vitamin C Brew\n",
      "Israeli Couscous and Tomato Salad\n",
      "Berries and Rum\n",
      "Chopstick Ready Rice\n",
      "Corn-Jalapeño Fritters\n",
      "Raspberry Snakebite\n",
      "Peach, Ginger, and Bourbon\n",
      "Purslane and Avocado Tacos with Pico de Gallo\n",
      "Spinach and Sorrel Spanakopita\n"
     ]
    }
   ],
   "source": [
    "for i in search_by_bm25(\"taco kabub\") :\n",
    "    print(food.iloc[i]['Title'])"
   ]
  },
  {
   "cell_type": "markdown",
   "id": "7014943c",
   "metadata": {},
   "source": [
    "## Search By Ingredient Feature"
   ]
  },
  {
   "cell_type": "markdown",
   "id": "11204322",
   "metadata": {},
   "source": [
    "### Check answer"
   ]
  },
  {
   "cell_type": "code",
   "execution_count": 94,
   "id": "52737087",
   "metadata": {},
   "outputs": [
    {
     "name": "stdout",
     "output_type": "stream",
     "text": [
      "3883    ['1 3–4 pound country style pork ribs, also kn...\n",
      "Name: Cleaned_Ingredients, dtype: object\n"
     ]
    }
   ],
   "source": [
    "ingre = food[food.Title == \"Crock Pot Ribs\"][\"Cleaned_Ingredients\"]\n",
    "print(ingre)"
   ]
  },
  {
   "cell_type": "code",
   "execution_count": 98,
   "id": "daacc3eb",
   "metadata": {},
   "outputs": [
    {
     "name": "stdout",
     "output_type": "stream",
     "text": [
      "'1 3–4 pound country style pork ribs\n",
      " also known as baby back ribs (about 2 racks)'\n",
      " '1 teaspoon salt'\n",
      " '1 cup bbq sauce plus additional for serving'\n"
     ]
    }
   ],
   "source": [
    "check = food.iloc[3883][\"Cleaned_Ingredients\"].split(',')\n",
    "check[0] = check[0].replace('[','')\n",
    "check[-1] = check[-1].replace(']','')\n",
    "for i in check :\n",
    "    print(i)"
   ]
  },
  {
   "cell_type": "code",
   "execution_count": 66,
   "id": "5b7357f1",
   "metadata": {},
   "outputs": [],
   "source": [
    "bm25_ingr = BM25()\n",
    "bm25_ingr.fit(food[\"Cleaned_Ingredients\"].astype('U'))"
   ]
  },
  {
   "cell_type": "code",
   "execution_count": 67,
   "id": "0c0ec13d",
   "metadata": {},
   "outputs": [],
   "source": [
    "vectorizer = TfidfVectorizer(ngram_range=(1,3))\n",
    "X_ingr = vectorizer.fit_transform(food[\"Cleaned_Ingredients\"].astype('U'))"
   ]
  },
  {
   "cell_type": "code",
   "execution_count": 68,
   "id": "6af3b744",
   "metadata": {},
   "outputs": [],
   "source": [
    "def serach_ingre_tf_idf(query):\n",
    "    query_vec = vectorizer.transform([query])\n",
    "    results = cosine_similarity(X_ingr,query_vec).reshape((-1,))\n",
    "    return results.argsort()[-50:][::-1]"
   ]
  },
  {
   "cell_type": "code",
   "execution_count": 69,
   "id": "cc3b0f0f",
   "metadata": {},
   "outputs": [],
   "source": [
    "def search_ingre_bm25(query):\n",
    "    result = bm25.transform(query,food[\"Cleaned_Ingredients\"].astype('U'))\n",
    "    return result.argsort()[-50:][::-1]"
   ]
  },
  {
   "cell_type": "code",
   "execution_count": 73,
   "id": "c972642a",
   "metadata": {},
   "outputs": [
    {
     "name": "stdout",
     "output_type": "stream",
     "text": [
      "Cassoulet in the Style of Toulouse (Cassoulet de Toulouse)\n",
      "James Beard's Roasted Spareribs\n",
      "Porchetta\n",
      "Carnitas: Braised and Fried Pork\n",
      "Slow-Cooked Carnitas Tacos\n",
      "Double-Pork Carnitas\n",
      "Pork Shoulder With Pineapple and Sesame Broccoli\n",
      "Pork Conserva with Green Tomato Agrodolce\n",
      "Smoked Pork in Pastry\n",
      "Grilled Pork Shoulder With Butter Vinegar Sauce\n",
      "Grilled Pork Tenderloin with Fresh Fig Skewers\n",
      "Homemade Bratwurst Bites with Beer and Horseradish Mustard\n",
      "Grilled Pork Chops with Garlic Lime Sauce\n",
      "Brown Sugar BBQ Pork Butt\n",
      "Porchetta With Roasted Potatoes\n",
      "Pecan-Crusted Pork Tenderloin Pinwheels with Carolina Mustard Sauce\n",
      "Country Terrine\n",
      "Roast Pork Loin With Rosemary and Garlic\n",
      "Tacos of Carnitas Roasted with Orange, Milk, and Pepper\n",
      "Crown Roast of Pork with Onion and Bread-Crumb Stuffing\n",
      "Vietnamese Caramelized Grilled Pork\n",
      "Milk Braised Pork Shoulder with Semolina Gnocchi\n",
      "Rosemary Pork Chops\n",
      "Chicharrón Casera\n",
      "Smoked Scotch Eggs\n",
      "Five Spice Pork Rillettes\n",
      "Pork Shoulder Steaks with Grilled Mustard Greens\n",
      "Chipotle-Grilled Pork Shoulder Steaks with Corn Salsa\n",
      "Grilled Pork Tenderloin with Molasses and Mustard\n",
      "\"Nextover\" Chile-Orange Pork Stir-Fry\n",
      "Carolina-Style Pork BBQ Sandwiches\n",
      "Roast Pork Sandwiches with Sweet Peppers and Arugula\n",
      "My Boudin\n",
      "Tourtière du Shack\n",
      "Pork Loin Spiedino with Pine Nut, Garlic, and Currant Soffritto\n",
      "Grilled Pork Tenderloin with Mustard-Dill Sauce\n",
      "Bacon-Molasses Breakfast Sausage\n",
      "Slow-Roasted Pork Shoulder with Mustard and Sage\n",
      "Pork Chops au Poivre\n",
      "Dan Barber's Pork Belly\n",
      "Pineapple Pork Chops\n",
      "Big-Batch Freezer Pork Tenderloin Strips\n",
      "Pork Tenderloin with Date and Cilantro Relish\n",
      "Pork Chops with Cranberry, Port, and Rosemary Sauce\n",
      "Memphis-Style Ribs\n",
      "Smothered Pork Chops with Mushrooms\n",
      "Maple Andouille Breakfast Sausage\n",
      "Mustard Fennel Pork Loin with Cumberland Pan Sauce\n",
      "Your New Favorite Pork Chops\n",
      "Crock Pot Ribs\n"
     ]
    }
   ],
   "source": [
    "for i in serach_ingre_tf_idf(\"pork\") :\n",
    "    print(food.iloc[i]['Title'])"
   ]
  },
  {
   "cell_type": "code",
   "execution_count": 71,
   "id": "a7d4a57d",
   "metadata": {},
   "outputs": [
    {
     "name": "stdout",
     "output_type": "stream",
     "text": [
      "James Beard's Roasted Spareribs\n",
      "Chicharrón Casera\n",
      "Dan Barber's Pork Belly\n",
      "Porchetta\n",
      "Grilled Pork Tenderloin with Molasses and Mustard\n",
      "Carnitas: Braised and Fried Pork\n",
      "Pecan-Crusted Pork Tenderloin Pinwheels with Carolina Mustard Sauce\n",
      "Bacon-Molasses Breakfast Sausage\n",
      "Tacos of Carnitas Roasted with Orange, Milk, and Pepper\n",
      "Grilled Pork Shoulder With Butter Vinegar Sauce\n",
      "Pork Shoulder With Pineapple and Sesame Broccoli\n",
      "Caramelized Pork Rinds\n",
      "Sausage Rolls\n",
      "Pineapple Pork Chops\n",
      "Tortillas de Harina (Flour Tortillas)\n",
      "Pork Conserva with Green Tomato Agrodolce\n",
      "Brown Sugar BBQ Pork Butt\n",
      "Smoked Scotch Eggs\n",
      "Sautéed Pork Tenderloin with Prunes\n",
      "Grilled Pork Tenderloin with Fresh Fig Skewers\n",
      "Vietnamese Caramelized Grilled Pork\n",
      "Rosemary Pork Chops\n",
      "Bacon-Wrapped Pig Wings\n",
      "Cassoulet in the Style of Toulouse (Cassoulet de Toulouse)\n",
      "Porchetta With Roasted Potatoes\n",
      "Slow-Cooked Carnitas Tacos\n",
      "Beer-Braised Carnitas\n",
      "Weeknight Porchetta\n",
      "Crock Pot Ribs\n",
      "Crock Pot Pulled Pork Tacos\n",
      "Pork Tenderloin with Apricot Mustard\n",
      "Sam Choy's Oven-Roasted Kalua Pig\n",
      "Pork Tenderloin with Tomato-Peach Compote\n",
      "Sweetie Pie's Tender Oven-Baked St. Louis-Style BBQ Ribs\n",
      "Pork Chops au Poivre\n",
      "Your New Favorite Pork Chops\n",
      "Memphis-Style Barbecued Pork Ribs\n",
      "Beer Bratwurst\n",
      "Five Spice Pork Rillettes\n",
      "Double-Pork Carnitas\n",
      "Homemade Bratwurst Bites with Beer and Horseradish Mustard\n",
      "Pork Chops with Cranberry, Port, and Rosemary Sauce\n",
      "Big-Batch Freezer Pork Tenderloin Strips\n",
      "Balsamic-Glazed Pork Chops\n",
      "Pork Tenderloin with Date and Cilantro Relish\n",
      "Fennel-Rubbed Pork Roast\n",
      "Garlic-Roasted Pork Shoulder\n",
      "North Carolina Pulled-Pork Barbecue\n",
      "Grilled Pork Tenderloin with Mustard-Dill Sauce\n",
      "Smoked Pork in Pastry\n"
     ]
    }
   ],
   "source": [
    "for i in search_ingre_bm25(\"pork\") :\n",
    "    print(food.iloc[i]['Title'])"
   ]
  },
  {
   "cell_type": "markdown",
   "id": "6bd6de93",
   "metadata": {},
   "source": [
    "# The Suggestion System using machine learning"
   ]
  },
  {
   "cell_type": "code",
   "execution_count": null,
   "id": "79158577",
   "metadata": {},
   "outputs": [],
   "source": []
  }
 ],
 "metadata": {
  "kernelspec": {
   "display_name": "Python 3 (ipykernel)",
   "language": "python",
   "name": "python3"
  },
  "language_info": {
   "codemirror_mode": {
    "name": "ipython",
    "version": 3
   },
   "file_extension": ".py",
   "mimetype": "text/x-python",
   "name": "python",
   "nbconvert_exporter": "python",
   "pygments_lexer": "ipython3",
   "version": "3.9.7"
  }
 },
 "nbformat": 4,
 "nbformat_minor": 5
}
