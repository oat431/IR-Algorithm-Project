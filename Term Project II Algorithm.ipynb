{
 "cells": [
  {
   "cell_type": "markdown",
   "id": "f96c89fa",
   "metadata": {},
   "source": [
    "# Term Project II\n",
    "\n",
    "The main task is to build a personal food recipe recommendation web-application. The followings are its main features\n",
    "\n",
    "- The user can search for recipe by name.\n",
    "- The user can search for recipe by ingredients.\n",
    "- The user receive the suggestion recipes she/he maybe interested in."
   ]
  },
  {
   "cell_type": "code",
   "execution_count": 1,
   "id": "b26e41ee",
   "metadata": {},
   "outputs": [],
   "source": [
    "import pandas as pd\n",
    "\n",
    "from sklearn import preprocessing\n",
    "from sklearn import neighbors\n",
    "from sklearn import tree\n",
    "from sklearn import naive_bayes\n",
    "from sklearn import model_selection\n",
    "from sklearn import metrics\n",
    "from sklearn.feature_extraction.text import TfidfVectorizer\n",
    "\n",
    "from scipy import sparse\n",
    "\n",
    "import numpy as np\n",
    "from numpy import hstack\n",
    "\n",
    "import multiprocessing as mp\n",
    "\n",
    "import string\n",
    "\n",
    "import json\n",
    "import re\n",
    "\n",
    "import nltk\n",
    "from nltk import ngrams\n",
    "from nltk.tokenize import word_tokenize\n",
    "from nltk.corpus import stopwords\n",
    "from nltk.stem import PorterStemmer\n",
    "from sklearn.metrics.pairwise import cosine_similarity\n",
    "\n",
    "from spellchecker import SpellChecker\n",
    "import os\n",
    "from pathlib import Path"
   ]
  },
  {
   "cell_type": "markdown",
   "id": "f6a8c1e9",
   "metadata": {},
   "source": [
    "## Sample data"
   ]
  },
  {
   "cell_type": "code",
   "execution_count": 2,
   "id": "d2eb16ee",
   "metadata": {},
   "outputs": [
    {
     "data": {
      "text/html": [
       "<div>\n",
       "<style scoped>\n",
       "    .dataframe tbody tr th:only-of-type {\n",
       "        vertical-align: middle;\n",
       "    }\n",
       "\n",
       "    .dataframe tbody tr th {\n",
       "        vertical-align: top;\n",
       "    }\n",
       "\n",
       "    .dataframe thead th {\n",
       "        text-align: right;\n",
       "    }\n",
       "</style>\n",
       "<table border=\"1\" class=\"dataframe\">\n",
       "  <thead>\n",
       "    <tr style=\"text-align: right;\">\n",
       "      <th></th>\n",
       "      <th>Title</th>\n",
       "      <th>Instructions</th>\n",
       "      <th>Image_Name</th>\n",
       "      <th>Cleaned_Ingredients</th>\n",
       "    </tr>\n",
       "  </thead>\n",
       "  <tbody>\n",
       "    <tr>\n",
       "      <th>0</th>\n",
       "      <td>Miso-Butter Roast Chicken With Acorn Squash Pa...</td>\n",
       "      <td>Pat chicken dry with paper towels, season all ...</td>\n",
       "      <td>miso-butter-roast-chicken-acorn-squash-panzanella</td>\n",
       "      <td>['1 (3½–4-lb.) whole chicken', '2¾ tsp. kosher...</td>\n",
       "    </tr>\n",
       "    <tr>\n",
       "      <th>1</th>\n",
       "      <td>Crispy Salt and Pepper Potatoes</td>\n",
       "      <td>Preheat oven to 400°F and line a rimmed baking...</td>\n",
       "      <td>crispy-salt-and-pepper-potatoes-dan-kluger</td>\n",
       "      <td>['2 large egg whites', '1 pound new potatoes (...</td>\n",
       "    </tr>\n",
       "    <tr>\n",
       "      <th>2</th>\n",
       "      <td>Thanksgiving Mac and Cheese</td>\n",
       "      <td>Place a rack in middle of oven; preheat to 400...</td>\n",
       "      <td>thanksgiving-mac-and-cheese-erick-williams</td>\n",
       "      <td>['1 cup evaporated milk', '1 cup whole milk', ...</td>\n",
       "    </tr>\n",
       "    <tr>\n",
       "      <th>3</th>\n",
       "      <td>Italian Sausage and Bread Stuffing</td>\n",
       "      <td>Preheat oven to 350°F with rack in middle. Gen...</td>\n",
       "      <td>italian-sausage-and-bread-stuffing-240559</td>\n",
       "      <td>['1 (¾- to 1-pound) round Italian loaf, cut in...</td>\n",
       "    </tr>\n",
       "    <tr>\n",
       "      <th>4</th>\n",
       "      <td>Newton's Law</td>\n",
       "      <td>Stir together brown sugar and hot water in a c...</td>\n",
       "      <td>newtons-law-apple-bourbon-cocktail</td>\n",
       "      <td>['1 teaspoon dark brown sugar', '1 teaspoon ho...</td>\n",
       "    </tr>\n",
       "  </tbody>\n",
       "</table>\n",
       "</div>"
      ],
      "text/plain": [
       "                                               Title  \\\n",
       "0  Miso-Butter Roast Chicken With Acorn Squash Pa...   \n",
       "1                    Crispy Salt and Pepper Potatoes   \n",
       "2                        Thanksgiving Mac and Cheese   \n",
       "3                 Italian Sausage and Bread Stuffing   \n",
       "4                                       Newton's Law   \n",
       "\n",
       "                                        Instructions  \\\n",
       "0  Pat chicken dry with paper towels, season all ...   \n",
       "1  Preheat oven to 400°F and line a rimmed baking...   \n",
       "2  Place a rack in middle of oven; preheat to 400...   \n",
       "3  Preheat oven to 350°F with rack in middle. Gen...   \n",
       "4  Stir together brown sugar and hot water in a c...   \n",
       "\n",
       "                                          Image_Name  \\\n",
       "0  miso-butter-roast-chicken-acorn-squash-panzanella   \n",
       "1         crispy-salt-and-pepper-potatoes-dan-kluger   \n",
       "2         thanksgiving-mac-and-cheese-erick-williams   \n",
       "3          italian-sausage-and-bread-stuffing-240559   \n",
       "4                 newtons-law-apple-bourbon-cocktail   \n",
       "\n",
       "                                 Cleaned_Ingredients  \n",
       "0  ['1 (3½–4-lb.) whole chicken', '2¾ tsp. kosher...  \n",
       "1  ['2 large egg whites', '1 pound new potatoes (...  \n",
       "2  ['1 cup evaporated milk', '1 cup whole milk', ...  \n",
       "3  ['1 (¾- to 1-pound) round Italian loaf, cut in...  \n",
       "4  ['1 teaspoon dark brown sugar', '1 teaspoon ho...  "
      ]
     },
     "execution_count": 2,
     "metadata": {},
     "output_type": "execute_result"
    }
   ],
   "source": [
    "food = pd.read_csv('food.csv')\n",
    "food.drop('Unnamed: 0',axis='columns',inplace=True)\n",
    "food.drop('Ingredients',axis='columns',inplace=True)\n",
    "food.head()"
   ]
  },
  {
   "cell_type": "code",
   "execution_count": 5,
   "id": "7e05f15c",
   "metadata": {},
   "outputs": [
    {
     "name": "stdout",
     "output_type": "stream",
     "text": [
      "Miso-Butter Roast Chicken With Acorn Squash Panzanella\n"
     ]
    }
   ],
   "source": [
    "title = food.iloc[0]['Title']\n",
    "print(title)"
   ]
  },
  {
   "cell_type": "code",
   "execution_count": 4,
   "id": "5d938a1c",
   "metadata": {},
   "outputs": [
    {
     "name": "stdout",
     "output_type": "stream",
     "text": [
      " '2¾ tsp. kosher salt\n",
      " '1 Tbsp. finely chopped rosemary'\n",
      " 'Pinch of crushed red pepper flakes'\n",
      " cored\n",
      " '3 Tbsp. apple cider vinegar'\n",
      " '¼ cup dry white wine'\n"
     ]
    }
   ],
   "source": [
    "check = food.iloc[0][\"Cleaned_Ingredients\"]\n",
    "check = check.strip('][').split(',')\n",
    "for i in range(1,len(check),5):\n",
    "    print(check[i])"
   ]
  },
  {
   "cell_type": "code",
   "execution_count": 5,
   "id": "2b438368",
   "metadata": {},
   "outputs": [
    {
     "name": "stdout",
     "output_type": "stream",
     "text": [
      " salt, and tie legs together with kitchen twine\n",
      "\n",
      "Combine sage, rosemary, and 6 Tbsp\n",
      " salt to remaining herb butter in bowl; season with black pepper and toss to combine\n",
      " Mix miso and 3 Tbsp\n",
      ") Let chicken rest in skillet at least 5 minutes, then transfer to a plate; reserve skillet\n",
      " Transfer to a serving dish\n",
      ") Add wine and cook, stirring often and scraping up any browned bits with a wooden spoon, until bits are loosened and wine is reduced by about half (you should be able to smell the wine), about 2 minutes\n",
      "\n",
      "Serve chicken with gravy and squash panzanella alongside\n"
     ]
    }
   ],
   "source": [
    "instru = ingre = food.iloc[0]['Instructions'].split('.')\n",
    "for i in range(1,len(instru),5) :\n",
    "    print(instru[i])"
   ]
  },
  {
   "cell_type": "code",
   "execution_count": 6,
   "id": "ea5e74d2",
   "metadata": {},
   "outputs": [
    {
     "name": "stdout",
     "output_type": "stream",
     "text": [
      "miso-butter-roast-chicken-acorn-squash-panzanella\n"
     ]
    }
   ],
   "source": [
    "image_name = food.iloc[0]['Image_Name']\n",
    "print(image_name)"
   ]
  },
  {
   "cell_type": "markdown",
   "id": "c4f75efb",
   "metadata": {},
   "source": [
    "![somehting](./food_image/miso-butter-roast-chicken-acorn-squash-panzanella.JPG)"
   ]
  },
  {
   "cell_type": "markdown",
   "id": "d113a18b",
   "metadata": {},
   "source": [
    "# Spell Checker Feature"
   ]
  },
  {
   "cell_type": "code",
   "execution_count": 7,
   "id": "c46e3910",
   "metadata": {},
   "outputs": [],
   "source": [
    "context = Path(\"eng-simple_wikipedia_2021_300K-sentences.txt\").read_text(\"utf-8\")\n",
    "context = re.sub('[^A-Za-z]',\" \",context)\n",
    "context = \" \".join(context.split())\n",
    "context = context.lower()\n",
    "\n",
    "list_of_word = context.split(\" \")"
   ]
  },
  {
   "cell_type": "code",
   "execution_count": 10,
   "id": "8fc3e50a",
   "metadata": {},
   "outputs": [
    {
     "name": "stdout",
     "output_type": "stream",
     "text": [
      "squad outer roads con chicken manzanilla "
     ]
    }
   ],
   "source": [
    "spell = SpellChecker()\n",
    "\n",
    "spell.word_frequency.load_words(list_of_word)\n",
    "\n",
    "word = \"Miso Buter Roats Chickken Wiht Acon Squah Panzanella\"\n",
    "\n",
    "misspelled = spell.unknown(word.split(\" \"))\n",
    "\n",
    "if len(misspelled) != 0 :\n",
    "    for word in misspelled:\n",
    "        print(spell.correction(word),end=' ')\n",
    "#         candidate_list = [i for i in spell.candidates(word)]\n",
    "#         print(candidate_list)\n",
    "#         print(spell.candidates(word))\n",
    "else:\n",
    "    print(\"no mispelling\")"
   ]
  },
  {
   "cell_type": "markdown",
   "id": "7f19bac8",
   "metadata": {},
   "source": [
    "# Search Feature"
   ]
  },
  {
   "cell_type": "markdown",
   "id": "3437098f",
   "metadata": {},
   "source": [
    "# Prepre Search Feature\n",
    "\n",
    "- tf-idf\n",
    "- bm25\n",
    "- elastic search"
   ]
  },
  {
   "cell_type": "code",
   "execution_count": 11,
   "id": "2a5a6a86",
   "metadata": {},
   "outputs": [],
   "source": [
    "vectorizer = TfidfVectorizer(ngram_range=(1,3))\n",
    "X = vectorizer.fit_transform(food[\"Title\"].astype('U'))"
   ]
  },
  {
   "cell_type": "markdown",
   "id": "393d4e51",
   "metadata": {},
   "source": [
    "## Prepare TF-IDF"
   ]
  },
  {
   "cell_type": "code",
   "execution_count": 19,
   "id": "c2a5f778",
   "metadata": {},
   "outputs": [],
   "source": [
    "def serach_by_tf_idf(query=\"sweet\"):\n",
    "    query_vec = vectorizer.transform([query])\n",
    "    results = cosine_similarity(X,query_vec).reshape((-1,))\n",
    "    return results.argsort()[-5:][::-1]"
   ]
  },
  {
   "cell_type": "code",
   "execution_count": 20,
   "id": "67b45a71",
   "metadata": {},
   "outputs": [
    {
     "data": {
      "text/plain": [
       "array([ 7713,  7987,  8899, 11648, 13142], dtype=int64)"
      ]
     },
     "execution_count": 20,
     "metadata": {},
     "output_type": "execute_result"
    }
   ],
   "source": [
    "serach_by_tf_idf()"
   ]
  },
  {
   "cell_type": "markdown",
   "id": "8c22a697",
   "metadata": {},
   "source": [
    "## Prepare BM25"
   ]
  },
  {
   "cell_type": "code",
   "execution_count": 21,
   "id": "952924fd",
   "metadata": {},
   "outputs": [],
   "source": [
    "class BM25(object):\n",
    "    def __init__(self, b=0.75, k1=1.6):\n",
    "        self.vectorizer = TfidfVectorizer(norm=None, smooth_idf=False,ngram_range=(1,3))\n",
    "        self.b = b\n",
    "        self.k1 = k1\n",
    "\n",
    "    def fit(self, X):\n",
    "        self.vectorizer.fit(X)\n",
    "        y = super(TfidfVectorizer, self.vectorizer).transform(X)\n",
    "        self.avdl = y.sum(1).mean()\n",
    "\n",
    "    def transform(self, q, X):\n",
    "        b, k1, avdl = self.b, self.k1, self.avdl\n",
    "\n",
    "        X = super(TfidfVectorizer, self.vectorizer).transform(X)\n",
    "        len_X = X.sum(1).A1\n",
    "        q, = super(TfidfVectorizer, self.vectorizer).transform([q])\n",
    "        assert sparse.isspmatrix_csr(q)\n",
    "\n",
    "        X = X.tocsc()[:, q.indices]\n",
    "        denom = X + (k1 * (1 - b + b * len_X / avdl))[:, None]\n",
    "        idf = self.vectorizer._tfidf.idf_[None, q.indices] - 1.\n",
    "        numer = X.multiply(np.broadcast_to(idf, X.shape)) * (k1 + 1)                                                          \n",
    "        return (numer / denom).sum(1).A1"
   ]
  },
  {
   "cell_type": "code",
   "execution_count": 22,
   "id": "432cf0d4",
   "metadata": {},
   "outputs": [],
   "source": [
    "bm25 = BM25()\n",
    "bm25.fit(food[\"Title\"].astype('U'))"
   ]
  },
  {
   "cell_type": "code",
   "execution_count": 23,
   "id": "a284594b",
   "metadata": {},
   "outputs": [],
   "source": [
    "def search_by_bm25(query):\n",
    "    result = bm25.transform(query,food[\"Title\"].astype('U'))\n",
    "    return result.argsort()[-5:][::-1]"
   ]
  },
  {
   "cell_type": "markdown",
   "id": "fcb5f507",
   "metadata": {},
   "source": [
    "## Search by Food Title ( by name) Feature"
   ]
  },
  {
   "cell_type": "code",
   "execution_count": 24,
   "id": "28554663",
   "metadata": {},
   "outputs": [
    {
     "name": "stdout",
     "output_type": "stream",
     "text": [
      "Sweet Tea\n",
      "English Cookies\n",
      "English Pancakes\n",
      "Sweet Peach Tea\n",
      "Mint Tea\n"
     ]
    }
   ],
   "source": [
    "for i in serach_by_tf_idf(\"sweet english tea\") :\n",
    "    print(food.iloc[i]['Title'])"
   ]
  },
  {
   "cell_type": "code",
   "execution_count": 25,
   "id": "82d52412",
   "metadata": {},
   "outputs": [
    {
     "name": "stdout",
     "output_type": "stream",
     "text": [
      "Fish Taco Platter\n",
      "Guacamole Taquero: Taco-Shop Guacamole\n",
      "Guajillo-Braised Beef Short Rib Taco\n",
      "Butternut Squash, Kale, and Crunchy Pepitas Taco\n",
      "Mushroom, Rajas, and Corn Taco with Queso Fresco\n"
     ]
    }
   ],
   "source": [
    "for i in search_by_bm25(\"taco kabub\") :\n",
    "    print(food.iloc[i]['Title'])"
   ]
  },
  {
   "cell_type": "markdown",
   "id": "7014943c",
   "metadata": {},
   "source": [
    "## Search By Ingredient Feature"
   ]
  },
  {
   "cell_type": "markdown",
   "id": "11204322",
   "metadata": {},
   "source": [
    "### Check answer"
   ]
  },
  {
   "cell_type": "code",
   "execution_count": 26,
   "id": "52737087",
   "metadata": {},
   "outputs": [
    {
     "name": "stdout",
     "output_type": "stream",
     "text": [
      "3883    ['1 3–4 pound country style pork ribs, also kn...\n",
      "Name: Cleaned_Ingredients, dtype: object\n"
     ]
    }
   ],
   "source": [
    "ingre = food[food.Title == \"Crock Pot Ribs\"][\"Cleaned_Ingredients\"]\n",
    "print(ingre)"
   ]
  },
  {
   "cell_type": "code",
   "execution_count": 27,
   "id": "daacc3eb",
   "metadata": {},
   "outputs": [
    {
     "name": "stdout",
     "output_type": "stream",
     "text": [
      "'1 3–4 pound country style pork ribs\n",
      " also known as baby back ribs (about 2 racks)'\n",
      " '1 teaspoon salt'\n",
      " '1 cup bbq sauce plus additional for serving'\n"
     ]
    }
   ],
   "source": [
    "check = food.iloc[3883][\"Cleaned_Ingredients\"].split(',')\n",
    "check[0] = check[0].replace('[','')\n",
    "check[-1] = check[-1].replace(']','')\n",
    "for i in check :\n",
    "    print(i)"
   ]
  },
  {
   "cell_type": "code",
   "execution_count": 28,
   "id": "5b7357f1",
   "metadata": {},
   "outputs": [],
   "source": [
    "bm25_ingr = BM25()\n",
    "bm25_ingr.fit(food[\"Cleaned_Ingredients\"].astype('U'))"
   ]
  },
  {
   "cell_type": "code",
   "execution_count": 29,
   "id": "0c0ec13d",
   "metadata": {},
   "outputs": [],
   "source": [
    "vectorizer = TfidfVectorizer(ngram_range=(1,3))\n",
    "X_ingr = vectorizer.fit_transform(food[\"Cleaned_Ingredients\"].astype('U'))"
   ]
  },
  {
   "cell_type": "code",
   "execution_count": 30,
   "id": "6af3b744",
   "metadata": {},
   "outputs": [],
   "source": [
    "def serach_ingre_tf_idf(query):\n",
    "    query_vec = vectorizer.transform([query])\n",
    "    results = cosine_similarity(X_ingr,query_vec).reshape((-1,))\n",
    "    return results.argsort()[-5:][::-1]"
   ]
  },
  {
   "cell_type": "code",
   "execution_count": 31,
   "id": "cc3b0f0f",
   "metadata": {},
   "outputs": [],
   "source": [
    "def search_ingre_bm25(query):\n",
    "    result = bm25.transform(query,food[\"Cleaned_Ingredients\"].astype('U'))\n",
    "    return result.argsort()[-5:][::-1]"
   ]
  },
  {
   "cell_type": "code",
   "execution_count": 32,
   "id": "c972642a",
   "metadata": {},
   "outputs": [
    {
     "name": "stdout",
     "output_type": "stream",
     "text": [
      "Cassoulet in the Style of Toulouse (Cassoulet de Toulouse)\n",
      "James Beard's Roasted Spareribs\n",
      "Porchetta\n",
      "Carnitas: Braised and Fried Pork\n",
      "Slow-Cooked Carnitas Tacos\n"
     ]
    }
   ],
   "source": [
    "for i in serach_ingre_tf_idf(\"pork\") :\n",
    "    print(food.iloc[i]['Title'])"
   ]
  },
  {
   "cell_type": "code",
   "execution_count": 33,
   "id": "a7d4a57d",
   "metadata": {},
   "outputs": [
    {
     "name": "stdout",
     "output_type": "stream",
     "text": [
      "James Beard's Roasted Spareribs\n",
      "Chicharrón Casera\n",
      "Dan Barber's Pork Belly\n",
      "Porchetta\n",
      "Grilled Pork Tenderloin with Molasses and Mustard\n"
     ]
    }
   ],
   "source": [
    "for i in search_ingre_bm25(\"pork\") :\n",
    "    print(food.iloc[i]['Title'])"
   ]
  },
  {
   "cell_type": "code",
   "execution_count": 43,
   "id": "80ecfa23",
   "metadata": {},
   "outputs": [],
   "source": [
    "# Return data"
   ]
  },
  {
   "cell_type": "code",
   "execution_count": 34,
   "id": "21d91b28",
   "metadata": {},
   "outputs": [],
   "source": [
    "food_ingredients = food "
   ]
  },
  {
   "cell_type": "code",
   "execution_count": 35,
   "id": "f4fdffbe",
   "metadata": {},
   "outputs": [],
   "source": [
    "    food_ingredients = food_ingredients.rename(columns={'Unnamed: 0' : 'id'})\n",
    "#     food_ingredients.drop('Ingredients',axis='columns',inplace=True)\n",
    "    food_ingredients[\"Cleaned_Ingredients\"] = food_ingredients[\"Cleaned_Ingredients\"] .map(lambda x: str(x).lstrip('[').rstrip(']'))"
   ]
  },
  {
   "cell_type": "code",
   "execution_count": 36,
   "id": "361589ca",
   "metadata": {},
   "outputs": [
    {
     "data": {
      "text/html": [
       "<div>\n",
       "<style scoped>\n",
       "    .dataframe tbody tr th:only-of-type {\n",
       "        vertical-align: middle;\n",
       "    }\n",
       "\n",
       "    .dataframe tbody tr th {\n",
       "        vertical-align: top;\n",
       "    }\n",
       "\n",
       "    .dataframe thead th {\n",
       "        text-align: right;\n",
       "    }\n",
       "</style>\n",
       "<table border=\"1\" class=\"dataframe\">\n",
       "  <thead>\n",
       "    <tr style=\"text-align: right;\">\n",
       "      <th></th>\n",
       "      <th>Title</th>\n",
       "      <th>Instructions</th>\n",
       "      <th>Image_Name</th>\n",
       "      <th>Cleaned_Ingredients</th>\n",
       "    </tr>\n",
       "  </thead>\n",
       "  <tbody>\n",
       "    <tr>\n",
       "      <th>0</th>\n",
       "      <td>Miso-Butter Roast Chicken With Acorn Squash Pa...</td>\n",
       "      <td>Pat chicken dry with paper towels, season all ...</td>\n",
       "      <td>miso-butter-roast-chicken-acorn-squash-panzanella</td>\n",
       "      <td>'1 (3½–4-lb.) whole chicken', '2¾ tsp. kosher ...</td>\n",
       "    </tr>\n",
       "    <tr>\n",
       "      <th>1</th>\n",
       "      <td>Crispy Salt and Pepper Potatoes</td>\n",
       "      <td>Preheat oven to 400°F and line a rimmed baking...</td>\n",
       "      <td>crispy-salt-and-pepper-potatoes-dan-kluger</td>\n",
       "      <td>'2 large egg whites', '1 pound new potatoes (a...</td>\n",
       "    </tr>\n",
       "    <tr>\n",
       "      <th>2</th>\n",
       "      <td>Thanksgiving Mac and Cheese</td>\n",
       "      <td>Place a rack in middle of oven; preheat to 400...</td>\n",
       "      <td>thanksgiving-mac-and-cheese-erick-williams</td>\n",
       "      <td>'1 cup evaporated milk', '1 cup whole milk', '...</td>\n",
       "    </tr>\n",
       "    <tr>\n",
       "      <th>3</th>\n",
       "      <td>Italian Sausage and Bread Stuffing</td>\n",
       "      <td>Preheat oven to 350°F with rack in middle. Gen...</td>\n",
       "      <td>italian-sausage-and-bread-stuffing-240559</td>\n",
       "      <td>'1 (¾- to 1-pound) round Italian loaf, cut int...</td>\n",
       "    </tr>\n",
       "    <tr>\n",
       "      <th>4</th>\n",
       "      <td>Newton's Law</td>\n",
       "      <td>Stir together brown sugar and hot water in a c...</td>\n",
       "      <td>newtons-law-apple-bourbon-cocktail</td>\n",
       "      <td>'1 teaspoon dark brown sugar', '1 teaspoon hot...</td>\n",
       "    </tr>\n",
       "    <tr>\n",
       "      <th>...</th>\n",
       "      <td>...</td>\n",
       "      <td>...</td>\n",
       "      <td>...</td>\n",
       "      <td>...</td>\n",
       "    </tr>\n",
       "    <tr>\n",
       "      <th>13496</th>\n",
       "      <td>Brownie Pudding Cake</td>\n",
       "      <td>Preheat the oven to 350°F. Into a bowl sift to...</td>\n",
       "      <td>brownie-pudding-cake-14408</td>\n",
       "      <td>'1 cup all-purpose flour', '2/3 cup unsweetene...</td>\n",
       "    </tr>\n",
       "    <tr>\n",
       "      <th>13497</th>\n",
       "      <td>Israeli Couscous with Roasted Butternut Squash...</td>\n",
       "      <td>Preheat oven to 475°F.\\nHalve lemons and scoop...</td>\n",
       "      <td>israeli-couscous-with-roasted-butternut-squash...</td>\n",
       "      <td>'1 preserved lemon', '1 1/2 pound butternut sq...</td>\n",
       "    </tr>\n",
       "    <tr>\n",
       "      <th>13498</th>\n",
       "      <td>Rice with Soy-Glazed Bonito Flakes and Sesame ...</td>\n",
       "      <td>If using katsuo bushi flakes from package, moi...</td>\n",
       "      <td>rice-with-soy-glazed-bonito-flakes-and-sesame-...</td>\n",
       "      <td>'Leftover katsuo bushi (dried bonito flakes) f...</td>\n",
       "    </tr>\n",
       "    <tr>\n",
       "      <th>13499</th>\n",
       "      <td>Spanakopita</td>\n",
       "      <td>Melt 1 tablespoon butter in a 12-inch heavy sk...</td>\n",
       "      <td>spanakopita-107344</td>\n",
       "      <td>'1 stick (1/2 cup) plus 1 tablespoon unsalted ...</td>\n",
       "    </tr>\n",
       "    <tr>\n",
       "      <th>13500</th>\n",
       "      <td>Mexican Poblano, Spinach, and Black Bean \"Lasa...</td>\n",
       "      <td>Lay 4 chiles on their sides on racks of gas bu...</td>\n",
       "      <td>mexican-poblano-spinach-and-black-bean-lasagne...</td>\n",
       "      <td>'12 medium to large fresh poblano chiles (2 1/...</td>\n",
       "    </tr>\n",
       "  </tbody>\n",
       "</table>\n",
       "<p>13501 rows × 4 columns</p>\n",
       "</div>"
      ],
      "text/plain": [
       "                                                   Title  \\\n",
       "0      Miso-Butter Roast Chicken With Acorn Squash Pa...   \n",
       "1                        Crispy Salt and Pepper Potatoes   \n",
       "2                            Thanksgiving Mac and Cheese   \n",
       "3                     Italian Sausage and Bread Stuffing   \n",
       "4                                           Newton's Law   \n",
       "...                                                  ...   \n",
       "13496                               Brownie Pudding Cake   \n",
       "13497  Israeli Couscous with Roasted Butternut Squash...   \n",
       "13498  Rice with Soy-Glazed Bonito Flakes and Sesame ...   \n",
       "13499                                        Spanakopita   \n",
       "13500  Mexican Poblano, Spinach, and Black Bean \"Lasa...   \n",
       "\n",
       "                                            Instructions  \\\n",
       "0      Pat chicken dry with paper towels, season all ...   \n",
       "1      Preheat oven to 400°F and line a rimmed baking...   \n",
       "2      Place a rack in middle of oven; preheat to 400...   \n",
       "3      Preheat oven to 350°F with rack in middle. Gen...   \n",
       "4      Stir together brown sugar and hot water in a c...   \n",
       "...                                                  ...   \n",
       "13496  Preheat the oven to 350°F. Into a bowl sift to...   \n",
       "13497  Preheat oven to 475°F.\\nHalve lemons and scoop...   \n",
       "13498  If using katsuo bushi flakes from package, moi...   \n",
       "13499  Melt 1 tablespoon butter in a 12-inch heavy sk...   \n",
       "13500  Lay 4 chiles on their sides on racks of gas bu...   \n",
       "\n",
       "                                              Image_Name  \\\n",
       "0      miso-butter-roast-chicken-acorn-squash-panzanella   \n",
       "1             crispy-salt-and-pepper-potatoes-dan-kluger   \n",
       "2             thanksgiving-mac-and-cheese-erick-williams   \n",
       "3              italian-sausage-and-bread-stuffing-240559   \n",
       "4                     newtons-law-apple-bourbon-cocktail   \n",
       "...                                                  ...   \n",
       "13496                         brownie-pudding-cake-14408   \n",
       "13497  israeli-couscous-with-roasted-butternut-squash...   \n",
       "13498  rice-with-soy-glazed-bonito-flakes-and-sesame-...   \n",
       "13499                                 spanakopita-107344   \n",
       "13500  mexican-poblano-spinach-and-black-bean-lasagne...   \n",
       "\n",
       "                                     Cleaned_Ingredients  \n",
       "0      '1 (3½–4-lb.) whole chicken', '2¾ tsp. kosher ...  \n",
       "1      '2 large egg whites', '1 pound new potatoes (a...  \n",
       "2      '1 cup evaporated milk', '1 cup whole milk', '...  \n",
       "3      '1 (¾- to 1-pound) round Italian loaf, cut int...  \n",
       "4      '1 teaspoon dark brown sugar', '1 teaspoon hot...  \n",
       "...                                                  ...  \n",
       "13496  '1 cup all-purpose flour', '2/3 cup unsweetene...  \n",
       "13497  '1 preserved lemon', '1 1/2 pound butternut sq...  \n",
       "13498  'Leftover katsuo bushi (dried bonito flakes) f...  \n",
       "13499  '1 stick (1/2 cup) plus 1 tablespoon unsalted ...  \n",
       "13500  '12 medium to large fresh poblano chiles (2 1/...  \n",
       "\n",
       "[13501 rows x 4 columns]"
      ]
     },
     "execution_count": 36,
     "metadata": {},
     "output_type": "execute_result"
    }
   ],
   "source": [
    "food_ingredients"
   ]
  },
  {
   "cell_type": "code",
   "execution_count": 39,
   "id": "e2a8f49f",
   "metadata": {},
   "outputs": [],
   "source": [
    "return_data = []\n",
    "for i in range(len(food_ingredients)):\n",
    "    data = {\n",
    "        'id':i,\n",
    "        'Title':food_ingredients.iloc[i].to_dict()[\"Title\"],\n",
    "        'Instructions':[x for x in str(food_ingredients.iloc[i].to_dict()[\"Instructions\"]).split('.')],\n",
    "        'Image_Name':food_ingredients.iloc[i].to_dict()[\"Image_Name\"],\n",
    "        'Ingredients':[x for x in food_ingredients.iloc[i].to_dict()[\"Cleaned_Ingredients\"].split(',')],\n",
    "\n",
    "    }\n",
    "    return_data.append(json.dumps(data)) \n",
    "# return_data[:5]"
   ]
  },
  {
   "cell_type": "code",
   "execution_count": 40,
   "id": "dfbd1341",
   "metadata": {},
   "outputs": [
    {
     "data": {
      "text/plain": [
       "'{\"id\": 0, \"Title\": \"Miso-Butter Roast Chicken With Acorn Squash Panzanella\", \"Instructions\": [\"Pat chicken dry with paper towels, season all over with 2 tsp\", \" salt, and tie legs together with kitchen twine\", \" Let sit at room temperature 1 hour\", \"\\\\nMeanwhile, halve squash and scoop out seeds\", \" Run a vegetable peeler along ridges of squash halves to remove skin\", \" Cut each half into \\\\u00bd\\\\\"-thick wedges; arrange on a rimmed baking sheet\", \"\\\\nCombine sage, rosemary, and 6 Tbsp\", \" melted butter in a large bowl; pour half of mixture over squash on baking sheet\", \" Sprinkle squash with allspice, red pepper flakes, and \\\\u00bd tsp\", \" salt and season with black pepper; toss to coat\", \"\\\\nAdd bread, apples, oil, and \\\\u00bc tsp\", \" salt to remaining herb butter in bowl; season with black pepper and toss to combine\", \" Set aside\", \"\\\\nPlace onion and vinegar in a small bowl; season with salt and toss to coat\", \" Let sit, tossing occasionally, until ready to serve\", \"\\\\nPlace a rack in middle and lower third of oven; preheat to 425\\\\u00b0F\", \" Mix miso and 3 Tbsp\", \" room-temperature butter in a small bowl until smooth\", \" Pat chicken dry with paper towels, then rub or brush all over with miso butter\", \" Place chicken in a large cast-iron skillet and roast on middle rack until an instant-read thermometer inserted into the thickest part of breast registers 155\\\\u00b0F, 50\\\\u201360 minutes\", \" (Temperature will climb to 165\\\\u00b0F while chicken rests\", \") Let chicken rest in skillet at least 5 minutes, then transfer to a plate; reserve skillet\", \"\\\\nMeanwhile, roast squash on lower rack until mostly tender, about 25 minutes\", \" Remove from oven and scatter reserved bread mixture over, spreading into as even a layer as you can manage\", \" Return to oven and roast until bread is golden brown and crisp and apples are tender, about 15 minutes\", \" Remove from oven, drain pickled onions, and toss to combine\", \" Transfer to a serving dish\", \"\\\\nUsing your fingers, mash flour and butter in a small bowl to combine\", \"\\\\nSet reserved skillet with chicken drippings over medium heat\", \" You should have about \\\\u00bc cup, but a little over or under is all good\", \" (If you have significantly more, drain off and set excess aside\", \") Add wine and cook, stirring often and scraping up any browned bits with a wooden spoon, until bits are loosened and wine is reduced by about half (you should be able to smell the wine), about 2 minutes\", \" Add butter mixture; cook, stirring often, until a smooth paste forms, about 2 minutes\", \" Add broth and any reserved drippings and cook, stirring constantly, until combined and thickened, 6\\\\u20138 minutes\", \" Remove from heat and stir in miso\", \" Taste and season with salt and black pepper\", \"\\\\nServe chicken with gravy and squash panzanella alongside\", \"\"], \"Image_Name\": \"miso-butter-roast-chicken-acorn-squash-panzanella\", \"Ingredients\": [\"\\'1 (3\\\\u00bd\\\\u20134-lb.) whole chicken\\'\", \" \\'2\\\\u00be tsp. kosher salt\", \" divided\", \" plus more\\'\", \" \\'2 small acorn squash (about 3 lb. total)\\'\", \" \\'2 Tbsp. finely chopped sage\\'\", \" \\'1 Tbsp. finely chopped rosemary\\'\", \" \\'6 Tbsp. unsalted butter\", \" melted\", \" plus 3 Tbsp. room temperature\\'\", \" \\'\\\\u00bc tsp. ground allspice\\'\", \" \\'Pinch of crushed red pepper flakes\\'\", \" \\'Freshly ground black pepper\\'\", \" \\'\\\\u2153 loaf good-quality sturdy white bread\", \" torn into 1\\\\\" pieces (about 2\\\\u00bd cups)\\'\", \" \\'2 medium apples (such as Gala or Pink Lady; about 14 oz. total)\", \" cored\", \" cut into 1\\\\\" pieces\\'\", \" \\'2 Tbsp. extra-virgin olive oil\\'\", \" \\'\\\\u00bd small red onion\", \" thinly sliced\\'\", \" \\'3 Tbsp. apple cider vinegar\\'\", \" \\'1 Tbsp. white miso\\'\", \" \\'\\\\u00bc cup all-purpose flour\\'\", \" \\'2 Tbsp. unsalted butter\", \" room temperature\\'\", \" \\'\\\\u00bc cup dry white wine\\'\", \" \\'2 cups unsalted chicken broth\\'\", \" \\'2 tsp. white miso\\'\", \" \\'Kosher salt\\'\", \" \\'freshly ground pepper\\'\"]}'"
      ]
     },
     "execution_count": 40,
     "metadata": {},
     "output_type": "execute_result"
    }
   ],
   "source": [
    "return_data[0]"
   ]
  },
  {
   "cell_type": "markdown",
   "id": "d9612795",
   "metadata": {},
   "source": [
    "# Try search by tf idf and spell checking \n"
   ]
  },
  {
   "cell_type": "code",
   "execution_count": 41,
   "id": "7790ab39",
   "metadata": {},
   "outputs": [],
   "source": [
    "import ast"
   ]
  },
  {
   "cell_type": "code",
   "execution_count": 42,
   "id": "39a7751e",
   "metadata": {},
   "outputs": [],
   "source": [
    "def search_by_name_tfidf(query=\"Misoo butterr chickken\"):\n",
    "    misspelled = spell.unknown(query.split(\" \"))\n",
    "    if len(misspelled)==0:\n",
    "        searched_data = serach_by_tf_idf(query)[:10]\n",
    "        for i in searched_data:\n",
    "            print(ast.literal_eval(return_data[i])[\"Title\"])\n",
    "    else:\n",
    "        print(\"did you mean\",end=\" \")\n",
    "        for word in misspelled:\n",
    "            print(spell.correction(word),end=\" \")\n",
    "       "
   ]
  },
  {
   "cell_type": "code",
   "execution_count": 43,
   "id": "8cee8579",
   "metadata": {},
   "outputs": [
    {
     "name": "stdout",
     "output_type": "stream",
     "text": [
      "did you mean butter chicken miso "
     ]
    }
   ],
   "source": [
    "search_by_name_tfidf()"
   ]
  },
  {
   "cell_type": "markdown",
   "id": "5041b7e9",
   "metadata": {},
   "source": [
    "# search by ingredient with tfidf with spell checking"
   ]
  },
  {
   "cell_type": "code",
   "execution_count": 46,
   "id": "eb6697ee",
   "metadata": {},
   "outputs": [],
   "source": [
    "def search_by_ingre_tfidf(query=\"chicken\"):\n",
    "    misspelled = spell.unknown(query.split(\" \"))\n",
    "    if len(misspelled)==0:\n",
    "#         vectorizer = TfidfVectorizer(ngram_range=(1,3))\n",
    "#         X_ingr = vectorizer.fit_transform(food[\"Cleaned_Ingredients\"].astype('U'))\n",
    "        searched_data = serach_ingre_tf_idf(query)[:2]\n",
    "        for i in searched_data:\n",
    "            print(return_data[i])\n",
    "    else:\n",
    "        print(\"did you mean\",end=\" \")\n",
    "        for word in misspelled:\n",
    "            print(spell.correction(word),end=\" \")"
   ]
  },
  {
   "cell_type": "code",
   "execution_count": 47,
   "id": "f73e789f",
   "metadata": {},
   "outputs": [
    {
     "name": "stdout",
     "output_type": "stream",
     "text": [
      "{\"id\": 2599, \"Title\": \"Fully Salted Roast Chicken\", \"Instructions\": [\"Pat dry chicken with paper towels\", \" Holding a 5-finger pinch of salt and positioning your hand at least 10\\\" above chicken, evenly rain salt down over chicken\", \" Repeat with several more pinches of salt until both inside and outside of chicken are covered with salt (be generous and make sure to get inside all the nooks and crannies)\", \" Place chicken on a wire rack set inside a rimmed baking sheet and chill uncovered at least 8 hours and up to 1 day\", \"\\nLet sit at room temperature 1 hour\", \"\\nPreheat oven to 425\\u00b0F\", \" Roast chicken until an instant-read thermometer inserted into the thickest part of chicken thigh registers 165\\u00b0F, 40\\u201355 minutes\", \" Transfer chicken to a cutting board and let rest 15 minutes before carving\", \"\"], \"Image_Name\": \"fully-salted-roast-chicken\", \"Ingredients\": [\"'1 (3 1/2\\u20134-lb.) chicken'\", \" 'Kosher salt'\"]}\n",
      "{\"id\": 1398, \"Title\": \"Lentil and Chicken Soup with Sweet Potatoes and Escarole\", \"Instructions\": [\"Place chicken carcass, potatoes, lentils, and 1 tsp\", \" salt in a large pot\", \" Cover with 8 cups water\", \" Bring to a boil over high heat, skimming off any foam, then reduce heat to medium-low and simmer until potatoes are fork tender and lentils are cooked through, 10\\u201312 minutes\", \" Discard chicken carcass\", \"\\nMeanwhile, heat oil in a large heavy skillet over medium-high\", \" Add celery and garlic and cook, stirring often, until celery and garlic are lightly golden brown and tender, about 12 minutes\", \"\\nStir celery, garlic, shredded chicken, and escarole into soup and cook, stirring occasionally, until escarole is wilted, about 5 minutes\", \" Remove from heat\", \" Stir in dill and lemon juice; season soup with salt\", \"\"], \"Image_Name\": \"lentil-and-chicken-soup-with-sweet-potatoes-and-escarole\", \"Ingredients\": [\"'1 cooked chicken carcass (from 1 store-bought rotisserie chicken or homemade roast chicken)'\", \" '1 lb. sweet potatoes (about 2 medium)\", \" peeled\", \" cut into 1\\\" pieces'\", \" '3/4 cup French lentils (about 5 oz.)\", \" rinsed'\", \" '1 tsp. kosher salt\", \" plus more'\", \" '2 Tbsp. extra-virgin olive oil'\", \" '10 celery stalks\", \" sliced on the bias into 1/4\\\" slices'\", \" '6 garlic cloves\", \" thinly sliced'\", \" '1 1/2 cups shredded cooked chicken (from 1/2 of a store-bought rotisserie chicken or homemade roast chicken)'\", \" '1/2 head escarole\", \" cut into bite-size pieces'\", \" '1/2 cup finely chopped dill'\", \" '2 Tbsp. fresh lemon juice'\"]}\n"
     ]
    }
   ],
   "source": [
    "search_by_ingre_tfidf()"
   ]
  },
  {
   "cell_type": "markdown",
   "id": "4930748f",
   "metadata": {},
   "source": [
    "# SEARCH by Elasticsearch"
   ]
  },
  {
   "cell_type": "code",
   "execution_count": 167,
   "id": "53000011",
   "metadata": {},
   "outputs": [],
   "source": [
    "from elasticsearch import Elasticsearch\n"
   ]
  },
  {
   "cell_type": "code",
   "execution_count": 48,
   "id": "f9a3713c",
   "metadata": {},
   "outputs": [],
   "source": [
    "es = Elasticsearch(HOST=\"http://localhost\", PORT=9200)\n",
    "es = Elasticsearch()"
   ]
  },
  {
   "cell_type": "markdown",
   "id": "6bd6de93",
   "metadata": {},
   "source": [
    "# The Suggestion System using machine learning"
   ]
  },
  {
   "cell_type": "code",
   "execution_count": null,
   "id": "6b39b794",
   "metadata": {},
   "outputs": [],
   "source": []
  }
 ],
 "metadata": {
  "kernelspec": {
   "display_name": "Python 3 (ipykernel)",
   "language": "python",
   "name": "python3"
  },
  "language_info": {
   "codemirror_mode": {
    "name": "ipython",
    "version": 3
   },
   "file_extension": ".py",
   "mimetype": "text/x-python",
   "name": "python",
   "nbconvert_exporter": "python",
   "pygments_lexer": "ipython3",
   "version": "3.9.7"
  }
 },
 "nbformat": 4,
 "nbformat_minor": 5
}
